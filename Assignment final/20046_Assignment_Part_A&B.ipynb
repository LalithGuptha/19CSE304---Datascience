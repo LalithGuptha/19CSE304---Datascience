{
 "cells": [
  {
   "cell_type": "code",
   "execution_count": 193,
   "id": "772619c2",
   "metadata": {},
   "outputs": [],
   "source": [
    "import pandas as pd\n",
    "import numpy as np\n",
    "import matplotlib.pyplot as plt"
   ]
  },
  {
   "cell_type": "code",
   "execution_count": 194,
   "id": "5598ebd4",
   "metadata": {},
   "outputs": [],
   "source": [
    "df=pd.read_csv(\"births.csv\")"
   ]
  },
  {
   "cell_type": "code",
   "execution_count": 195,
   "id": "7f7558c3",
   "metadata": {},
   "outputs": [
    {
     "data": {
      "text/html": [
       "<div>\n",
       "<style scoped>\n",
       "    .dataframe tbody tr th:only-of-type {\n",
       "        vertical-align: middle;\n",
       "    }\n",
       "\n",
       "    .dataframe tbody tr th {\n",
       "        vertical-align: top;\n",
       "    }\n",
       "\n",
       "    .dataframe thead th {\n",
       "        text-align: right;\n",
       "    }\n",
       "</style>\n",
       "<table border=\"1\" class=\"dataframe\">\n",
       "  <thead>\n",
       "    <tr style=\"text-align: right;\">\n",
       "      <th></th>\n",
       "      <th>year</th>\n",
       "      <th>month</th>\n",
       "      <th>day</th>\n",
       "      <th>gender</th>\n",
       "      <th>births</th>\n",
       "    </tr>\n",
       "  </thead>\n",
       "  <tbody>\n",
       "    <tr>\n",
       "      <th>0</th>\n",
       "      <td>1969</td>\n",
       "      <td>1</td>\n",
       "      <td>1.0</td>\n",
       "      <td>F</td>\n",
       "      <td>4046</td>\n",
       "    </tr>\n",
       "    <tr>\n",
       "      <th>1</th>\n",
       "      <td>1969</td>\n",
       "      <td>1</td>\n",
       "      <td>1.0</td>\n",
       "      <td>M</td>\n",
       "      <td>4440</td>\n",
       "    </tr>\n",
       "    <tr>\n",
       "      <th>2</th>\n",
       "      <td>1969</td>\n",
       "      <td>1</td>\n",
       "      <td>2.0</td>\n",
       "      <td>F</td>\n",
       "      <td>4454</td>\n",
       "    </tr>\n",
       "    <tr>\n",
       "      <th>3</th>\n",
       "      <td>1969</td>\n",
       "      <td>1</td>\n",
       "      <td>2.0</td>\n",
       "      <td>M</td>\n",
       "      <td>4548</td>\n",
       "    </tr>\n",
       "    <tr>\n",
       "      <th>4</th>\n",
       "      <td>1969</td>\n",
       "      <td>1</td>\n",
       "      <td>3.0</td>\n",
       "      <td>F</td>\n",
       "      <td>4548</td>\n",
       "    </tr>\n",
       "    <tr>\n",
       "      <th>...</th>\n",
       "      <td>...</td>\n",
       "      <td>...</td>\n",
       "      <td>...</td>\n",
       "      <td>...</td>\n",
       "      <td>...</td>\n",
       "    </tr>\n",
       "    <tr>\n",
       "      <th>15542</th>\n",
       "      <td>2008</td>\n",
       "      <td>10</td>\n",
       "      <td>NaN</td>\n",
       "      <td>M</td>\n",
       "      <td>183219</td>\n",
       "    </tr>\n",
       "    <tr>\n",
       "      <th>15543</th>\n",
       "      <td>2008</td>\n",
       "      <td>11</td>\n",
       "      <td>NaN</td>\n",
       "      <td>F</td>\n",
       "      <td>158939</td>\n",
       "    </tr>\n",
       "    <tr>\n",
       "      <th>15544</th>\n",
       "      <td>2008</td>\n",
       "      <td>11</td>\n",
       "      <td>NaN</td>\n",
       "      <td>M</td>\n",
       "      <td>165468</td>\n",
       "    </tr>\n",
       "    <tr>\n",
       "      <th>15545</th>\n",
       "      <td>2008</td>\n",
       "      <td>12</td>\n",
       "      <td>NaN</td>\n",
       "      <td>F</td>\n",
       "      <td>173215</td>\n",
       "    </tr>\n",
       "    <tr>\n",
       "      <th>15546</th>\n",
       "      <td>2008</td>\n",
       "      <td>12</td>\n",
       "      <td>NaN</td>\n",
       "      <td>M</td>\n",
       "      <td>181235</td>\n",
       "    </tr>\n",
       "  </tbody>\n",
       "</table>\n",
       "<p>15547 rows × 5 columns</p>\n",
       "</div>"
      ],
      "text/plain": [
       "       year  month  day gender  births\n",
       "0      1969      1  1.0      F    4046\n",
       "1      1969      1  1.0      M    4440\n",
       "2      1969      1  2.0      F    4454\n",
       "3      1969      1  2.0      M    4548\n",
       "4      1969      1  3.0      F    4548\n",
       "...     ...    ...  ...    ...     ...\n",
       "15542  2008     10  NaN      M  183219\n",
       "15543  2008     11  NaN      F  158939\n",
       "15544  2008     11  NaN      M  165468\n",
       "15545  2008     12  NaN      F  173215\n",
       "15546  2008     12  NaN      M  181235\n",
       "\n",
       "[15547 rows x 5 columns]"
      ]
     },
     "execution_count": 195,
     "metadata": {},
     "output_type": "execute_result"
    }
   ],
   "source": [
    "df"
   ]
  },
  {
   "cell_type": "code",
   "execution_count": 196,
   "id": "0df4660c",
   "metadata": {},
   "outputs": [],
   "source": [
    "#Indexing\n",
    "#Missing value manipulation\n",
    "#concat\n",
    "#append\n",
    "#merge and join\n",
    "#aggregation\n",
    "#grouping\n",
    "#transform\n",
    "#apply\n",
    "#pivot tables"
   ]
  },
  {
   "cell_type": "markdown",
   "id": "da6fe7fe",
   "metadata": {},
   "source": [
    "<h2>PART-A</h2>"
   ]
  },
  {
   "cell_type": "markdown",
   "id": "0e763b6d",
   "metadata": {},
   "source": [
    "<p><b>Indexing</b></p>"
   ]
  },
  {
   "cell_type": "code",
   "execution_count": 197,
   "id": "de7699a9",
   "metadata": {},
   "outputs": [],
   "source": [
    "#Slicing like arrays\n",
    "df_1=df[:]\n",
    "#Slicing by rows\n",
    "df_2=df[:15544]\n",
    "#Slicing by columns\n",
    "df_3=df_2.iloc[:,0:3]\n",
    "#slicing by rows\n",
    "df_4=df[15544:15547]\n",
    "#slicing by columns\n",
    "df_5=df_2.iloc[:,3:]\n",
    "#slicing by columns\n",
    "df_6=df_4.iloc[:,3:]\n",
    "#slicing by columns\n",
    "df_7=df_4.iloc[:,0:3]"
   ]
  },
  {
   "cell_type": "code",
   "execution_count": 198,
   "id": "a12a5bee",
   "metadata": {},
   "outputs": [
    {
     "data": {
      "text/plain": [
       "(15547, 5)"
      ]
     },
     "execution_count": 198,
     "metadata": {},
     "output_type": "execute_result"
    }
   ],
   "source": [
    "df_1.shape"
   ]
  },
  {
   "cell_type": "code",
   "execution_count": 199,
   "id": "e3cdabfd",
   "metadata": {},
   "outputs": [
    {
     "data": {
      "text/plain": [
       "(15544, 5)"
      ]
     },
     "execution_count": 199,
     "metadata": {},
     "output_type": "execute_result"
    }
   ],
   "source": [
    "df_2.shape"
   ]
  },
  {
   "cell_type": "code",
   "execution_count": 200,
   "id": "594c40c2",
   "metadata": {},
   "outputs": [
    {
     "data": {
      "text/plain": [
       "(15544, 3)"
      ]
     },
     "execution_count": 200,
     "metadata": {},
     "output_type": "execute_result"
    }
   ],
   "source": [
    "df_3.shape"
   ]
  },
  {
   "cell_type": "code",
   "execution_count": 201,
   "id": "913019da",
   "metadata": {},
   "outputs": [
    {
     "data": {
      "text/plain": [
       "(3, 5)"
      ]
     },
     "execution_count": 201,
     "metadata": {},
     "output_type": "execute_result"
    }
   ],
   "source": [
    "df_4.shape"
   ]
  },
  {
   "cell_type": "code",
   "execution_count": 202,
   "id": "dfc30cda",
   "metadata": {},
   "outputs": [
    {
     "data": {
      "text/plain": [
       "(15544, 2)"
      ]
     },
     "execution_count": 202,
     "metadata": {},
     "output_type": "execute_result"
    }
   ],
   "source": [
    "df_5.shape"
   ]
  },
  {
   "cell_type": "code",
   "execution_count": 203,
   "id": "ceeb6771",
   "metadata": {},
   "outputs": [
    {
     "data": {
      "text/plain": [
       "(3, 2)"
      ]
     },
     "execution_count": 203,
     "metadata": {},
     "output_type": "execute_result"
    }
   ],
   "source": [
    "df_6.shape"
   ]
  },
  {
   "cell_type": "code",
   "execution_count": 204,
   "id": "6373aa38",
   "metadata": {},
   "outputs": [
    {
     "data": {
      "text/plain": [
       "(3, 3)"
      ]
     },
     "execution_count": 204,
     "metadata": {},
     "output_type": "execute_result"
    }
   ],
   "source": [
    "df_7.shape"
   ]
  },
  {
   "cell_type": "markdown",
   "id": "aaa9079e",
   "metadata": {},
   "source": [
    "<p><b>Missing value manipulation</b></p>"
   ]
  },
  {
   "cell_type": "code",
   "execution_count": 205,
   "id": "bedbdd8d",
   "metadata": {},
   "outputs": [],
   "source": [
    "#finding missing_values"
   ]
  },
  {
   "cell_type": "code",
   "execution_count": 206,
   "id": "c760d078",
   "metadata": {},
   "outputs": [
    {
     "data": {
      "text/plain": [
       "year        0\n",
       "month       0\n",
       "day       480\n",
       "gender      0\n",
       "births      0\n",
       "dtype: int64"
      ]
     },
     "execution_count": 206,
     "metadata": {},
     "output_type": "execute_result"
    }
   ],
   "source": [
    "df.isna().sum()"
   ]
  },
  {
   "cell_type": "code",
   "execution_count": 207,
   "id": "14d28744",
   "metadata": {},
   "outputs": [],
   "source": [
    "#manipulating missing values by dropping those rows"
   ]
  },
  {
   "cell_type": "code",
   "execution_count": 208,
   "id": "a71adac2",
   "metadata": {},
   "outputs": [],
   "source": [
    "new_df=df.dropna()"
   ]
  },
  {
   "cell_type": "code",
   "execution_count": 209,
   "id": "7466c450",
   "metadata": {},
   "outputs": [
    {
     "data": {
      "text/plain": [
       "year      0\n",
       "month     0\n",
       "day       0\n",
       "gender    0\n",
       "births    0\n",
       "dtype: int64"
      ]
     },
     "execution_count": 209,
     "metadata": {},
     "output_type": "execute_result"
    }
   ],
   "source": [
    "new_df.isna().sum()"
   ]
  },
  {
   "cell_type": "code",
   "execution_count": 210,
   "id": "52914e0a",
   "metadata": {},
   "outputs": [
    {
     "name": "stdout",
     "output_type": "stream",
     "text": [
      "Initial datatset size :  (15547, 5)\n",
      "After manipulation :  (15067, 5)\n"
     ]
    }
   ],
   "source": [
    "print(\"Initial datatset size : \",df.shape)\n",
    "print(\"After manipulation : \",new_df.shape)"
   ]
  },
  {
   "cell_type": "code",
   "execution_count": 211,
   "id": "4f4cc28b",
   "metadata": {},
   "outputs": [],
   "source": [
    "#manipulating missing values by replacing NaN with values"
   ]
  },
  {
   "cell_type": "code",
   "execution_count": 212,
   "id": "44831091",
   "metadata": {},
   "outputs": [],
   "source": [
    "#replace by 0\n",
    "new_df_1=df.fillna(0)\n",
    "#replace by mean\n",
    "new_df_2=df.fillna(df.day.mean())\n",
    "#replace by forward fill - rows\n",
    "new_df_3=df.fillna(method=\"ffill\",axis=0)\n",
    "#replace by forward fill - columns\n",
    "new_df_4=df.fillna(method=\"ffill\",axis=1)\n",
    "#replace by backward fill - rows\n",
    "new_df_5=df.fillna(method=\"bfill\",axis=0)\n",
    "#replace by backward fill - columns\n",
    "new_df_6=df.fillna(method=\"bfill\",axis=1)"
   ]
  },
  {
   "cell_type": "code",
   "execution_count": 213,
   "id": "f8114779",
   "metadata": {},
   "outputs": [
    {
     "data": {
      "text/plain": [
       "array([ 1.,  1.,  2., ..., nan, nan, nan])"
      ]
     },
     "execution_count": 213,
     "metadata": {},
     "output_type": "execute_result"
    }
   ],
   "source": [
    "df.day.values"
   ]
  },
  {
   "cell_type": "code",
   "execution_count": 214,
   "id": "c6c9c647",
   "metadata": {},
   "outputs": [
    {
     "data": {
      "text/plain": [
       "array([1., 1., 2., ..., 0., 0., 0.])"
      ]
     },
     "execution_count": 214,
     "metadata": {},
     "output_type": "execute_result"
    }
   ],
   "source": [
    "new_df_1.day.values"
   ]
  },
  {
   "cell_type": "code",
   "execution_count": 215,
   "id": "38ba13fa",
   "metadata": {},
   "outputs": [
    {
     "data": {
      "text/plain": [
       "array([ 1.        ,  1.        ,  2.        , ..., 17.76989447,\n",
       "       17.76989447, 17.76989447])"
      ]
     },
     "execution_count": 215,
     "metadata": {},
     "output_type": "execute_result"
    }
   ],
   "source": [
    "new_df_2.day.values"
   ]
  },
  {
   "cell_type": "code",
   "execution_count": 216,
   "id": "119ec76d",
   "metadata": {},
   "outputs": [
    {
     "data": {
      "text/plain": [
       "array([ 1.,  1.,  2., ..., 31., 31., 31.])"
      ]
     },
     "execution_count": 216,
     "metadata": {},
     "output_type": "execute_result"
    }
   ],
   "source": [
    "new_df_3.day.values"
   ]
  },
  {
   "cell_type": "code",
   "execution_count": 217,
   "id": "cbe75af1",
   "metadata": {},
   "outputs": [
    {
     "data": {
      "text/plain": [
       "array([1.0, 1.0, 2.0, ..., 11, 12, 12], dtype=object)"
      ]
     },
     "execution_count": 217,
     "metadata": {},
     "output_type": "execute_result"
    }
   ],
   "source": [
    "new_df_4.day.values"
   ]
  },
  {
   "cell_type": "code",
   "execution_count": 218,
   "id": "02885d0d",
   "metadata": {},
   "outputs": [
    {
     "data": {
      "text/plain": [
       "array([ 1.,  1.,  2., ..., nan, nan, nan])"
      ]
     },
     "execution_count": 218,
     "metadata": {},
     "output_type": "execute_result"
    }
   ],
   "source": [
    "new_df_5.day.values\n",
    "#we will get nan values because the values below the nan are also nan in this dataset"
   ]
  },
  {
   "cell_type": "code",
   "execution_count": 219,
   "id": "837df6ac",
   "metadata": {},
   "outputs": [
    {
     "data": {
      "text/plain": [
       "array([1.0, 1.0, 2.0, ..., 'M', 'F', 'M'], dtype=object)"
      ]
     },
     "execution_count": 219,
     "metadata": {},
     "output_type": "execute_result"
    }
   ],
   "source": [
    "new_df_6.day.values"
   ]
  },
  {
   "cell_type": "markdown",
   "id": "cb7aeea3",
   "metadata": {},
   "source": [
    "<p><b>Concat and Joins</b></p>"
   ]
  },
  {
   "cell_type": "code",
   "execution_count": 220,
   "id": "d143e274",
   "metadata": {},
   "outputs": [
    {
     "name": "stdout",
     "output_type": "stream",
     "text": [
      "Concat gives the flexibility to join based on the axis( all rows or all columns)\n"
     ]
    }
   ],
   "source": [
    "print(\"Concat gives the flexibility to join based on the axis( all rows or all columns)\")"
   ]
  },
  {
   "cell_type": "code",
   "execution_count": 221,
   "id": "7196bcc7",
   "metadata": {},
   "outputs": [
    {
     "name": "stdout",
     "output_type": "stream",
     "text": [
      "Concat - Inner Join \n",
      "\n",
      "\n",
      "Inner Join (w.r.t set A and set B) ==> A intersection B\n",
      "\n",
      "\n",
      "Example - \n",
      "\n",
      "Dataframe A : \n",
      "\n",
      "   year  month  day\n",
      "0  1969      1  1.0\n",
      "1  1969      1  1.0\n",
      "2  1969      1  2.0\n",
      "3  1969      1  2.0\n",
      "4  1969      1  3.0\n",
      "\n",
      "Dataframe B : \n",
      "\n",
      "   day gender  births\n",
      "0  1.0      F    4046\n",
      "1  1.0      M    4440\n",
      "2  2.0      F    4454\n",
      "3  2.0      M    4548\n",
      "4  3.0      F    4548\n",
      "\n",
      "Concatenated result (using Inner Join) :\n",
      "   day\n",
      "0  1.0\n",
      "1  1.0\n",
      "2  2.0\n",
      "3  2.0\n",
      "4  3.0\n"
     ]
    }
   ],
   "source": [
    "print(\"Concat - Inner Join \")\n",
    "print(\"\")\n",
    "print(\"\")\n",
    "print(\"Inner Join (w.r.t set A and set B) ==> A intersection B\")\n",
    "print(\"\")\n",
    "print(\"\")\n",
    "print(\"Example - \")\n",
    "print(\"\")\n",
    "print(\"Dataframe A : \")\n",
    "print(\"\")\n",
    "print(df.iloc[:,0:3].head())\n",
    "print(\"\")\n",
    "print(\"Dataframe B : \")\n",
    "print(\"\")\n",
    "print(df.iloc[:,2:5].head())\n",
    "print(\"\")\n",
    "print(\"Concatenated result (using Inner Join) :\")\n",
    "print(pd.concat((df.iloc[:,0:3],df.iloc[:,2:5]),join=\"inner\").head())"
   ]
  },
  {
   "cell_type": "code",
   "execution_count": 222,
   "id": "e84bde27",
   "metadata": {},
   "outputs": [
    {
     "name": "stdout",
     "output_type": "stream",
     "text": [
      "Concat - Full Outer Join \n",
      "\n",
      "\n",
      "Inner Join (w.r.t set A and set B) ==> A union B \n",
      "\n",
      "\n",
      "Example - \n",
      "\n",
      "Dataframe A : \n",
      "\n",
      "   year  month  day gender  births\n",
      "0  1969      1  1.0      F    4046\n",
      "1  1969      1  1.0      M    4440\n",
      "2  1969      1  2.0      F    4454\n",
      "3  1969      1  2.0      M    4548\n",
      "4  1969      1  3.0      F    4548\n",
      "\n",
      "Dataframe B : \n",
      "\n",
      "   year  month  day\n",
      "0  1969      1  1.0\n",
      "1  1969      1  1.0\n",
      "2  1969      1  2.0\n",
      "3  1969      1  2.0\n",
      "4  1969      1  3.0\n",
      "\n",
      "Concatenated result (using Outer Join) :\n",
      "   year  month  day gender  births\n",
      "0  1969      1  1.0      F  4046.0\n",
      "1  1969      1  1.0      M  4440.0\n",
      "2  1969      1  2.0      F  4454.0\n",
      "3  1969      1  2.0      M  4548.0\n",
      "4  1969      1  3.0      F  4548.0\n"
     ]
    }
   ],
   "source": [
    "print(\"Concat - Full Outer Join \")\n",
    "print(\"\")\n",
    "print(\"\")\n",
    "print(\"Inner Join (w.r.t set A and set B) ==> A union B \")\n",
    "print(\"\")\n",
    "print(\"\")\n",
    "print(\"Example - \")\n",
    "print(\"\")\n",
    "print(\"Dataframe A : \")\n",
    "print(\"\")\n",
    "print(df.head())\n",
    "print(\"\")\n",
    "print(\"Dataframe B : \")\n",
    "print(\"\")\n",
    "print(df.iloc[:,0:3].head())\n",
    "print(\"\")\n",
    "print(\"Concatenated result (using Outer Join) :\")\n",
    "print(pd.concat((df,df.iloc[:,0:3]),join=\"outer\").head())"
   ]
  },
  {
   "cell_type": "markdown",
   "id": "2ffef0c6",
   "metadata": {},
   "source": [
    "<p><b>Merge and Joins</b></p>"
   ]
  },
  {
   "cell_type": "code",
   "execution_count": 223,
   "id": "2b25f620",
   "metadata": {},
   "outputs": [
    {
     "name": "stdout",
     "output_type": "stream",
     "text": [
      "Merge is based on any particular column each of the two dataframes, this columns are variables on like 'left_on', 'right_on', 'on'\n"
     ]
    }
   ],
   "source": [
    "print(\"Merge is based on any particular column each of the two dataframes, this columns are variables on like 'left_on', 'right_on', 'on'\")"
   ]
  },
  {
   "cell_type": "code",
   "execution_count": 224,
   "id": "5a24f178",
   "metadata": {},
   "outputs": [
    {
     "data": {
      "text/html": [
       "<div>\n",
       "<style scoped>\n",
       "    .dataframe tbody tr th:only-of-type {\n",
       "        vertical-align: middle;\n",
       "    }\n",
       "\n",
       "    .dataframe tbody tr th {\n",
       "        vertical-align: top;\n",
       "    }\n",
       "\n",
       "    .dataframe thead th {\n",
       "        text-align: right;\n",
       "    }\n",
       "</style>\n",
       "<table border=\"1\" class=\"dataframe\">\n",
       "  <thead>\n",
       "    <tr style=\"text-align: right;\">\n",
       "      <th></th>\n",
       "      <th>year_x</th>\n",
       "      <th>month</th>\n",
       "      <th>day_x</th>\n",
       "      <th>gender</th>\n",
       "      <th>births</th>\n",
       "      <th>year_y</th>\n",
       "      <th>day_y</th>\n",
       "    </tr>\n",
       "  </thead>\n",
       "  <tbody>\n",
       "    <tr>\n",
       "      <th>0</th>\n",
       "      <td>1969</td>\n",
       "      <td>1</td>\n",
       "      <td>1.0</td>\n",
       "      <td>F</td>\n",
       "      <td>4046</td>\n",
       "      <td>1969</td>\n",
       "      <td>1.0</td>\n",
       "    </tr>\n",
       "    <tr>\n",
       "      <th>1</th>\n",
       "      <td>1969</td>\n",
       "      <td>1</td>\n",
       "      <td>1.0</td>\n",
       "      <td>F</td>\n",
       "      <td>4046</td>\n",
       "      <td>1969</td>\n",
       "      <td>1.0</td>\n",
       "    </tr>\n",
       "    <tr>\n",
       "      <th>2</th>\n",
       "      <td>1969</td>\n",
       "      <td>1</td>\n",
       "      <td>1.0</td>\n",
       "      <td>F</td>\n",
       "      <td>4046</td>\n",
       "      <td>1969</td>\n",
       "      <td>2.0</td>\n",
       "    </tr>\n",
       "    <tr>\n",
       "      <th>3</th>\n",
       "      <td>1969</td>\n",
       "      <td>1</td>\n",
       "      <td>1.0</td>\n",
       "      <td>F</td>\n",
       "      <td>4046</td>\n",
       "      <td>1969</td>\n",
       "      <td>2.0</td>\n",
       "    </tr>\n",
       "    <tr>\n",
       "      <th>4</th>\n",
       "      <td>1969</td>\n",
       "      <td>1</td>\n",
       "      <td>1.0</td>\n",
       "      <td>F</td>\n",
       "      <td>4046</td>\n",
       "      <td>1969</td>\n",
       "      <td>3.0</td>\n",
       "    </tr>\n",
       "    <tr>\n",
       "      <th>...</th>\n",
       "      <td>...</td>\n",
       "      <td>...</td>\n",
       "      <td>...</td>\n",
       "      <td>...</td>\n",
       "      <td>...</td>\n",
       "      <td>...</td>\n",
       "      <td>...</td>\n",
       "    </tr>\n",
       "    <tr>\n",
       "      <th>20146786</th>\n",
       "      <td>2008</td>\n",
       "      <td>12</td>\n",
       "      <td>NaN</td>\n",
       "      <td>M</td>\n",
       "      <td>181235</td>\n",
       "      <td>2006</td>\n",
       "      <td>NaN</td>\n",
       "    </tr>\n",
       "    <tr>\n",
       "      <th>20146787</th>\n",
       "      <td>2008</td>\n",
       "      <td>12</td>\n",
       "      <td>NaN</td>\n",
       "      <td>M</td>\n",
       "      <td>181235</td>\n",
       "      <td>2007</td>\n",
       "      <td>NaN</td>\n",
       "    </tr>\n",
       "    <tr>\n",
       "      <th>20146788</th>\n",
       "      <td>2008</td>\n",
       "      <td>12</td>\n",
       "      <td>NaN</td>\n",
       "      <td>M</td>\n",
       "      <td>181235</td>\n",
       "      <td>2007</td>\n",
       "      <td>NaN</td>\n",
       "    </tr>\n",
       "    <tr>\n",
       "      <th>20146789</th>\n",
       "      <td>2008</td>\n",
       "      <td>12</td>\n",
       "      <td>NaN</td>\n",
       "      <td>M</td>\n",
       "      <td>181235</td>\n",
       "      <td>2008</td>\n",
       "      <td>NaN</td>\n",
       "    </tr>\n",
       "    <tr>\n",
       "      <th>20146790</th>\n",
       "      <td>2008</td>\n",
       "      <td>12</td>\n",
       "      <td>NaN</td>\n",
       "      <td>M</td>\n",
       "      <td>181235</td>\n",
       "      <td>2008</td>\n",
       "      <td>NaN</td>\n",
       "    </tr>\n",
       "  </tbody>\n",
       "</table>\n",
       "<p>20146791 rows × 7 columns</p>\n",
       "</div>"
      ],
      "text/plain": [
       "          year_x  month  day_x gender  births  year_y  day_y\n",
       "0           1969      1    1.0      F    4046    1969    1.0\n",
       "1           1969      1    1.0      F    4046    1969    1.0\n",
       "2           1969      1    1.0      F    4046    1969    2.0\n",
       "3           1969      1    1.0      F    4046    1969    2.0\n",
       "4           1969      1    1.0      F    4046    1969    3.0\n",
       "...          ...    ...    ...    ...     ...     ...    ...\n",
       "20146786    2008     12    NaN      M  181235    2006    NaN\n",
       "20146787    2008     12    NaN      M  181235    2007    NaN\n",
       "20146788    2008     12    NaN      M  181235    2007    NaN\n",
       "20146789    2008     12    NaN      M  181235    2008    NaN\n",
       "20146790    2008     12    NaN      M  181235    2008    NaN\n",
       "\n",
       "[20146791 rows x 7 columns]"
      ]
     },
     "execution_count": 224,
     "metadata": {},
     "output_type": "execute_result"
    }
   ],
   "source": [
    "pd.merge(df,df.iloc[:,0:3],how='inner',on=\"month\")"
   ]
  },
  {
   "cell_type": "code",
   "execution_count": 225,
   "id": "dc0c423d",
   "metadata": {},
   "outputs": [
    {
     "data": {
      "text/html": [
       "<div>\n",
       "<style scoped>\n",
       "    .dataframe tbody tr th:only-of-type {\n",
       "        vertical-align: middle;\n",
       "    }\n",
       "\n",
       "    .dataframe tbody tr th {\n",
       "        vertical-align: top;\n",
       "    }\n",
       "\n",
       "    .dataframe thead th {\n",
       "        text-align: right;\n",
       "    }\n",
       "</style>\n",
       "<table border=\"1\" class=\"dataframe\">\n",
       "  <thead>\n",
       "    <tr style=\"text-align: right;\">\n",
       "      <th></th>\n",
       "      <th>year_x</th>\n",
       "      <th>month</th>\n",
       "      <th>day_x</th>\n",
       "      <th>gender</th>\n",
       "      <th>births</th>\n",
       "      <th>year_y</th>\n",
       "      <th>day_y</th>\n",
       "    </tr>\n",
       "  </thead>\n",
       "  <tbody>\n",
       "    <tr>\n",
       "      <th>0</th>\n",
       "      <td>1969</td>\n",
       "      <td>1</td>\n",
       "      <td>1.0</td>\n",
       "      <td>F</td>\n",
       "      <td>4046</td>\n",
       "      <td>1969</td>\n",
       "      <td>1.0</td>\n",
       "    </tr>\n",
       "    <tr>\n",
       "      <th>1</th>\n",
       "      <td>1969</td>\n",
       "      <td>1</td>\n",
       "      <td>1.0</td>\n",
       "      <td>F</td>\n",
       "      <td>4046</td>\n",
       "      <td>1969</td>\n",
       "      <td>1.0</td>\n",
       "    </tr>\n",
       "    <tr>\n",
       "      <th>2</th>\n",
       "      <td>1969</td>\n",
       "      <td>1</td>\n",
       "      <td>1.0</td>\n",
       "      <td>F</td>\n",
       "      <td>4046</td>\n",
       "      <td>1969</td>\n",
       "      <td>2.0</td>\n",
       "    </tr>\n",
       "    <tr>\n",
       "      <th>3</th>\n",
       "      <td>1969</td>\n",
       "      <td>1</td>\n",
       "      <td>1.0</td>\n",
       "      <td>F</td>\n",
       "      <td>4046</td>\n",
       "      <td>1969</td>\n",
       "      <td>2.0</td>\n",
       "    </tr>\n",
       "    <tr>\n",
       "      <th>4</th>\n",
       "      <td>1969</td>\n",
       "      <td>1</td>\n",
       "      <td>1.0</td>\n",
       "      <td>F</td>\n",
       "      <td>4046</td>\n",
       "      <td>1969</td>\n",
       "      <td>3.0</td>\n",
       "    </tr>\n",
       "    <tr>\n",
       "      <th>...</th>\n",
       "      <td>...</td>\n",
       "      <td>...</td>\n",
       "      <td>...</td>\n",
       "      <td>...</td>\n",
       "      <td>...</td>\n",
       "      <td>...</td>\n",
       "      <td>...</td>\n",
       "    </tr>\n",
       "    <tr>\n",
       "      <th>20146786</th>\n",
       "      <td>2008</td>\n",
       "      <td>12</td>\n",
       "      <td>NaN</td>\n",
       "      <td>M</td>\n",
       "      <td>181235</td>\n",
       "      <td>2006</td>\n",
       "      <td>NaN</td>\n",
       "    </tr>\n",
       "    <tr>\n",
       "      <th>20146787</th>\n",
       "      <td>2008</td>\n",
       "      <td>12</td>\n",
       "      <td>NaN</td>\n",
       "      <td>M</td>\n",
       "      <td>181235</td>\n",
       "      <td>2007</td>\n",
       "      <td>NaN</td>\n",
       "    </tr>\n",
       "    <tr>\n",
       "      <th>20146788</th>\n",
       "      <td>2008</td>\n",
       "      <td>12</td>\n",
       "      <td>NaN</td>\n",
       "      <td>M</td>\n",
       "      <td>181235</td>\n",
       "      <td>2007</td>\n",
       "      <td>NaN</td>\n",
       "    </tr>\n",
       "    <tr>\n",
       "      <th>20146789</th>\n",
       "      <td>2008</td>\n",
       "      <td>12</td>\n",
       "      <td>NaN</td>\n",
       "      <td>M</td>\n",
       "      <td>181235</td>\n",
       "      <td>2008</td>\n",
       "      <td>NaN</td>\n",
       "    </tr>\n",
       "    <tr>\n",
       "      <th>20146790</th>\n",
       "      <td>2008</td>\n",
       "      <td>12</td>\n",
       "      <td>NaN</td>\n",
       "      <td>M</td>\n",
       "      <td>181235</td>\n",
       "      <td>2008</td>\n",
       "      <td>NaN</td>\n",
       "    </tr>\n",
       "  </tbody>\n",
       "</table>\n",
       "<p>20146791 rows × 7 columns</p>\n",
       "</div>"
      ],
      "text/plain": [
       "          year_x  month  day_x gender  births  year_y  day_y\n",
       "0           1969      1    1.0      F    4046    1969    1.0\n",
       "1           1969      1    1.0      F    4046    1969    1.0\n",
       "2           1969      1    1.0      F    4046    1969    2.0\n",
       "3           1969      1    1.0      F    4046    1969    2.0\n",
       "4           1969      1    1.0      F    4046    1969    3.0\n",
       "...          ...    ...    ...    ...     ...     ...    ...\n",
       "20146786    2008     12    NaN      M  181235    2006    NaN\n",
       "20146787    2008     12    NaN      M  181235    2007    NaN\n",
       "20146788    2008     12    NaN      M  181235    2007    NaN\n",
       "20146789    2008     12    NaN      M  181235    2008    NaN\n",
       "20146790    2008     12    NaN      M  181235    2008    NaN\n",
       "\n",
       "[20146791 rows x 7 columns]"
      ]
     },
     "execution_count": 225,
     "metadata": {},
     "output_type": "execute_result"
    }
   ],
   "source": [
    "pd.merge(df,df.iloc[:,0:3],how='left',on=\"month\")"
   ]
  },
  {
   "cell_type": "code",
   "execution_count": 226,
   "id": "37918548",
   "metadata": {},
   "outputs": [
    {
     "data": {
      "text/html": [
       "<div>\n",
       "<style scoped>\n",
       "    .dataframe tbody tr th:only-of-type {\n",
       "        vertical-align: middle;\n",
       "    }\n",
       "\n",
       "    .dataframe tbody tr th {\n",
       "        vertical-align: top;\n",
       "    }\n",
       "\n",
       "    .dataframe thead th {\n",
       "        text-align: right;\n",
       "    }\n",
       "</style>\n",
       "<table border=\"1\" class=\"dataframe\">\n",
       "  <thead>\n",
       "    <tr style=\"text-align: right;\">\n",
       "      <th></th>\n",
       "      <th>year_x</th>\n",
       "      <th>month</th>\n",
       "      <th>day_x</th>\n",
       "      <th>gender</th>\n",
       "      <th>births</th>\n",
       "      <th>year_y</th>\n",
       "      <th>day_y</th>\n",
       "    </tr>\n",
       "  </thead>\n",
       "  <tbody>\n",
       "    <tr>\n",
       "      <th>0</th>\n",
       "      <td>1969</td>\n",
       "      <td>1</td>\n",
       "      <td>1.0</td>\n",
       "      <td>F</td>\n",
       "      <td>4046</td>\n",
       "      <td>1969</td>\n",
       "      <td>1.0</td>\n",
       "    </tr>\n",
       "    <tr>\n",
       "      <th>1</th>\n",
       "      <td>1969</td>\n",
       "      <td>1</td>\n",
       "      <td>1.0</td>\n",
       "      <td>M</td>\n",
       "      <td>4440</td>\n",
       "      <td>1969</td>\n",
       "      <td>1.0</td>\n",
       "    </tr>\n",
       "    <tr>\n",
       "      <th>2</th>\n",
       "      <td>1969</td>\n",
       "      <td>1</td>\n",
       "      <td>2.0</td>\n",
       "      <td>F</td>\n",
       "      <td>4454</td>\n",
       "      <td>1969</td>\n",
       "      <td>1.0</td>\n",
       "    </tr>\n",
       "    <tr>\n",
       "      <th>3</th>\n",
       "      <td>1969</td>\n",
       "      <td>1</td>\n",
       "      <td>2.0</td>\n",
       "      <td>M</td>\n",
       "      <td>4548</td>\n",
       "      <td>1969</td>\n",
       "      <td>1.0</td>\n",
       "    </tr>\n",
       "    <tr>\n",
       "      <th>4</th>\n",
       "      <td>1969</td>\n",
       "      <td>1</td>\n",
       "      <td>3.0</td>\n",
       "      <td>F</td>\n",
       "      <td>4548</td>\n",
       "      <td>1969</td>\n",
       "      <td>1.0</td>\n",
       "    </tr>\n",
       "    <tr>\n",
       "      <th>...</th>\n",
       "      <td>...</td>\n",
       "      <td>...</td>\n",
       "      <td>...</td>\n",
       "      <td>...</td>\n",
       "      <td>...</td>\n",
       "      <td>...</td>\n",
       "      <td>...</td>\n",
       "    </tr>\n",
       "    <tr>\n",
       "      <th>20146786</th>\n",
       "      <td>2006</td>\n",
       "      <td>12</td>\n",
       "      <td>NaN</td>\n",
       "      <td>M</td>\n",
       "      <td>182459</td>\n",
       "      <td>2008</td>\n",
       "      <td>NaN</td>\n",
       "    </tr>\n",
       "    <tr>\n",
       "      <th>20146787</th>\n",
       "      <td>2007</td>\n",
       "      <td>12</td>\n",
       "      <td>NaN</td>\n",
       "      <td>F</td>\n",
       "      <td>173787</td>\n",
       "      <td>2008</td>\n",
       "      <td>NaN</td>\n",
       "    </tr>\n",
       "    <tr>\n",
       "      <th>20146788</th>\n",
       "      <td>2007</td>\n",
       "      <td>12</td>\n",
       "      <td>NaN</td>\n",
       "      <td>M</td>\n",
       "      <td>181426</td>\n",
       "      <td>2008</td>\n",
       "      <td>NaN</td>\n",
       "    </tr>\n",
       "    <tr>\n",
       "      <th>20146789</th>\n",
       "      <td>2008</td>\n",
       "      <td>12</td>\n",
       "      <td>NaN</td>\n",
       "      <td>F</td>\n",
       "      <td>173215</td>\n",
       "      <td>2008</td>\n",
       "      <td>NaN</td>\n",
       "    </tr>\n",
       "    <tr>\n",
       "      <th>20146790</th>\n",
       "      <td>2008</td>\n",
       "      <td>12</td>\n",
       "      <td>NaN</td>\n",
       "      <td>M</td>\n",
       "      <td>181235</td>\n",
       "      <td>2008</td>\n",
       "      <td>NaN</td>\n",
       "    </tr>\n",
       "  </tbody>\n",
       "</table>\n",
       "<p>20146791 rows × 7 columns</p>\n",
       "</div>"
      ],
      "text/plain": [
       "          year_x  month  day_x gender  births  year_y  day_y\n",
       "0           1969      1    1.0      F    4046    1969    1.0\n",
       "1           1969      1    1.0      M    4440    1969    1.0\n",
       "2           1969      1    2.0      F    4454    1969    1.0\n",
       "3           1969      1    2.0      M    4548    1969    1.0\n",
       "4           1969      1    3.0      F    4548    1969    1.0\n",
       "...          ...    ...    ...    ...     ...     ...    ...\n",
       "20146786    2006     12    NaN      M  182459    2008    NaN\n",
       "20146787    2007     12    NaN      F  173787    2008    NaN\n",
       "20146788    2007     12    NaN      M  181426    2008    NaN\n",
       "20146789    2008     12    NaN      F  173215    2008    NaN\n",
       "20146790    2008     12    NaN      M  181235    2008    NaN\n",
       "\n",
       "[20146791 rows x 7 columns]"
      ]
     },
     "execution_count": 226,
     "metadata": {},
     "output_type": "execute_result"
    }
   ],
   "source": [
    "pd.merge(df,df.iloc[:,0:3],how='right',on=\"month\")"
   ]
  },
  {
   "cell_type": "code",
   "execution_count": 227,
   "id": "57a57365",
   "metadata": {},
   "outputs": [
    {
     "data": {
      "text/html": [
       "<div>\n",
       "<style scoped>\n",
       "    .dataframe tbody tr th:only-of-type {\n",
       "        vertical-align: middle;\n",
       "    }\n",
       "\n",
       "    .dataframe tbody tr th {\n",
       "        vertical-align: top;\n",
       "    }\n",
       "\n",
       "    .dataframe thead th {\n",
       "        text-align: right;\n",
       "    }\n",
       "</style>\n",
       "<table border=\"1\" class=\"dataframe\">\n",
       "  <thead>\n",
       "    <tr style=\"text-align: right;\">\n",
       "      <th></th>\n",
       "      <th>year_x</th>\n",
       "      <th>month</th>\n",
       "      <th>day_x</th>\n",
       "      <th>gender</th>\n",
       "      <th>births</th>\n",
       "      <th>year_y</th>\n",
       "      <th>day_y</th>\n",
       "    </tr>\n",
       "  </thead>\n",
       "  <tbody>\n",
       "    <tr>\n",
       "      <th>0</th>\n",
       "      <td>1969</td>\n",
       "      <td>1</td>\n",
       "      <td>1.0</td>\n",
       "      <td>F</td>\n",
       "      <td>4046</td>\n",
       "      <td>1969</td>\n",
       "      <td>1.0</td>\n",
       "    </tr>\n",
       "    <tr>\n",
       "      <th>1</th>\n",
       "      <td>1969</td>\n",
       "      <td>1</td>\n",
       "      <td>1.0</td>\n",
       "      <td>F</td>\n",
       "      <td>4046</td>\n",
       "      <td>1969</td>\n",
       "      <td>1.0</td>\n",
       "    </tr>\n",
       "    <tr>\n",
       "      <th>2</th>\n",
       "      <td>1969</td>\n",
       "      <td>1</td>\n",
       "      <td>1.0</td>\n",
       "      <td>F</td>\n",
       "      <td>4046</td>\n",
       "      <td>1969</td>\n",
       "      <td>2.0</td>\n",
       "    </tr>\n",
       "    <tr>\n",
       "      <th>3</th>\n",
       "      <td>1969</td>\n",
       "      <td>1</td>\n",
       "      <td>1.0</td>\n",
       "      <td>F</td>\n",
       "      <td>4046</td>\n",
       "      <td>1969</td>\n",
       "      <td>2.0</td>\n",
       "    </tr>\n",
       "    <tr>\n",
       "      <th>4</th>\n",
       "      <td>1969</td>\n",
       "      <td>1</td>\n",
       "      <td>1.0</td>\n",
       "      <td>F</td>\n",
       "      <td>4046</td>\n",
       "      <td>1969</td>\n",
       "      <td>3.0</td>\n",
       "    </tr>\n",
       "    <tr>\n",
       "      <th>...</th>\n",
       "      <td>...</td>\n",
       "      <td>...</td>\n",
       "      <td>...</td>\n",
       "      <td>...</td>\n",
       "      <td>...</td>\n",
       "      <td>...</td>\n",
       "      <td>...</td>\n",
       "    </tr>\n",
       "    <tr>\n",
       "      <th>20146786</th>\n",
       "      <td>2008</td>\n",
       "      <td>12</td>\n",
       "      <td>NaN</td>\n",
       "      <td>M</td>\n",
       "      <td>181235</td>\n",
       "      <td>2006</td>\n",
       "      <td>NaN</td>\n",
       "    </tr>\n",
       "    <tr>\n",
       "      <th>20146787</th>\n",
       "      <td>2008</td>\n",
       "      <td>12</td>\n",
       "      <td>NaN</td>\n",
       "      <td>M</td>\n",
       "      <td>181235</td>\n",
       "      <td>2007</td>\n",
       "      <td>NaN</td>\n",
       "    </tr>\n",
       "    <tr>\n",
       "      <th>20146788</th>\n",
       "      <td>2008</td>\n",
       "      <td>12</td>\n",
       "      <td>NaN</td>\n",
       "      <td>M</td>\n",
       "      <td>181235</td>\n",
       "      <td>2007</td>\n",
       "      <td>NaN</td>\n",
       "    </tr>\n",
       "    <tr>\n",
       "      <th>20146789</th>\n",
       "      <td>2008</td>\n",
       "      <td>12</td>\n",
       "      <td>NaN</td>\n",
       "      <td>M</td>\n",
       "      <td>181235</td>\n",
       "      <td>2008</td>\n",
       "      <td>NaN</td>\n",
       "    </tr>\n",
       "    <tr>\n",
       "      <th>20146790</th>\n",
       "      <td>2008</td>\n",
       "      <td>12</td>\n",
       "      <td>NaN</td>\n",
       "      <td>M</td>\n",
       "      <td>181235</td>\n",
       "      <td>2008</td>\n",
       "      <td>NaN</td>\n",
       "    </tr>\n",
       "  </tbody>\n",
       "</table>\n",
       "<p>20146791 rows × 7 columns</p>\n",
       "</div>"
      ],
      "text/plain": [
       "          year_x  month  day_x gender  births  year_y  day_y\n",
       "0           1969      1    1.0      F    4046    1969    1.0\n",
       "1           1969      1    1.0      F    4046    1969    1.0\n",
       "2           1969      1    1.0      F    4046    1969    2.0\n",
       "3           1969      1    1.0      F    4046    1969    2.0\n",
       "4           1969      1    1.0      F    4046    1969    3.0\n",
       "...          ...    ...    ...    ...     ...     ...    ...\n",
       "20146786    2008     12    NaN      M  181235    2006    NaN\n",
       "20146787    2008     12    NaN      M  181235    2007    NaN\n",
       "20146788    2008     12    NaN      M  181235    2007    NaN\n",
       "20146789    2008     12    NaN      M  181235    2008    NaN\n",
       "20146790    2008     12    NaN      M  181235    2008    NaN\n",
       "\n",
       "[20146791 rows x 7 columns]"
      ]
     },
     "execution_count": 227,
     "metadata": {},
     "output_type": "execute_result"
    }
   ],
   "source": [
    "pd.merge(df,df.iloc[:,0:3],how='outer',on=\"month\")"
   ]
  },
  {
   "cell_type": "markdown",
   "id": "0eb324b2",
   "metadata": {},
   "source": [
    "<p><b>Append</b></p>"
   ]
  },
  {
   "cell_type": "code",
   "execution_count": 228,
   "id": "b5add1d0",
   "metadata": {},
   "outputs": [
    {
     "name": "stdout",
     "output_type": "stream",
     "text": [
      "Append is the specific case(axis=0, join='outer') of concat\n"
     ]
    }
   ],
   "source": [
    "print(\"Append is the specific case(axis=0, join='outer') of concat\")"
   ]
  },
  {
   "cell_type": "code",
   "execution_count": 229,
   "id": "43e88d5f",
   "metadata": {},
   "outputs": [
    {
     "name": "stdout",
     "output_type": "stream",
     "text": [
      "Shape of dataframe A (15544, 5)\n",
      "Shape of dataframe B (3, 5)\n",
      "Shape of after appending A and B (15547, 5)\n"
     ]
    }
   ],
   "source": [
    "print(\"Shape of dataframe A\",df_2.shape)\n",
    "print(\"Shape of dataframe B\",df_4.shape)\n",
    "print(\"Shape of after appending A and B\",df_2.append(df_4).shape)"
   ]
  },
  {
   "cell_type": "markdown",
   "id": "989360f2",
   "metadata": {},
   "source": [
    "<p><b>Aggregration</b></p>"
   ]
  },
  {
   "cell_type": "code",
   "execution_count": 230,
   "id": "ca82ca68",
   "metadata": {},
   "outputs": [
    {
     "data": {
      "text/html": [
       "<div>\n",
       "<style scoped>\n",
       "    .dataframe tbody tr th:only-of-type {\n",
       "        vertical-align: middle;\n",
       "    }\n",
       "\n",
       "    .dataframe tbody tr th {\n",
       "        vertical-align: top;\n",
       "    }\n",
       "\n",
       "    .dataframe thead th {\n",
       "        text-align: right;\n",
       "    }\n",
       "</style>\n",
       "<table border=\"1\" class=\"dataframe\">\n",
       "  <thead>\n",
       "    <tr style=\"text-align: right;\">\n",
       "      <th></th>\n",
       "      <th>year</th>\n",
       "      <th>month</th>\n",
       "      <th>day</th>\n",
       "      <th>gender</th>\n",
       "      <th>births</th>\n",
       "    </tr>\n",
       "  </thead>\n",
       "  <tbody>\n",
       "    <tr>\n",
       "      <th>0</th>\n",
       "      <td>1969</td>\n",
       "      <td>1</td>\n",
       "      <td>1.0</td>\n",
       "      <td>F</td>\n",
       "      <td>4046</td>\n",
       "    </tr>\n",
       "    <tr>\n",
       "      <th>1</th>\n",
       "      <td>1969</td>\n",
       "      <td>1</td>\n",
       "      <td>1.0</td>\n",
       "      <td>M</td>\n",
       "      <td>4440</td>\n",
       "    </tr>\n",
       "    <tr>\n",
       "      <th>2</th>\n",
       "      <td>1969</td>\n",
       "      <td>1</td>\n",
       "      <td>2.0</td>\n",
       "      <td>F</td>\n",
       "      <td>4454</td>\n",
       "    </tr>\n",
       "    <tr>\n",
       "      <th>3</th>\n",
       "      <td>1969</td>\n",
       "      <td>1</td>\n",
       "      <td>2.0</td>\n",
       "      <td>M</td>\n",
       "      <td>4548</td>\n",
       "    </tr>\n",
       "    <tr>\n",
       "      <th>4</th>\n",
       "      <td>1969</td>\n",
       "      <td>1</td>\n",
       "      <td>3.0</td>\n",
       "      <td>F</td>\n",
       "      <td>4548</td>\n",
       "    </tr>\n",
       "  </tbody>\n",
       "</table>\n",
       "</div>"
      ],
      "text/plain": [
       "   year  month  day gender  births\n",
       "0  1969      1  1.0      F    4046\n",
       "1  1969      1  1.0      M    4440\n",
       "2  1969      1  2.0      F    4454\n",
       "3  1969      1  2.0      M    4548\n",
       "4  1969      1  3.0      F    4548"
      ]
     },
     "execution_count": 230,
     "metadata": {},
     "output_type": "execute_result"
    }
   ],
   "source": [
    "df.head()"
   ]
  },
  {
   "cell_type": "code",
   "execution_count": 231,
   "id": "1da38f1b",
   "metadata": {},
   "outputs": [
    {
     "name": "stderr",
     "output_type": "stream",
     "text": [
      "C:\\ProgramData\\Anaconda3\\lib\\site-packages\\numpy\\core\\_methods.py:51: RuntimeWarning: overflow encountered in reduce\n",
      "  return umr_prod(a, axis, dtype, out, keepdims, initial, where)\n"
     ]
    }
   ],
   "source": [
    "df=df.dropna()\n",
    "count=df.count()\n",
    "minimum=df.min()\n",
    "maximum=df.max()\n",
    "stdev=df.std()\n",
    "variance=df.var()\n",
    "summ=df.sum()\n",
    "product=df.prod()"
   ]
  },
  {
   "cell_type": "code",
   "execution_count": 232,
   "id": "14d9d283",
   "metadata": {},
   "outputs": [
    {
     "name": "stdout",
     "output_type": "stream",
     "text": [
      "Total elements in the dataset : \n",
      "\n",
      "year      15067\n",
      "month     15067\n",
      "day       15067\n",
      "gender    15067\n",
      "births    15067\n",
      "dtype: int64\n",
      "\n",
      "Minimum element in the dataset : \n",
      "\n",
      "year      1969\n",
      "month        1\n",
      "day        1.0\n",
      "gender       F\n",
      "births       1\n",
      "dtype: object\n",
      "\n",
      "Maximum element in the dataset : \n",
      "\n",
      "year      1988\n",
      "month       12\n",
      "day       99.0\n",
      "gender       M\n",
      "births    6527\n",
      "dtype: object\n",
      "\n",
      "Standard Deviation : \n",
      "\n",
      "year         5.762018\n",
      "month        3.449554\n",
      "day         15.284034\n",
      "births    1003.104707\n",
      "dtype: float64\n",
      "\n",
      "Variance : \n",
      "\n",
      "year      3.320085e+01\n",
      "month     1.189942e+01\n",
      "day       2.336017e+02\n",
      "births    1.006219e+06\n",
      "dtype: float64\n",
      "\n",
      "Sum : \n",
      "\n",
      "year                                               29808815\n",
      "month                                                 98183\n",
      "day                                                267739.0\n",
      "gender    FMFMFMFMFMFMFMFMFMFMFMFMFMFMFMFMFMFMFMFMFMFMFM...\n",
      "births                                             70492941\n",
      "dtype: object\n",
      "\n",
      "Product : \n",
      "\n",
      "year      0.0\n",
      "month     0.0\n",
      "day       inf\n",
      "births    0.0\n",
      "dtype: float64\n"
     ]
    }
   ],
   "source": [
    "print(\"Total elements in the dataset : \")\n",
    "print(\"\")\n",
    "print(count)\n",
    "print(\"\")\n",
    "print(\"Minimum element in the dataset : \")\n",
    "print(\"\")\n",
    "print(minimum)\n",
    "print(\"\")\n",
    "print(\"Maximum element in the dataset : \")\n",
    "print(\"\")\n",
    "print(maximum)\n",
    "print(\"\")\n",
    "print(\"Standard Deviation : \")\n",
    "print(\"\")\n",
    "print(stdev)\n",
    "print(\"\")\n",
    "print(\"Variance : \")\n",
    "print(\"\")\n",
    "print(variance)\n",
    "print(\"\")\n",
    "print(\"Sum : \")\n",
    "print(\"\")\n",
    "print(summ)\n",
    "print(\"\")\n",
    "print(\"Product : \")\n",
    "print(\"\")\n",
    "print(product)"
   ]
  },
  {
   "cell_type": "markdown",
   "id": "9466e30d",
   "metadata": {},
   "source": [
    "<p><b>Groupby</b></p>"
   ]
  },
  {
   "cell_type": "code",
   "execution_count": 233,
   "id": "787f3b0d",
   "metadata": {},
   "outputs": [
    {
     "data": {
      "text/html": [
       "<div>\n",
       "<style scoped>\n",
       "    .dataframe tbody tr th:only-of-type {\n",
       "        vertical-align: middle;\n",
       "    }\n",
       "\n",
       "    .dataframe tbody tr th {\n",
       "        vertical-align: top;\n",
       "    }\n",
       "\n",
       "    .dataframe thead th {\n",
       "        text-align: right;\n",
       "    }\n",
       "</style>\n",
       "<table border=\"1\" class=\"dataframe\">\n",
       "  <thead>\n",
       "    <tr style=\"text-align: right;\">\n",
       "      <th></th>\n",
       "      <th>year</th>\n",
       "      <th>month</th>\n",
       "      <th>day</th>\n",
       "      <th>gender</th>\n",
       "      <th>births</th>\n",
       "    </tr>\n",
       "  </thead>\n",
       "  <tbody>\n",
       "    <tr>\n",
       "      <th>0</th>\n",
       "      <td>1969</td>\n",
       "      <td>1</td>\n",
       "      <td>1.0</td>\n",
       "      <td>F</td>\n",
       "      <td>4046</td>\n",
       "    </tr>\n",
       "    <tr>\n",
       "      <th>1</th>\n",
       "      <td>1969</td>\n",
       "      <td>1</td>\n",
       "      <td>1.0</td>\n",
       "      <td>M</td>\n",
       "      <td>4440</td>\n",
       "    </tr>\n",
       "    <tr>\n",
       "      <th>2</th>\n",
       "      <td>1969</td>\n",
       "      <td>1</td>\n",
       "      <td>2.0</td>\n",
       "      <td>F</td>\n",
       "      <td>4454</td>\n",
       "    </tr>\n",
       "    <tr>\n",
       "      <th>3</th>\n",
       "      <td>1969</td>\n",
       "      <td>1</td>\n",
       "      <td>2.0</td>\n",
       "      <td>M</td>\n",
       "      <td>4548</td>\n",
       "    </tr>\n",
       "    <tr>\n",
       "      <th>4</th>\n",
       "      <td>1969</td>\n",
       "      <td>1</td>\n",
       "      <td>3.0</td>\n",
       "      <td>F</td>\n",
       "      <td>4548</td>\n",
       "    </tr>\n",
       "    <tr>\n",
       "      <th>...</th>\n",
       "      <td>...</td>\n",
       "      <td>...</td>\n",
       "      <td>...</td>\n",
       "      <td>...</td>\n",
       "      <td>...</td>\n",
       "    </tr>\n",
       "    <tr>\n",
       "      <th>15062</th>\n",
       "      <td>1988</td>\n",
       "      <td>12</td>\n",
       "      <td>29.0</td>\n",
       "      <td>M</td>\n",
       "      <td>5944</td>\n",
       "    </tr>\n",
       "    <tr>\n",
       "      <th>15063</th>\n",
       "      <td>1988</td>\n",
       "      <td>12</td>\n",
       "      <td>30.0</td>\n",
       "      <td>F</td>\n",
       "      <td>5742</td>\n",
       "    </tr>\n",
       "    <tr>\n",
       "      <th>15064</th>\n",
       "      <td>1988</td>\n",
       "      <td>12</td>\n",
       "      <td>30.0</td>\n",
       "      <td>M</td>\n",
       "      <td>6095</td>\n",
       "    </tr>\n",
       "    <tr>\n",
       "      <th>15065</th>\n",
       "      <td>1988</td>\n",
       "      <td>12</td>\n",
       "      <td>31.0</td>\n",
       "      <td>F</td>\n",
       "      <td>4435</td>\n",
       "    </tr>\n",
       "    <tr>\n",
       "      <th>15066</th>\n",
       "      <td>1988</td>\n",
       "      <td>12</td>\n",
       "      <td>31.0</td>\n",
       "      <td>M</td>\n",
       "      <td>4698</td>\n",
       "    </tr>\n",
       "  </tbody>\n",
       "</table>\n",
       "<p>15067 rows × 5 columns</p>\n",
       "</div>"
      ],
      "text/plain": [
       "       year  month   day gender  births\n",
       "0      1969      1   1.0      F    4046\n",
       "1      1969      1   1.0      M    4440\n",
       "2      1969      1   2.0      F    4454\n",
       "3      1969      1   2.0      M    4548\n",
       "4      1969      1   3.0      F    4548\n",
       "...     ...    ...   ...    ...     ...\n",
       "15062  1988     12  29.0      M    5944\n",
       "15063  1988     12  30.0      F    5742\n",
       "15064  1988     12  30.0      M    6095\n",
       "15065  1988     12  31.0      F    4435\n",
       "15066  1988     12  31.0      M    4698\n",
       "\n",
       "[15067 rows x 5 columns]"
      ]
     },
     "execution_count": 233,
     "metadata": {},
     "output_type": "execute_result"
    }
   ],
   "source": [
    "df"
   ]
  },
  {
   "cell_type": "code",
   "execution_count": 234,
   "id": "0f13efc1",
   "metadata": {},
   "outputs": [],
   "source": [
    "#sample group by observations"
   ]
  },
  {
   "cell_type": "code",
   "execution_count": 235,
   "id": "c7580957",
   "metadata": {},
   "outputs": [
    {
     "data": {
      "text/plain": [
       "year\n",
       "1969    6.5\n",
       "1970    6.5\n",
       "1971    7.0\n",
       "1972    7.0\n",
       "1973    7.0\n",
       "1974    7.0\n",
       "1975    7.0\n",
       "1976    7.0\n",
       "1977    7.0\n",
       "1978    7.0\n",
       "1979    7.0\n",
       "1980    7.0\n",
       "1981    7.0\n",
       "1982    7.0\n",
       "1983    7.0\n",
       "1984    7.0\n",
       "1985    7.0\n",
       "1986    7.0\n",
       "1987    7.0\n",
       "1988    6.0\n",
       "Name: month, dtype: float64"
      ]
     },
     "execution_count": 235,
     "metadata": {},
     "output_type": "execute_result"
    }
   ],
   "source": [
    "df.groupby(\"year\")[\"month\"].median()"
   ]
  },
  {
   "cell_type": "code",
   "execution_count": 236,
   "id": "0f881730",
   "metadata": {},
   "outputs": [
    {
     "data": {
      "text/plain": [
       "year\n",
       "1969    16.5\n",
       "1970    16.5\n",
       "1971    16.0\n",
       "1972    16.0\n",
       "1973    16.0\n",
       "1974    16.0\n",
       "1975    16.0\n",
       "1976    16.0\n",
       "1977    16.0\n",
       "1978    16.0\n",
       "1979    16.0\n",
       "1980    16.0\n",
       "1981    16.0\n",
       "1982    16.0\n",
       "1983    16.0\n",
       "1984    16.0\n",
       "1985    16.0\n",
       "1986    16.0\n",
       "1987    16.0\n",
       "1988    16.0\n",
       "Name: day, dtype: float64"
      ]
     },
     "execution_count": 236,
     "metadata": {},
     "output_type": "execute_result"
    }
   ],
   "source": [
    "df.groupby(\"year\")[\"day\"].median()"
   ]
  },
  {
   "cell_type": "code",
   "execution_count": 237,
   "id": "1ffcf75f",
   "metadata": {},
   "outputs": [
    {
     "data": {
      "text/plain": [
       "year\n",
       "1969    768\n",
       "1970    768\n",
       "1971    764\n",
       "1972    765\n",
       "1973    762\n",
       "1974    766\n",
       "1975    763\n",
       "1976    761\n",
       "1977    761\n",
       "1978    761\n",
       "1979    747\n",
       "1980    747\n",
       "1981    745\n",
       "1982    748\n",
       "1983    749\n",
       "1984    747\n",
       "1985    737\n",
       "1986    736\n",
       "1987    733\n",
       "1988    739\n",
       "Name: gender, dtype: int64"
      ]
     },
     "execution_count": 237,
     "metadata": {},
     "output_type": "execute_result"
    }
   ],
   "source": [
    "df.groupby(\"year\")[\"gender\"].count()"
   ]
  },
  {
   "cell_type": "code",
   "execution_count": 238,
   "id": "0556577d",
   "metadata": {},
   "outputs": [
    {
     "data": {
      "text/plain": [
       "year\n",
       "1969    4930.0\n",
       "1970    5101.0\n",
       "1971    4936.0\n",
       "1972    4493.0\n",
       "1973    4334.5\n",
       "1974    4347.5\n",
       "1975    4360.0\n",
       "1976    4358.0\n",
       "1977    4614.0\n",
       "1978    4594.0\n",
       "1979    4821.0\n",
       "1980    4976.0\n",
       "1981    5028.0\n",
       "1982    5123.5\n",
       "1983    5116.0\n",
       "1984    5070.0\n",
       "1985    5271.0\n",
       "1986    5296.5\n",
       "1987    5421.0\n",
       "1988    5510.0\n",
       "Name: births, dtype: float64"
      ]
     },
     "execution_count": 238,
     "metadata": {},
     "output_type": "execute_result"
    }
   ],
   "source": [
    "df.groupby(\"year\")[\"births\"].median()"
   ]
  },
  {
   "cell_type": "markdown",
   "id": "0a9bc651",
   "metadata": {},
   "source": [
    "<p><b>Transform</b></p>"
   ]
  },
  {
   "cell_type": "code",
   "execution_count": 239,
   "id": "32c2a9dd",
   "metadata": {},
   "outputs": [],
   "source": [
    "#sample transformations"
   ]
  },
  {
   "cell_type": "code",
   "execution_count": 240,
   "id": "86a3b909",
   "metadata": {},
   "outputs": [
    {
     "data": {
      "text/html": [
       "<div>\n",
       "<style scoped>\n",
       "    .dataframe tbody tr th:only-of-type {\n",
       "        vertical-align: middle;\n",
       "    }\n",
       "\n",
       "    .dataframe tbody tr th {\n",
       "        vertical-align: top;\n",
       "    }\n",
       "\n",
       "    .dataframe thead th {\n",
       "        text-align: right;\n",
       "    }\n",
       "</style>\n",
       "<table border=\"1\" class=\"dataframe\">\n",
       "  <thead>\n",
       "    <tr style=\"text-align: right;\">\n",
       "      <th></th>\n",
       "      <th>month</th>\n",
       "      <th>day</th>\n",
       "      <th>births</th>\n",
       "    </tr>\n",
       "  </thead>\n",
       "  <tbody>\n",
       "    <tr>\n",
       "      <th>0</th>\n",
       "      <td>-5.50000</td>\n",
       "      <td>-17.593750</td>\n",
       "      <td>-641.768229</td>\n",
       "    </tr>\n",
       "    <tr>\n",
       "      <th>1</th>\n",
       "      <td>-5.50000</td>\n",
       "      <td>-17.593750</td>\n",
       "      <td>-247.768229</td>\n",
       "    </tr>\n",
       "    <tr>\n",
       "      <th>2</th>\n",
       "      <td>-5.50000</td>\n",
       "      <td>-16.593750</td>\n",
       "      <td>-233.768229</td>\n",
       "    </tr>\n",
       "    <tr>\n",
       "      <th>3</th>\n",
       "      <td>-5.50000</td>\n",
       "      <td>-16.593750</td>\n",
       "      <td>-139.768229</td>\n",
       "    </tr>\n",
       "    <tr>\n",
       "      <th>4</th>\n",
       "      <td>-5.50000</td>\n",
       "      <td>-15.593750</td>\n",
       "      <td>-139.768229</td>\n",
       "    </tr>\n",
       "    <tr>\n",
       "      <th>...</th>\n",
       "      <td>...</td>\n",
       "      <td>...</td>\n",
       "      <td>...</td>\n",
       "    </tr>\n",
       "    <tr>\n",
       "      <th>15062</th>\n",
       "      <td>5.49797</td>\n",
       "      <td>12.454668</td>\n",
       "      <td>647.933694</td>\n",
       "    </tr>\n",
       "    <tr>\n",
       "      <th>15063</th>\n",
       "      <td>5.49797</td>\n",
       "      <td>13.454668</td>\n",
       "      <td>445.933694</td>\n",
       "    </tr>\n",
       "    <tr>\n",
       "      <th>15064</th>\n",
       "      <td>5.49797</td>\n",
       "      <td>13.454668</td>\n",
       "      <td>798.933694</td>\n",
       "    </tr>\n",
       "    <tr>\n",
       "      <th>15065</th>\n",
       "      <td>5.49797</td>\n",
       "      <td>14.454668</td>\n",
       "      <td>-861.066306</td>\n",
       "    </tr>\n",
       "    <tr>\n",
       "      <th>15066</th>\n",
       "      <td>5.49797</td>\n",
       "      <td>14.454668</td>\n",
       "      <td>-598.066306</td>\n",
       "    </tr>\n",
       "  </tbody>\n",
       "</table>\n",
       "<p>15067 rows × 3 columns</p>\n",
       "</div>"
      ],
      "text/plain": [
       "         month        day      births\n",
       "0     -5.50000 -17.593750 -641.768229\n",
       "1     -5.50000 -17.593750 -247.768229\n",
       "2     -5.50000 -16.593750 -233.768229\n",
       "3     -5.50000 -16.593750 -139.768229\n",
       "4     -5.50000 -15.593750 -139.768229\n",
       "...        ...        ...         ...\n",
       "15062  5.49797  12.454668  647.933694\n",
       "15063  5.49797  13.454668  445.933694\n",
       "15064  5.49797  13.454668  798.933694\n",
       "15065  5.49797  14.454668 -861.066306\n",
       "15066  5.49797  14.454668 -598.066306\n",
       "\n",
       "[15067 rows x 3 columns]"
      ]
     },
     "execution_count": 240,
     "metadata": {},
     "output_type": "execute_result"
    }
   ],
   "source": [
    "df.groupby(\"year\").transform(lambda x:x-x.mean())"
   ]
  },
  {
   "cell_type": "markdown",
   "id": "92c3e28e",
   "metadata": {},
   "source": [
    "<p><b>Apply</b></p>"
   ]
  },
  {
   "cell_type": "code",
   "execution_count": 241,
   "id": "cac7e074",
   "metadata": {},
   "outputs": [],
   "source": [
    "#example of apply() method"
   ]
  },
  {
   "cell_type": "code",
   "execution_count": 242,
   "id": "fad23dac",
   "metadata": {},
   "outputs": [
    {
     "data": {
      "text/html": [
       "<div>\n",
       "<style scoped>\n",
       "    .dataframe tbody tr th:only-of-type {\n",
       "        vertical-align: middle;\n",
       "    }\n",
       "\n",
       "    .dataframe tbody tr th {\n",
       "        vertical-align: top;\n",
       "    }\n",
       "\n",
       "    .dataframe thead th {\n",
       "        text-align: right;\n",
       "    }\n",
       "</style>\n",
       "<table border=\"1\" class=\"dataframe\">\n",
       "  <thead>\n",
       "    <tr style=\"text-align: right;\">\n",
       "      <th></th>\n",
       "      <th>year</th>\n",
       "      <th>month</th>\n",
       "      <th>day</th>\n",
       "      <th>gender</th>\n",
       "      <th>births</th>\n",
       "    </tr>\n",
       "  </thead>\n",
       "  <tbody>\n",
       "    <tr>\n",
       "      <th>0</th>\n",
       "      <td>1969</td>\n",
       "      <td>1</td>\n",
       "      <td>1.0</td>\n",
       "      <td>F</td>\n",
       "      <td>4046</td>\n",
       "    </tr>\n",
       "    <tr>\n",
       "      <th>1</th>\n",
       "      <td>1969</td>\n",
       "      <td>1</td>\n",
       "      <td>1.0</td>\n",
       "      <td>M</td>\n",
       "      <td>4440</td>\n",
       "    </tr>\n",
       "    <tr>\n",
       "      <th>2</th>\n",
       "      <td>1969</td>\n",
       "      <td>1</td>\n",
       "      <td>2.0</td>\n",
       "      <td>F</td>\n",
       "      <td>4454</td>\n",
       "    </tr>\n",
       "    <tr>\n",
       "      <th>3</th>\n",
       "      <td>1969</td>\n",
       "      <td>1</td>\n",
       "      <td>2.0</td>\n",
       "      <td>M</td>\n",
       "      <td>4548</td>\n",
       "    </tr>\n",
       "    <tr>\n",
       "      <th>4</th>\n",
       "      <td>1969</td>\n",
       "      <td>1</td>\n",
       "      <td>3.0</td>\n",
       "      <td>F</td>\n",
       "      <td>4548</td>\n",
       "    </tr>\n",
       "    <tr>\n",
       "      <th>...</th>\n",
       "      <td>...</td>\n",
       "      <td>...</td>\n",
       "      <td>...</td>\n",
       "      <td>...</td>\n",
       "      <td>...</td>\n",
       "    </tr>\n",
       "    <tr>\n",
       "      <th>15062</th>\n",
       "      <td>1988</td>\n",
       "      <td>12</td>\n",
       "      <td>29.0</td>\n",
       "      <td>M</td>\n",
       "      <td>5944</td>\n",
       "    </tr>\n",
       "    <tr>\n",
       "      <th>15063</th>\n",
       "      <td>1988</td>\n",
       "      <td>12</td>\n",
       "      <td>30.0</td>\n",
       "      <td>F</td>\n",
       "      <td>5742</td>\n",
       "    </tr>\n",
       "    <tr>\n",
       "      <th>15064</th>\n",
       "      <td>1988</td>\n",
       "      <td>12</td>\n",
       "      <td>30.0</td>\n",
       "      <td>M</td>\n",
       "      <td>6095</td>\n",
       "    </tr>\n",
       "    <tr>\n",
       "      <th>15065</th>\n",
       "      <td>1988</td>\n",
       "      <td>12</td>\n",
       "      <td>31.0</td>\n",
       "      <td>F</td>\n",
       "      <td>4435</td>\n",
       "    </tr>\n",
       "    <tr>\n",
       "      <th>15066</th>\n",
       "      <td>1988</td>\n",
       "      <td>12</td>\n",
       "      <td>31.0</td>\n",
       "      <td>M</td>\n",
       "      <td>4698</td>\n",
       "    </tr>\n",
       "  </tbody>\n",
       "</table>\n",
       "<p>15067 rows × 5 columns</p>\n",
       "</div>"
      ],
      "text/plain": [
       "       year  month   day gender  births\n",
       "0      1969      1   1.0      F    4046\n",
       "1      1969      1   1.0      M    4440\n",
       "2      1969      1   2.0      F    4454\n",
       "3      1969      1   2.0      M    4548\n",
       "4      1969      1   3.0      F    4548\n",
       "...     ...    ...   ...    ...     ...\n",
       "15062  1988     12  29.0      M    5944\n",
       "15063  1988     12  30.0      F    5742\n",
       "15064  1988     12  30.0      M    6095\n",
       "15065  1988     12  31.0      F    4435\n",
       "15066  1988     12  31.0      M    4698\n",
       "\n",
       "[15067 rows x 5 columns]"
      ]
     },
     "execution_count": 242,
     "metadata": {},
     "output_type": "execute_result"
    }
   ],
   "source": [
    "df"
   ]
  },
  {
   "cell_type": "code",
   "execution_count": 243,
   "id": "09489bd1",
   "metadata": {},
   "outputs": [],
   "source": [
    "def month_and_day(x):\n",
    "    x[\"count\"]=1\n",
    "    return x"
   ]
  },
  {
   "cell_type": "code",
   "execution_count": 244,
   "id": "93b729cd",
   "metadata": {},
   "outputs": [],
   "source": [
    "test=df[[\"year\",\"month\",\"day\"]]"
   ]
  },
  {
   "cell_type": "code",
   "execution_count": 245,
   "id": "98fcab39",
   "metadata": {},
   "outputs": [
    {
     "data": {
      "text/html": [
       "<div>\n",
       "<style scoped>\n",
       "    .dataframe tbody tr th:only-of-type {\n",
       "        vertical-align: middle;\n",
       "    }\n",
       "\n",
       "    .dataframe tbody tr th {\n",
       "        vertical-align: top;\n",
       "    }\n",
       "\n",
       "    .dataframe thead th {\n",
       "        text-align: right;\n",
       "    }\n",
       "</style>\n",
       "<table border=\"1\" class=\"dataframe\">\n",
       "  <thead>\n",
       "    <tr style=\"text-align: right;\">\n",
       "      <th></th>\n",
       "      <th>year</th>\n",
       "      <th>month</th>\n",
       "      <th>day</th>\n",
       "    </tr>\n",
       "  </thead>\n",
       "  <tbody>\n",
       "    <tr>\n",
       "      <th>0</th>\n",
       "      <td>1969</td>\n",
       "      <td>1</td>\n",
       "      <td>1.0</td>\n",
       "    </tr>\n",
       "    <tr>\n",
       "      <th>1</th>\n",
       "      <td>1969</td>\n",
       "      <td>1</td>\n",
       "      <td>1.0</td>\n",
       "    </tr>\n",
       "    <tr>\n",
       "      <th>2</th>\n",
       "      <td>1969</td>\n",
       "      <td>1</td>\n",
       "      <td>2.0</td>\n",
       "    </tr>\n",
       "    <tr>\n",
       "      <th>3</th>\n",
       "      <td>1969</td>\n",
       "      <td>1</td>\n",
       "      <td>2.0</td>\n",
       "    </tr>\n",
       "    <tr>\n",
       "      <th>4</th>\n",
       "      <td>1969</td>\n",
       "      <td>1</td>\n",
       "      <td>3.0</td>\n",
       "    </tr>\n",
       "  </tbody>\n",
       "</table>\n",
       "</div>"
      ],
      "text/plain": [
       "   year  month  day\n",
       "0  1969      1  1.0\n",
       "1  1969      1  1.0\n",
       "2  1969      1  2.0\n",
       "3  1969      1  2.0\n",
       "4  1969      1  3.0"
      ]
     },
     "execution_count": 245,
     "metadata": {},
     "output_type": "execute_result"
    }
   ],
   "source": [
    "test.head()"
   ]
  },
  {
   "cell_type": "code",
   "execution_count": 246,
   "id": "27e64452",
   "metadata": {},
   "outputs": [
    {
     "data": {
      "text/html": [
       "<div>\n",
       "<style scoped>\n",
       "    .dataframe tbody tr th:only-of-type {\n",
       "        vertical-align: middle;\n",
       "    }\n",
       "\n",
       "    .dataframe tbody tr th {\n",
       "        vertical-align: top;\n",
       "    }\n",
       "\n",
       "    .dataframe thead th {\n",
       "        text-align: right;\n",
       "    }\n",
       "</style>\n",
       "<table border=\"1\" class=\"dataframe\">\n",
       "  <thead>\n",
       "    <tr style=\"text-align: right;\">\n",
       "      <th></th>\n",
       "      <th>year</th>\n",
       "      <th>month</th>\n",
       "      <th>day</th>\n",
       "      <th>count</th>\n",
       "    </tr>\n",
       "  </thead>\n",
       "  <tbody>\n",
       "    <tr>\n",
       "      <th>0</th>\n",
       "      <td>1969</td>\n",
       "      <td>1</td>\n",
       "      <td>1.0</td>\n",
       "      <td>1</td>\n",
       "    </tr>\n",
       "    <tr>\n",
       "      <th>1</th>\n",
       "      <td>1969</td>\n",
       "      <td>1</td>\n",
       "      <td>1.0</td>\n",
       "      <td>1</td>\n",
       "    </tr>\n",
       "    <tr>\n",
       "      <th>2</th>\n",
       "      <td>1969</td>\n",
       "      <td>1</td>\n",
       "      <td>2.0</td>\n",
       "      <td>1</td>\n",
       "    </tr>\n",
       "    <tr>\n",
       "      <th>3</th>\n",
       "      <td>1969</td>\n",
       "      <td>1</td>\n",
       "      <td>2.0</td>\n",
       "      <td>1</td>\n",
       "    </tr>\n",
       "    <tr>\n",
       "      <th>4</th>\n",
       "      <td>1969</td>\n",
       "      <td>1</td>\n",
       "      <td>3.0</td>\n",
       "      <td>1</td>\n",
       "    </tr>\n",
       "    <tr>\n",
       "      <th>...</th>\n",
       "      <td>...</td>\n",
       "      <td>...</td>\n",
       "      <td>...</td>\n",
       "      <td>...</td>\n",
       "    </tr>\n",
       "    <tr>\n",
       "      <th>15062</th>\n",
       "      <td>1988</td>\n",
       "      <td>12</td>\n",
       "      <td>29.0</td>\n",
       "      <td>1</td>\n",
       "    </tr>\n",
       "    <tr>\n",
       "      <th>15063</th>\n",
       "      <td>1988</td>\n",
       "      <td>12</td>\n",
       "      <td>30.0</td>\n",
       "      <td>1</td>\n",
       "    </tr>\n",
       "    <tr>\n",
       "      <th>15064</th>\n",
       "      <td>1988</td>\n",
       "      <td>12</td>\n",
       "      <td>30.0</td>\n",
       "      <td>1</td>\n",
       "    </tr>\n",
       "    <tr>\n",
       "      <th>15065</th>\n",
       "      <td>1988</td>\n",
       "      <td>12</td>\n",
       "      <td>31.0</td>\n",
       "      <td>1</td>\n",
       "    </tr>\n",
       "    <tr>\n",
       "      <th>15066</th>\n",
       "      <td>1988</td>\n",
       "      <td>12</td>\n",
       "      <td>31.0</td>\n",
       "      <td>1</td>\n",
       "    </tr>\n",
       "  </tbody>\n",
       "</table>\n",
       "<p>15067 rows × 4 columns</p>\n",
       "</div>"
      ],
      "text/plain": [
       "       year  month   day  count\n",
       "0      1969      1   1.0      1\n",
       "1      1969      1   1.0      1\n",
       "2      1969      1   2.0      1\n",
       "3      1969      1   2.0      1\n",
       "4      1969      1   3.0      1\n",
       "...     ...    ...   ...    ...\n",
       "15062  1988     12  29.0      1\n",
       "15063  1988     12  30.0      1\n",
       "15064  1988     12  30.0      1\n",
       "15065  1988     12  31.0      1\n",
       "15066  1988     12  31.0      1\n",
       "\n",
       "[15067 rows x 4 columns]"
      ]
     },
     "execution_count": 246,
     "metadata": {},
     "output_type": "execute_result"
    }
   ],
   "source": [
    "test.groupby(\"year\").apply(month_and_day)"
   ]
  },
  {
   "cell_type": "markdown",
   "id": "fe3607e3",
   "metadata": {},
   "source": [
    "<p><b>Pivot Tables</b></p>"
   ]
  },
  {
   "cell_type": "code",
   "execution_count": 247,
   "id": "a536869e",
   "metadata": {},
   "outputs": [],
   "source": [
    "#Example of a pivot table"
   ]
  },
  {
   "cell_type": "code",
   "execution_count": 248,
   "id": "31f5181c",
   "metadata": {},
   "outputs": [],
   "source": [
    "test=df[[\"year\",\"month\",\"day\"]]"
   ]
  },
  {
   "cell_type": "code",
   "execution_count": 249,
   "id": "4f091d54",
   "metadata": {},
   "outputs": [
    {
     "data": {
      "text/html": [
       "<div>\n",
       "<style scoped>\n",
       "    .dataframe tbody tr th:only-of-type {\n",
       "        vertical-align: middle;\n",
       "    }\n",
       "\n",
       "    .dataframe tbody tr th {\n",
       "        vertical-align: top;\n",
       "    }\n",
       "\n",
       "    .dataframe thead tr th {\n",
       "        text-align: left;\n",
       "    }\n",
       "\n",
       "    .dataframe thead tr:last-of-type th {\n",
       "        text-align: right;\n",
       "    }\n",
       "</style>\n",
       "<table border=\"1\" class=\"dataframe\">\n",
       "  <thead>\n",
       "    <tr>\n",
       "      <th></th>\n",
       "      <th colspan=\"20\" halign=\"left\">day</th>\n",
       "    </tr>\n",
       "    <tr>\n",
       "      <th>year</th>\n",
       "      <th>1969</th>\n",
       "      <th>1970</th>\n",
       "      <th>1971</th>\n",
       "      <th>1972</th>\n",
       "      <th>1973</th>\n",
       "      <th>1974</th>\n",
       "      <th>1975</th>\n",
       "      <th>1976</th>\n",
       "      <th>1977</th>\n",
       "      <th>1978</th>\n",
       "      <th>1979</th>\n",
       "      <th>1980</th>\n",
       "      <th>1981</th>\n",
       "      <th>1982</th>\n",
       "      <th>1983</th>\n",
       "      <th>1984</th>\n",
       "      <th>1985</th>\n",
       "      <th>1986</th>\n",
       "      <th>1987</th>\n",
       "      <th>1988</th>\n",
       "    </tr>\n",
       "    <tr>\n",
       "      <th>month</th>\n",
       "      <th></th>\n",
       "      <th></th>\n",
       "      <th></th>\n",
       "      <th></th>\n",
       "      <th></th>\n",
       "      <th></th>\n",
       "      <th></th>\n",
       "      <th></th>\n",
       "      <th></th>\n",
       "      <th></th>\n",
       "      <th></th>\n",
       "      <th></th>\n",
       "      <th></th>\n",
       "      <th></th>\n",
       "      <th></th>\n",
       "      <th></th>\n",
       "      <th></th>\n",
       "      <th></th>\n",
       "      <th></th>\n",
       "      <th></th>\n",
       "    </tr>\n",
       "  </thead>\n",
       "  <tbody>\n",
       "    <tr>\n",
       "      <th>1</th>\n",
       "      <td>18.59375</td>\n",
       "      <td>18.59375</td>\n",
       "      <td>18.593750</td>\n",
       "      <td>18.593750</td>\n",
       "      <td>18.593750</td>\n",
       "      <td>18.593750</td>\n",
       "      <td>18.593750</td>\n",
       "      <td>18.593750</td>\n",
       "      <td>17.317460</td>\n",
       "      <td>16.000000</td>\n",
       "      <td>16.000000</td>\n",
       "      <td>16.000000</td>\n",
       "      <td>18.593750</td>\n",
       "      <td>17.317460</td>\n",
       "      <td>18.593750</td>\n",
       "      <td>18.593750</td>\n",
       "      <td>18.593750</td>\n",
       "      <td>16.000000</td>\n",
       "      <td>16.000000</td>\n",
       "      <td>16.000000</td>\n",
       "    </tr>\n",
       "    <tr>\n",
       "      <th>2</th>\n",
       "      <td>18.59375</td>\n",
       "      <td>18.59375</td>\n",
       "      <td>18.032787</td>\n",
       "      <td>18.209677</td>\n",
       "      <td>17.800000</td>\n",
       "      <td>18.225806</td>\n",
       "      <td>18.016393</td>\n",
       "      <td>18.000000</td>\n",
       "      <td>18.032787</td>\n",
       "      <td>17.317460</td>\n",
       "      <td>17.413793</td>\n",
       "      <td>16.423729</td>\n",
       "      <td>17.413793</td>\n",
       "      <td>17.413793</td>\n",
       "      <td>17.413793</td>\n",
       "      <td>16.423729</td>\n",
       "      <td>17.413793</td>\n",
       "      <td>17.413793</td>\n",
       "      <td>15.982456</td>\n",
       "      <td>15.000000</td>\n",
       "    </tr>\n",
       "    <tr>\n",
       "      <th>3</th>\n",
       "      <td>18.59375</td>\n",
       "      <td>18.59375</td>\n",
       "      <td>18.593750</td>\n",
       "      <td>18.593750</td>\n",
       "      <td>18.593750</td>\n",
       "      <td>18.593750</td>\n",
       "      <td>18.593750</td>\n",
       "      <td>18.593750</td>\n",
       "      <td>18.593750</td>\n",
       "      <td>16.000000</td>\n",
       "      <td>18.593750</td>\n",
       "      <td>18.593750</td>\n",
       "      <td>16.000000</td>\n",
       "      <td>18.593750</td>\n",
       "      <td>18.593750</td>\n",
       "      <td>17.317460</td>\n",
       "      <td>16.000000</td>\n",
       "      <td>16.000000</td>\n",
       "      <td>17.317460</td>\n",
       "      <td>18.593750</td>\n",
       "    </tr>\n",
       "    <tr>\n",
       "      <th>4</th>\n",
       "      <td>18.59375</td>\n",
       "      <td>18.59375</td>\n",
       "      <td>18.593750</td>\n",
       "      <td>18.593750</td>\n",
       "      <td>18.396825</td>\n",
       "      <td>18.593750</td>\n",
       "      <td>18.593750</td>\n",
       "      <td>18.396825</td>\n",
       "      <td>15.754098</td>\n",
       "      <td>18.593750</td>\n",
       "      <td>16.868852</td>\n",
       "      <td>18.193548</td>\n",
       "      <td>15.500000</td>\n",
       "      <td>18.193548</td>\n",
       "      <td>18.193548</td>\n",
       "      <td>18.193548</td>\n",
       "      <td>16.868852</td>\n",
       "      <td>15.500000</td>\n",
       "      <td>16.868852</td>\n",
       "      <td>16.868852</td>\n",
       "    </tr>\n",
       "    <tr>\n",
       "      <th>5</th>\n",
       "      <td>18.59375</td>\n",
       "      <td>18.59375</td>\n",
       "      <td>18.593750</td>\n",
       "      <td>18.593750</td>\n",
       "      <td>18.593750</td>\n",
       "      <td>18.593750</td>\n",
       "      <td>18.593750</td>\n",
       "      <td>18.593750</td>\n",
       "      <td>18.593750</td>\n",
       "      <td>18.593750</td>\n",
       "      <td>17.317460</td>\n",
       "      <td>16.000000</td>\n",
       "      <td>17.317460</td>\n",
       "      <td>16.000000</td>\n",
       "      <td>17.317460</td>\n",
       "      <td>17.317460</td>\n",
       "      <td>16.000000</td>\n",
       "      <td>16.000000</td>\n",
       "      <td>16.000000</td>\n",
       "      <td>17.317460</td>\n",
       "    </tr>\n",
       "    <tr>\n",
       "      <th>6</th>\n",
       "      <td>18.59375</td>\n",
       "      <td>18.59375</td>\n",
       "      <td>18.396825</td>\n",
       "      <td>18.396825</td>\n",
       "      <td>18.593750</td>\n",
       "      <td>18.593750</td>\n",
       "      <td>18.593750</td>\n",
       "      <td>18.396825</td>\n",
       "      <td>18.593750</td>\n",
       "      <td>18.396825</td>\n",
       "      <td>16.868852</td>\n",
       "      <td>18.193548</td>\n",
       "      <td>18.193548</td>\n",
       "      <td>16.868852</td>\n",
       "      <td>18.193548</td>\n",
       "      <td>18.193548</td>\n",
       "      <td>15.500000</td>\n",
       "      <td>15.500000</td>\n",
       "      <td>15.500000</td>\n",
       "      <td>18.193548</td>\n",
       "    </tr>\n",
       "    <tr>\n",
       "      <th>7</th>\n",
       "      <td>18.59375</td>\n",
       "      <td>18.59375</td>\n",
       "      <td>18.593750</td>\n",
       "      <td>18.593750</td>\n",
       "      <td>18.593750</td>\n",
       "      <td>18.593750</td>\n",
       "      <td>18.593750</td>\n",
       "      <td>18.593750</td>\n",
       "      <td>18.593750</td>\n",
       "      <td>17.317460</td>\n",
       "      <td>17.317460</td>\n",
       "      <td>17.317460</td>\n",
       "      <td>17.317460</td>\n",
       "      <td>18.593750</td>\n",
       "      <td>18.593750</td>\n",
       "      <td>17.317460</td>\n",
       "      <td>16.000000</td>\n",
       "      <td>17.317460</td>\n",
       "      <td>16.000000</td>\n",
       "      <td>16.000000</td>\n",
       "    </tr>\n",
       "    <tr>\n",
       "      <th>8</th>\n",
       "      <td>18.59375</td>\n",
       "      <td>18.59375</td>\n",
       "      <td>18.593750</td>\n",
       "      <td>18.593750</td>\n",
       "      <td>18.593750</td>\n",
       "      <td>18.593750</td>\n",
       "      <td>18.593750</td>\n",
       "      <td>18.593750</td>\n",
       "      <td>18.593750</td>\n",
       "      <td>18.593750</td>\n",
       "      <td>18.593750</td>\n",
       "      <td>16.000000</td>\n",
       "      <td>17.317460</td>\n",
       "      <td>18.593750</td>\n",
       "      <td>18.593750</td>\n",
       "      <td>17.317460</td>\n",
       "      <td>17.317460</td>\n",
       "      <td>16.000000</td>\n",
       "      <td>16.000000</td>\n",
       "      <td>16.000000</td>\n",
       "    </tr>\n",
       "    <tr>\n",
       "      <th>9</th>\n",
       "      <td>18.59375</td>\n",
       "      <td>18.59375</td>\n",
       "      <td>18.593750</td>\n",
       "      <td>18.593750</td>\n",
       "      <td>18.593750</td>\n",
       "      <td>18.593750</td>\n",
       "      <td>18.593750</td>\n",
       "      <td>18.396825</td>\n",
       "      <td>18.593750</td>\n",
       "      <td>18.593750</td>\n",
       "      <td>18.193548</td>\n",
       "      <td>18.193548</td>\n",
       "      <td>16.868852</td>\n",
       "      <td>16.868852</td>\n",
       "      <td>16.868852</td>\n",
       "      <td>16.868852</td>\n",
       "      <td>15.500000</td>\n",
       "      <td>16.868852</td>\n",
       "      <td>15.500000</td>\n",
       "      <td>15.500000</td>\n",
       "    </tr>\n",
       "    <tr>\n",
       "      <th>10</th>\n",
       "      <td>18.59375</td>\n",
       "      <td>18.59375</td>\n",
       "      <td>18.593750</td>\n",
       "      <td>18.593750</td>\n",
       "      <td>18.593750</td>\n",
       "      <td>18.593750</td>\n",
       "      <td>17.317460</td>\n",
       "      <td>18.593750</td>\n",
       "      <td>18.593750</td>\n",
       "      <td>18.593750</td>\n",
       "      <td>17.317460</td>\n",
       "      <td>18.593750</td>\n",
       "      <td>18.593750</td>\n",
       "      <td>18.593750</td>\n",
       "      <td>17.317460</td>\n",
       "      <td>16.000000</td>\n",
       "      <td>16.000000</td>\n",
       "      <td>16.000000</td>\n",
       "      <td>16.000000</td>\n",
       "      <td>17.317460</td>\n",
       "    </tr>\n",
       "    <tr>\n",
       "      <th>11</th>\n",
       "      <td>18.59375</td>\n",
       "      <td>18.59375</td>\n",
       "      <td>18.593750</td>\n",
       "      <td>18.593750</td>\n",
       "      <td>18.396825</td>\n",
       "      <td>18.593750</td>\n",
       "      <td>17.317460</td>\n",
       "      <td>17.317460</td>\n",
       "      <td>18.593750</td>\n",
       "      <td>18.593750</td>\n",
       "      <td>18.193548</td>\n",
       "      <td>18.193548</td>\n",
       "      <td>18.193548</td>\n",
       "      <td>18.193548</td>\n",
       "      <td>16.868852</td>\n",
       "      <td>18.193548</td>\n",
       "      <td>16.868852</td>\n",
       "      <td>16.868852</td>\n",
       "      <td>15.500000</td>\n",
       "      <td>15.500000</td>\n",
       "    </tr>\n",
       "    <tr>\n",
       "      <th>12</th>\n",
       "      <td>18.59375</td>\n",
       "      <td>18.59375</td>\n",
       "      <td>18.593750</td>\n",
       "      <td>18.593750</td>\n",
       "      <td>18.593750</td>\n",
       "      <td>18.593750</td>\n",
       "      <td>18.593750</td>\n",
       "      <td>18.593750</td>\n",
       "      <td>18.593750</td>\n",
       "      <td>18.593750</td>\n",
       "      <td>18.593750</td>\n",
       "      <td>17.317460</td>\n",
       "      <td>17.317460</td>\n",
       "      <td>17.317460</td>\n",
       "      <td>17.317460</td>\n",
       "      <td>17.317460</td>\n",
       "      <td>16.000000</td>\n",
       "      <td>17.317460</td>\n",
       "      <td>16.000000</td>\n",
       "      <td>16.000000</td>\n",
       "    </tr>\n",
       "  </tbody>\n",
       "</table>\n",
       "</div>"
      ],
      "text/plain": [
       "            day                                                        \\\n",
       "year       1969      1970       1971       1972       1973       1974   \n",
       "month                                                                   \n",
       "1      18.59375  18.59375  18.593750  18.593750  18.593750  18.593750   \n",
       "2      18.59375  18.59375  18.032787  18.209677  17.800000  18.225806   \n",
       "3      18.59375  18.59375  18.593750  18.593750  18.593750  18.593750   \n",
       "4      18.59375  18.59375  18.593750  18.593750  18.396825  18.593750   \n",
       "5      18.59375  18.59375  18.593750  18.593750  18.593750  18.593750   \n",
       "6      18.59375  18.59375  18.396825  18.396825  18.593750  18.593750   \n",
       "7      18.59375  18.59375  18.593750  18.593750  18.593750  18.593750   \n",
       "8      18.59375  18.59375  18.593750  18.593750  18.593750  18.593750   \n",
       "9      18.59375  18.59375  18.593750  18.593750  18.593750  18.593750   \n",
       "10     18.59375  18.59375  18.593750  18.593750  18.593750  18.593750   \n",
       "11     18.59375  18.59375  18.593750  18.593750  18.396825  18.593750   \n",
       "12     18.59375  18.59375  18.593750  18.593750  18.593750  18.593750   \n",
       "\n",
       "                                                                         \\\n",
       "year        1975       1976       1977       1978       1979       1980   \n",
       "month                                                                     \n",
       "1      18.593750  18.593750  17.317460  16.000000  16.000000  16.000000   \n",
       "2      18.016393  18.000000  18.032787  17.317460  17.413793  16.423729   \n",
       "3      18.593750  18.593750  18.593750  16.000000  18.593750  18.593750   \n",
       "4      18.593750  18.396825  15.754098  18.593750  16.868852  18.193548   \n",
       "5      18.593750  18.593750  18.593750  18.593750  17.317460  16.000000   \n",
       "6      18.593750  18.396825  18.593750  18.396825  16.868852  18.193548   \n",
       "7      18.593750  18.593750  18.593750  17.317460  17.317460  17.317460   \n",
       "8      18.593750  18.593750  18.593750  18.593750  18.593750  16.000000   \n",
       "9      18.593750  18.396825  18.593750  18.593750  18.193548  18.193548   \n",
       "10     17.317460  18.593750  18.593750  18.593750  17.317460  18.593750   \n",
       "11     17.317460  17.317460  18.593750  18.593750  18.193548  18.193548   \n",
       "12     18.593750  18.593750  18.593750  18.593750  18.593750  17.317460   \n",
       "\n",
       "                                                                         \\\n",
       "year        1981       1982       1983       1984       1985       1986   \n",
       "month                                                                     \n",
       "1      18.593750  17.317460  18.593750  18.593750  18.593750  16.000000   \n",
       "2      17.413793  17.413793  17.413793  16.423729  17.413793  17.413793   \n",
       "3      16.000000  18.593750  18.593750  17.317460  16.000000  16.000000   \n",
       "4      15.500000  18.193548  18.193548  18.193548  16.868852  15.500000   \n",
       "5      17.317460  16.000000  17.317460  17.317460  16.000000  16.000000   \n",
       "6      18.193548  16.868852  18.193548  18.193548  15.500000  15.500000   \n",
       "7      17.317460  18.593750  18.593750  17.317460  16.000000  17.317460   \n",
       "8      17.317460  18.593750  18.593750  17.317460  17.317460  16.000000   \n",
       "9      16.868852  16.868852  16.868852  16.868852  15.500000  16.868852   \n",
       "10     18.593750  18.593750  17.317460  16.000000  16.000000  16.000000   \n",
       "11     18.193548  18.193548  16.868852  18.193548  16.868852  16.868852   \n",
       "12     17.317460  17.317460  17.317460  17.317460  16.000000  17.317460   \n",
       "\n",
       "                             \n",
       "year        1987       1988  \n",
       "month                        \n",
       "1      16.000000  16.000000  \n",
       "2      15.982456  15.000000  \n",
       "3      17.317460  18.593750  \n",
       "4      16.868852  16.868852  \n",
       "5      16.000000  17.317460  \n",
       "6      15.500000  18.193548  \n",
       "7      16.000000  16.000000  \n",
       "8      16.000000  16.000000  \n",
       "9      15.500000  15.500000  \n",
       "10     16.000000  17.317460  \n",
       "11     15.500000  15.500000  \n",
       "12     16.000000  16.000000  "
      ]
     },
     "execution_count": 249,
     "metadata": {},
     "output_type": "execute_result"
    }
   ],
   "source": [
    "test.pivot_table(index=\"month\",columns=\"year\")"
   ]
  },
  {
   "cell_type": "markdown",
   "id": "7584bb0f",
   "metadata": {},
   "source": [
    "<h2></h2>"
   ]
  },
  {
   "cell_type": "markdown",
   "id": "386ca2b0",
   "metadata": {},
   "source": [
    "<h2>PART-B</h2>"
   ]
  },
  {
   "cell_type": "markdown",
   "id": "5080567c",
   "metadata": {},
   "source": [
    "<h3>Q-2</h3>"
   ]
  },
  {
   "cell_type": "code",
   "execution_count": 270,
   "id": "f14631a4",
   "metadata": {},
   "outputs": [],
   "source": [
    "df=pd.read_csv(\"Fremont_Bridge_Bicycle_Counter.csv\")"
   ]
  },
  {
   "cell_type": "code",
   "execution_count": 271,
   "id": "fac3b8f9",
   "metadata": {},
   "outputs": [
    {
     "data": {
      "text/html": [
       "<div>\n",
       "<style scoped>\n",
       "    .dataframe tbody tr th:only-of-type {\n",
       "        vertical-align: middle;\n",
       "    }\n",
       "\n",
       "    .dataframe tbody tr th {\n",
       "        vertical-align: top;\n",
       "    }\n",
       "\n",
       "    .dataframe thead th {\n",
       "        text-align: right;\n",
       "    }\n",
       "</style>\n",
       "<table border=\"1\" class=\"dataframe\">\n",
       "  <thead>\n",
       "    <tr style=\"text-align: right;\">\n",
       "      <th></th>\n",
       "      <th>Date</th>\n",
       "      <th>Fremont Bridge Total</th>\n",
       "      <th>Fremont Bridge East Sidewalk</th>\n",
       "      <th>Fremont Bridge West Sidewalk</th>\n",
       "    </tr>\n",
       "  </thead>\n",
       "  <tbody>\n",
       "    <tr>\n",
       "      <th>0</th>\n",
       "      <td>10/03/2012 12:00:00 AM</td>\n",
       "      <td>13.0</td>\n",
       "      <td>4.0</td>\n",
       "      <td>9.0</td>\n",
       "    </tr>\n",
       "    <tr>\n",
       "      <th>1</th>\n",
       "      <td>10/03/2012 01:00:00 AM</td>\n",
       "      <td>10.0</td>\n",
       "      <td>4.0</td>\n",
       "      <td>6.0</td>\n",
       "    </tr>\n",
       "    <tr>\n",
       "      <th>2</th>\n",
       "      <td>10/03/2012 02:00:00 AM</td>\n",
       "      <td>2.0</td>\n",
       "      <td>1.0</td>\n",
       "      <td>1.0</td>\n",
       "    </tr>\n",
       "    <tr>\n",
       "      <th>3</th>\n",
       "      <td>10/03/2012 03:00:00 AM</td>\n",
       "      <td>5.0</td>\n",
       "      <td>2.0</td>\n",
       "      <td>3.0</td>\n",
       "    </tr>\n",
       "    <tr>\n",
       "      <th>4</th>\n",
       "      <td>10/03/2012 04:00:00 AM</td>\n",
       "      <td>7.0</td>\n",
       "      <td>6.0</td>\n",
       "      <td>1.0</td>\n",
       "    </tr>\n",
       "    <tr>\n",
       "      <th>...</th>\n",
       "      <td>...</td>\n",
       "      <td>...</td>\n",
       "      <td>...</td>\n",
       "      <td>...</td>\n",
       "    </tr>\n",
       "    <tr>\n",
       "      <th>87595</th>\n",
       "      <td>09/30/2022 07:00:00 PM</td>\n",
       "      <td>168.0</td>\n",
       "      <td>57.0</td>\n",
       "      <td>111.0</td>\n",
       "    </tr>\n",
       "    <tr>\n",
       "      <th>87596</th>\n",
       "      <td>09/30/2022 08:00:00 PM</td>\n",
       "      <td>73.0</td>\n",
       "      <td>33.0</td>\n",
       "      <td>40.0</td>\n",
       "    </tr>\n",
       "    <tr>\n",
       "      <th>87597</th>\n",
       "      <td>09/30/2022 09:00:00 PM</td>\n",
       "      <td>69.0</td>\n",
       "      <td>30.0</td>\n",
       "      <td>39.0</td>\n",
       "    </tr>\n",
       "    <tr>\n",
       "      <th>87598</th>\n",
       "      <td>09/30/2022 10:00:00 PM</td>\n",
       "      <td>51.0</td>\n",
       "      <td>10.0</td>\n",
       "      <td>41.0</td>\n",
       "    </tr>\n",
       "    <tr>\n",
       "      <th>87599</th>\n",
       "      <td>09/30/2022 11:00:00 PM</td>\n",
       "      <td>59.0</td>\n",
       "      <td>22.0</td>\n",
       "      <td>37.0</td>\n",
       "    </tr>\n",
       "  </tbody>\n",
       "</table>\n",
       "<p>87600 rows × 4 columns</p>\n",
       "</div>"
      ],
      "text/plain": [
       "                         Date  Fremont Bridge Total  \\\n",
       "0      10/03/2012 12:00:00 AM                  13.0   \n",
       "1      10/03/2012 01:00:00 AM                  10.0   \n",
       "2      10/03/2012 02:00:00 AM                   2.0   \n",
       "3      10/03/2012 03:00:00 AM                   5.0   \n",
       "4      10/03/2012 04:00:00 AM                   7.0   \n",
       "...                       ...                   ...   \n",
       "87595  09/30/2022 07:00:00 PM                 168.0   \n",
       "87596  09/30/2022 08:00:00 PM                  73.0   \n",
       "87597  09/30/2022 09:00:00 PM                  69.0   \n",
       "87598  09/30/2022 10:00:00 PM                  51.0   \n",
       "87599  09/30/2022 11:00:00 PM                  59.0   \n",
       "\n",
       "       Fremont Bridge East Sidewalk  Fremont Bridge West Sidewalk  \n",
       "0                               4.0                           9.0  \n",
       "1                               4.0                           6.0  \n",
       "2                               1.0                           1.0  \n",
       "3                               2.0                           3.0  \n",
       "4                               6.0                           1.0  \n",
       "...                             ...                           ...  \n",
       "87595                          57.0                         111.0  \n",
       "87596                          33.0                          40.0  \n",
       "87597                          30.0                          39.0  \n",
       "87598                          10.0                          41.0  \n",
       "87599                          22.0                          37.0  \n",
       "\n",
       "[87600 rows x 4 columns]"
      ]
     },
     "execution_count": 271,
     "metadata": {},
     "output_type": "execute_result"
    }
   ],
   "source": [
    "df"
   ]
  },
  {
   "cell_type": "markdown",
   "id": "c293d2e5",
   "metadata": {},
   "source": [
    "<p><b>Index by time</b></p>"
   ]
  },
  {
   "cell_type": "code",
   "execution_count": 272,
   "id": "cd011e4f",
   "metadata": {},
   "outputs": [
    {
     "data": {
      "text/plain": [
       "Date                             object\n",
       "Fremont Bridge Total            float64\n",
       "Fremont Bridge East Sidewalk    float64\n",
       "Fremont Bridge West Sidewalk    float64\n",
       "dtype: object"
      ]
     },
     "execution_count": 272,
     "metadata": {},
     "output_type": "execute_result"
    }
   ],
   "source": [
    "df.dtypes"
   ]
  },
  {
   "cell_type": "code",
   "execution_count": 273,
   "id": "12431bbd",
   "metadata": {},
   "outputs": [],
   "source": [
    "list=df.Date"
   ]
  },
  {
   "cell_type": "code",
   "execution_count": 274,
   "id": "c29ad8a7",
   "metadata": {},
   "outputs": [],
   "source": [
    "new=pd.DatetimeIndex(list)"
   ]
  },
  {
   "cell_type": "code",
   "execution_count": 275,
   "id": "1ce9ff23",
   "metadata": {},
   "outputs": [
    {
     "data": {
      "text/plain": [
       "DatetimeIndex(['2012-10-03 00:00:00', '2012-10-03 01:00:00',\n",
       "               '2012-10-03 02:00:00', '2012-10-03 03:00:00',\n",
       "               '2012-10-03 04:00:00', '2012-10-03 05:00:00',\n",
       "               '2012-10-03 06:00:00', '2012-10-03 07:00:00',\n",
       "               '2012-10-03 08:00:00', '2012-10-03 09:00:00',\n",
       "               ...\n",
       "               '2022-09-30 14:00:00', '2022-09-30 15:00:00',\n",
       "               '2022-09-30 16:00:00', '2022-09-30 17:00:00',\n",
       "               '2022-09-30 18:00:00', '2022-09-30 19:00:00',\n",
       "               '2022-09-30 20:00:00', '2022-09-30 21:00:00',\n",
       "               '2022-09-30 22:00:00', '2022-09-30 23:00:00'],\n",
       "              dtype='datetime64[ns]', name='Date', length=87600, freq=None)"
      ]
     },
     "execution_count": 275,
     "metadata": {},
     "output_type": "execute_result"
    }
   ],
   "source": [
    "new"
   ]
  },
  {
   "cell_type": "code",
   "execution_count": 276,
   "id": "ca8c8d5c",
   "metadata": {},
   "outputs": [],
   "source": [
    "lister=[]\n",
    "for i in range(len(new)):\n",
    "    lister.append(i)\n",
    "data = pd.Series(lister,index=new)"
   ]
  },
  {
   "cell_type": "code",
   "execution_count": 277,
   "id": "80b58c8e",
   "metadata": {},
   "outputs": [
    {
     "data": {
      "text/plain": [
       "Date\n",
       "2012-10-03 00:00:00        0\n",
       "2012-10-03 01:00:00        1\n",
       "2012-10-03 02:00:00        2\n",
       "2012-10-03 03:00:00        3\n",
       "2012-10-03 04:00:00        4\n",
       "                       ...  \n",
       "2022-09-30 11:00:00    87587\n",
       "2022-09-30 12:00:00    87588\n",
       "2022-09-30 13:00:00    87589\n",
       "2022-09-30 14:00:00    87590\n",
       "2022-09-30 15:00:00    87591\n",
       "Length: 87592, dtype: int64"
      ]
     },
     "execution_count": 277,
     "metadata": {},
     "output_type": "execute_result"
    }
   ],
   "source": [
    "data[\"2012-10-03 00:00:00\":\"2022-09-30 15:00:00\"]"
   ]
  },
  {
   "cell_type": "code",
   "execution_count": 278,
   "id": "0f4d8f0a",
   "metadata": {},
   "outputs": [
    {
     "data": {
      "text/plain": [
       "(87600,)"
      ]
     },
     "execution_count": 278,
     "metadata": {},
     "output_type": "execute_result"
    }
   ],
   "source": [
    "data.shape"
   ]
  },
  {
   "cell_type": "code",
   "execution_count": 279,
   "id": "571f411d",
   "metadata": {},
   "outputs": [
    {
     "data": {
      "text/plain": [
       "(87592,)"
      ]
     },
     "execution_count": 279,
     "metadata": {},
     "output_type": "execute_result"
    }
   ],
   "source": [
    "data[\"2012-10-03 00:00:00\":\"2022-09-30 15:00:00\"].shape"
   ]
  },
  {
   "cell_type": "markdown",
   "id": "acbc7e85",
   "metadata": {},
   "source": [
    "<p><b> Resample</b></p>"
   ]
  },
  {
   "cell_type": "code",
   "execution_count": 280,
   "id": "7eaba656",
   "metadata": {},
   "outputs": [],
   "source": [
    "df.Date=df.Date.astype(\"datetime64[ns]\")"
   ]
  },
  {
   "cell_type": "code",
   "execution_count": 281,
   "id": "13c8b417",
   "metadata": {},
   "outputs": [
    {
     "data": {
      "text/plain": [
       "Date                            datetime64[ns]\n",
       "Fremont Bridge Total                   float64\n",
       "Fremont Bridge East Sidewalk           float64\n",
       "Fremont Bridge West Sidewalk           float64\n",
       "dtype: object"
      ]
     },
     "execution_count": 281,
     "metadata": {},
     "output_type": "execute_result"
    }
   ],
   "source": [
    "df.dtypes"
   ]
  },
  {
   "cell_type": "code",
   "execution_count": 282,
   "id": "3d0dda99",
   "metadata": {},
   "outputs": [
    {
     "data": {
      "text/html": [
       "<div>\n",
       "<style scoped>\n",
       "    .dataframe tbody tr th:only-of-type {\n",
       "        vertical-align: middle;\n",
       "    }\n",
       "\n",
       "    .dataframe tbody tr th {\n",
       "        vertical-align: top;\n",
       "    }\n",
       "\n",
       "    .dataframe thead th {\n",
       "        text-align: right;\n",
       "    }\n",
       "</style>\n",
       "<table border=\"1\" class=\"dataframe\">\n",
       "  <thead>\n",
       "    <tr style=\"text-align: right;\">\n",
       "      <th></th>\n",
       "      <th>Date</th>\n",
       "      <th>Fremont Bridge Total</th>\n",
       "      <th>Fremont Bridge East Sidewalk</th>\n",
       "      <th>Fremont Bridge West Sidewalk</th>\n",
       "    </tr>\n",
       "  </thead>\n",
       "  <tbody>\n",
       "    <tr>\n",
       "      <th>0</th>\n",
       "      <td>2012-10-03 00:00:00</td>\n",
       "      <td>13.0</td>\n",
       "      <td>4.0</td>\n",
       "      <td>9.0</td>\n",
       "    </tr>\n",
       "    <tr>\n",
       "      <th>1</th>\n",
       "      <td>2012-10-03 01:00:00</td>\n",
       "      <td>10.0</td>\n",
       "      <td>4.0</td>\n",
       "      <td>6.0</td>\n",
       "    </tr>\n",
       "    <tr>\n",
       "      <th>2</th>\n",
       "      <td>2012-10-03 02:00:00</td>\n",
       "      <td>2.0</td>\n",
       "      <td>1.0</td>\n",
       "      <td>1.0</td>\n",
       "    </tr>\n",
       "    <tr>\n",
       "      <th>3</th>\n",
       "      <td>2012-10-03 03:00:00</td>\n",
       "      <td>5.0</td>\n",
       "      <td>2.0</td>\n",
       "      <td>3.0</td>\n",
       "    </tr>\n",
       "    <tr>\n",
       "      <th>4</th>\n",
       "      <td>2012-10-03 04:00:00</td>\n",
       "      <td>7.0</td>\n",
       "      <td>6.0</td>\n",
       "      <td>1.0</td>\n",
       "    </tr>\n",
       "  </tbody>\n",
       "</table>\n",
       "</div>"
      ],
      "text/plain": [
       "                 Date  Fremont Bridge Total  Fremont Bridge East Sidewalk  \\\n",
       "0 2012-10-03 00:00:00                  13.0                           4.0   \n",
       "1 2012-10-03 01:00:00                  10.0                           4.0   \n",
       "2 2012-10-03 02:00:00                   2.0                           1.0   \n",
       "3 2012-10-03 03:00:00                   5.0                           2.0   \n",
       "4 2012-10-03 04:00:00                   7.0                           6.0   \n",
       "\n",
       "   Fremont Bridge West Sidewalk  \n",
       "0                           9.0  \n",
       "1                           6.0  \n",
       "2                           1.0  \n",
       "3                           3.0  \n",
       "4                           1.0  "
      ]
     },
     "execution_count": 282,
     "metadata": {},
     "output_type": "execute_result"
    }
   ],
   "source": [
    "df.head()"
   ]
  },
  {
   "cell_type": "code",
   "execution_count": 283,
   "id": "9243c6b6",
   "metadata": {},
   "outputs": [],
   "source": [
    "df.dropna(inplace=True)\n",
    "df.set_index(\"Date\",inplace=True)"
   ]
  },
  {
   "cell_type": "code",
   "execution_count": 284,
   "id": "c442bfe2",
   "metadata": {},
   "outputs": [
    {
     "name": "stdout",
     "output_type": "stream",
     "text": [
      "Hours - 5 Mins\n",
      "\n"
     ]
    },
    {
     "data": {
      "text/html": [
       "<div>\n",
       "<style scoped>\n",
       "    .dataframe tbody tr th:only-of-type {\n",
       "        vertical-align: middle;\n",
       "    }\n",
       "\n",
       "    .dataframe tbody tr th {\n",
       "        vertical-align: top;\n",
       "    }\n",
       "\n",
       "    .dataframe thead th {\n",
       "        text-align: right;\n",
       "    }\n",
       "</style>\n",
       "<table border=\"1\" class=\"dataframe\">\n",
       "  <thead>\n",
       "    <tr style=\"text-align: right;\">\n",
       "      <th></th>\n",
       "      <th>Fremont Bridge Total</th>\n",
       "      <th>Fremont Bridge East Sidewalk</th>\n",
       "      <th>Fremont Bridge West Sidewalk</th>\n",
       "    </tr>\n",
       "    <tr>\n",
       "      <th>Date</th>\n",
       "      <th></th>\n",
       "      <th></th>\n",
       "      <th></th>\n",
       "    </tr>\n",
       "  </thead>\n",
       "  <tbody>\n",
       "    <tr>\n",
       "      <th>2012-10-03 00:00:00</th>\n",
       "      <td>13.0</td>\n",
       "      <td>4.0</td>\n",
       "      <td>9.0</td>\n",
       "    </tr>\n",
       "    <tr>\n",
       "      <th>2012-10-03 00:05:00</th>\n",
       "      <td>NaN</td>\n",
       "      <td>NaN</td>\n",
       "      <td>NaN</td>\n",
       "    </tr>\n",
       "    <tr>\n",
       "      <th>2012-10-03 00:10:00</th>\n",
       "      <td>NaN</td>\n",
       "      <td>NaN</td>\n",
       "      <td>NaN</td>\n",
       "    </tr>\n",
       "    <tr>\n",
       "      <th>2012-10-03 00:15:00</th>\n",
       "      <td>NaN</td>\n",
       "      <td>NaN</td>\n",
       "      <td>NaN</td>\n",
       "    </tr>\n",
       "    <tr>\n",
       "      <th>2012-10-03 00:20:00</th>\n",
       "      <td>NaN</td>\n",
       "      <td>NaN</td>\n",
       "      <td>NaN</td>\n",
       "    </tr>\n",
       "  </tbody>\n",
       "</table>\n",
       "</div>"
      ],
      "text/plain": [
       "                     Fremont Bridge Total  Fremont Bridge East Sidewalk  \\\n",
       "Date                                                                      \n",
       "2012-10-03 00:00:00                  13.0                           4.0   \n",
       "2012-10-03 00:05:00                   NaN                           NaN   \n",
       "2012-10-03 00:10:00                   NaN                           NaN   \n",
       "2012-10-03 00:15:00                   NaN                           NaN   \n",
       "2012-10-03 00:20:00                   NaN                           NaN   \n",
       "\n",
       "                     Fremont Bridge West Sidewalk  \n",
       "Date                                               \n",
       "2012-10-03 00:00:00                           9.0  \n",
       "2012-10-03 00:05:00                           NaN  \n",
       "2012-10-03 00:10:00                           NaN  \n",
       "2012-10-03 00:15:00                           NaN  \n",
       "2012-10-03 00:20:00                           NaN  "
      ]
     },
     "execution_count": 284,
     "metadata": {},
     "output_type": "execute_result"
    }
   ],
   "source": [
    "print(\"Hours - 5 Mins\")\n",
    "print(\"\")\n",
    "df.resample('5Min').mean().head()"
   ]
  },
  {
   "cell_type": "code",
   "execution_count": 285,
   "id": "e74b9cf4",
   "metadata": {},
   "outputs": [
    {
     "name": "stdout",
     "output_type": "stream",
     "text": [
      "Month wise : \n"
     ]
    },
    {
     "data": {
      "text/html": [
       "<div>\n",
       "<style scoped>\n",
       "    .dataframe tbody tr th:only-of-type {\n",
       "        vertical-align: middle;\n",
       "    }\n",
       "\n",
       "    .dataframe tbody tr th {\n",
       "        vertical-align: top;\n",
       "    }\n",
       "\n",
       "    .dataframe thead th {\n",
       "        text-align: right;\n",
       "    }\n",
       "</style>\n",
       "<table border=\"1\" class=\"dataframe\">\n",
       "  <thead>\n",
       "    <tr style=\"text-align: right;\">\n",
       "      <th></th>\n",
       "      <th>Fremont Bridge Total</th>\n",
       "      <th>Fremont Bridge East Sidewalk</th>\n",
       "      <th>Fremont Bridge West Sidewalk</th>\n",
       "    </tr>\n",
       "    <tr>\n",
       "      <th>Date</th>\n",
       "      <th></th>\n",
       "      <th></th>\n",
       "      <th></th>\n",
       "    </tr>\n",
       "  </thead>\n",
       "  <tbody>\n",
       "    <tr>\n",
       "      <th>2012-10-31</th>\n",
       "      <td>94.389368</td>\n",
       "      <td>48.511494</td>\n",
       "      <td>45.877874</td>\n",
       "    </tr>\n",
       "    <tr>\n",
       "      <th>2012-11-30</th>\n",
       "      <td>70.343056</td>\n",
       "      <td>36.197222</td>\n",
       "      <td>34.145833</td>\n",
       "    </tr>\n",
       "    <tr>\n",
       "      <th>2012-12-31</th>\n",
       "      <td>48.883065</td>\n",
       "      <td>25.010753</td>\n",
       "      <td>23.872312</td>\n",
       "    </tr>\n",
       "    <tr>\n",
       "      <th>2013-01-31</th>\n",
       "      <td>60.327957</td>\n",
       "      <td>30.793011</td>\n",
       "      <td>29.534946</td>\n",
       "    </tr>\n",
       "    <tr>\n",
       "      <th>2013-02-28</th>\n",
       "      <td>74.444940</td>\n",
       "      <td>38.538690</td>\n",
       "      <td>35.906250</td>\n",
       "    </tr>\n",
       "  </tbody>\n",
       "</table>\n",
       "</div>"
      ],
      "text/plain": [
       "            Fremont Bridge Total  Fremont Bridge East Sidewalk  \\\n",
       "Date                                                             \n",
       "2012-10-31             94.389368                     48.511494   \n",
       "2012-11-30             70.343056                     36.197222   \n",
       "2012-12-31             48.883065                     25.010753   \n",
       "2013-01-31             60.327957                     30.793011   \n",
       "2013-02-28             74.444940                     38.538690   \n",
       "\n",
       "            Fremont Bridge West Sidewalk  \n",
       "Date                                      \n",
       "2012-10-31                     45.877874  \n",
       "2012-11-30                     34.145833  \n",
       "2012-12-31                     23.872312  \n",
       "2013-01-31                     29.534946  \n",
       "2013-02-28                     35.906250  "
      ]
     },
     "execution_count": 285,
     "metadata": {},
     "output_type": "execute_result"
    }
   ],
   "source": [
    "print(\"Month wise : \")\n",
    "df.resample('M').mean().head()"
   ]
  },
  {
   "cell_type": "markdown",
   "id": "bcdf5785",
   "metadata": {},
   "source": [
    "<p><b>Time Shifts</b></p>"
   ]
  },
  {
   "cell_type": "code",
   "execution_count": 287,
   "id": "471eb8ab",
   "metadata": {},
   "outputs": [],
   "source": [
    "import seaborn as sns"
   ]
  },
  {
   "cell_type": "code",
   "execution_count": 292,
   "id": "da54e724",
   "metadata": {},
   "outputs": [
    {
     "name": "stderr",
     "output_type": "stream",
     "text": [
      "<ipython-input-292-3890648c3466>:5: FutureWarning: tshift is deprecated and will be removed in a future version. Please use shift instead.\n",
      "  df.tshift(300).plot(ax=ax[2])\n"
     ]
    },
    {
     "data": {
      "text/plain": [
       "<matplotlib.lines.Line2D at 0x20ed6fc1ac0>"
      ]
     },
     "execution_count": 292,
     "metadata": {},
     "output_type": "execute_result"
    },
    {
     "data": {
      "image/png": "[encoded data removed]",
      "text/plain": [
       "<Figure size 432x288 with 3 Axes>"
      ]
     },
     "metadata": {
      "needs_background": "light"
     },
     "output_type": "display_data"
    }
   ],
   "source": [
    "fig, ax = plt.subplots(3, sharey=True)\n",
    "df = df.asfreq('D', method='pad')\n",
    "df.plot(ax=ax[0])\n",
    "df.shift(300).plot(ax=ax[1])\n",
    "df.tshift(300).plot(ax=ax[2])\n",
    "local_max = pd.to_datetime('2006-10-03')\n",
    "offset = pd.Timedelta(300, 'D')\n",
    "ax[0].legend(['input'], loc=2)\n",
    "ax[0].get_xticklabels()[2].set(color='red')\n",
    "ax[0].axvline(local_max, alpha=0.3, color='red')\n",
    "ax[1].legend(['shift(300)'], loc=2)\n",
    "ax[1].get_xticklabels()[2].set(color='red')\n",
    "ax[1].axvline(local_max + offset, alpha=0.3, color='red')\n",
    "ax[2].legend(['tshift(300)'], loc=2)\n",
    "ax[2].get_xticklabels()[1].set( color='red')\n",
    "ax[2].axvline(local_max + offset, alpha=0.3, color='red')"
   ]
  },
  {
   "cell_type": "markdown",
   "id": "2b0588d1",
   "metadata": {},
   "source": [
    "<p><b>Rolling Windows</b></p>"
   ]
  },
  {
   "cell_type": "code",
   "execution_count": 294,
   "id": "fe3d0435",
   "metadata": {},
   "outputs": [
    {
     "data": {
      "image/png": "[encoded data removed]",
      "text/plain": [
       "<Figure size 432x288 with 1 Axes>"
      ]
     },
     "metadata": {
      "needs_background": "light"
     },
     "output_type": "display_data"
    }
   ],
   "source": [
    "rolling = df.rolling(window=5)\n",
    "rolling_mean = rolling.mean()\n",
    "rolling_std = rolling.std()\n",
    "plt.plot(df.index,df['Fremont Bridge East Sidewalk'], color='pink', label='original')\n",
    "plt.plot(rolling_mean.index, rolling_mean['Fremont Bridge East Sidewalk'], color='r', label='transformed')\n",
    "plt.plot(rolling_std.index, rolling_std['Fremont Bridge East Sidewalk'], color='r', label='transformed')\n",
    "plt.show()"
   ]
  },
  {
   "cell_type": "markdown",
   "id": "b4da1ae9",
   "metadata": {},
   "source": [
    "<p><b>Visualization</b></p>"
   ]
  },
  {
   "cell_type": "code",
   "execution_count": 295,
   "id": "66f6ddb6",
   "metadata": {},
   "outputs": [],
   "source": [
    "#sample visualizations"
   ]
  },
  {
   "cell_type": "code",
   "execution_count": 299,
   "id": "eaeec19e",
   "metadata": {},
   "outputs": [
    {
     "data": {
      "text/plain": [
       "<AxesSubplot:xlabel='Date'>"
      ]
     },
     "execution_count": 299,
     "metadata": {},
     "output_type": "execute_result"
    },
    {
     "data": {
      "image/png": "[encoded data removed]",
      "text/plain": [
       "<Figure size 432x288 with 1 Axes>"
      ]
     },
     "metadata": {
      "needs_background": "light"
     },
     "output_type": "display_data"
    }
   ],
   "source": [
    "daily = df.resample('D').sum()\n",
    "daily.rolling(50, center=True,win_type='gaussian').sum(std=10).plot(style=[':', '--', '-'])"
   ]
  },
  {
   "cell_type": "markdown",
   "id": "9faa4cda",
   "metadata": {},
   "source": [
    "<h3>Q-3</h3>"
   ]
  },
  {
   "cell_type": "code",
   "execution_count": 300,
   "id": "7660ae12",
   "metadata": {},
   "outputs": [],
   "source": [
    "df=pd.read_csv(\"stock_px_2.csv\")"
   ]
  },
  {
   "cell_type": "code",
   "execution_count": 301,
   "id": "10ab7243",
   "metadata": {},
   "outputs": [
    {
     "data": {
      "text/html": [
       "<div>\n",
       "<style scoped>\n",
       "    .dataframe tbody tr th:only-of-type {\n",
       "        vertical-align: middle;\n",
       "    }\n",
       "\n",
       "    .dataframe tbody tr th {\n",
       "        vertical-align: top;\n",
       "    }\n",
       "\n",
       "    .dataframe thead th {\n",
       "        text-align: right;\n",
       "    }\n",
       "</style>\n",
       "<table border=\"1\" class=\"dataframe\">\n",
       "  <thead>\n",
       "    <tr style=\"text-align: right;\">\n",
       "      <th></th>\n",
       "      <th>Unnamed: 0</th>\n",
       "      <th>AAPL</th>\n",
       "      <th>MSFT</th>\n",
       "      <th>XOM</th>\n",
       "      <th>SPX</th>\n",
       "    </tr>\n",
       "  </thead>\n",
       "  <tbody>\n",
       "    <tr>\n",
       "      <th>0</th>\n",
       "      <td>2003-01-02 00:00:00</td>\n",
       "      <td>7.40</td>\n",
       "      <td>21.11</td>\n",
       "      <td>29.22</td>\n",
       "      <td>909.03</td>\n",
       "    </tr>\n",
       "    <tr>\n",
       "      <th>1</th>\n",
       "      <td>2003-01-03 00:00:00</td>\n",
       "      <td>7.45</td>\n",
       "      <td>21.14</td>\n",
       "      <td>29.24</td>\n",
       "      <td>908.59</td>\n",
       "    </tr>\n",
       "    <tr>\n",
       "      <th>2</th>\n",
       "      <td>2003-01-06 00:00:00</td>\n",
       "      <td>7.45</td>\n",
       "      <td>21.52</td>\n",
       "      <td>29.96</td>\n",
       "      <td>929.01</td>\n",
       "    </tr>\n",
       "    <tr>\n",
       "      <th>3</th>\n",
       "      <td>2003-01-07 00:00:00</td>\n",
       "      <td>7.43</td>\n",
       "      <td>21.93</td>\n",
       "      <td>28.95</td>\n",
       "      <td>922.93</td>\n",
       "    </tr>\n",
       "    <tr>\n",
       "      <th>4</th>\n",
       "      <td>2003-01-08 00:00:00</td>\n",
       "      <td>7.28</td>\n",
       "      <td>21.31</td>\n",
       "      <td>28.83</td>\n",
       "      <td>909.93</td>\n",
       "    </tr>\n",
       "  </tbody>\n",
       "</table>\n",
       "</div>"
      ],
      "text/plain": [
       "            Unnamed: 0  AAPL   MSFT    XOM     SPX\n",
       "0  2003-01-02 00:00:00  7.40  21.11  29.22  909.03\n",
       "1  2003-01-03 00:00:00  7.45  21.14  29.24  908.59\n",
       "2  2003-01-06 00:00:00  7.45  21.52  29.96  929.01\n",
       "3  2003-01-07 00:00:00  7.43  21.93  28.95  922.93\n",
       "4  2003-01-08 00:00:00  7.28  21.31  28.83  909.93"
      ]
     },
     "execution_count": 301,
     "metadata": {},
     "output_type": "execute_result"
    }
   ],
   "source": [
    "df.head()"
   ]
  },
  {
   "cell_type": "code",
   "execution_count": 303,
   "id": "a57e22d5",
   "metadata": {},
   "outputs": [],
   "source": [
    "df.set_index(\"Unnamed: 0\",inplace=True)"
   ]
  },
  {
   "cell_type": "code",
   "execution_count": 304,
   "id": "202e2430",
   "metadata": {},
   "outputs": [
    {
     "data": {
      "text/html": [
       "<div>\n",
       "<style scoped>\n",
       "    .dataframe tbody tr th:only-of-type {\n",
       "        vertical-align: middle;\n",
       "    }\n",
       "\n",
       "    .dataframe tbody tr th {\n",
       "        vertical-align: top;\n",
       "    }\n",
       "\n",
       "    .dataframe thead th {\n",
       "        text-align: right;\n",
       "    }\n",
       "</style>\n",
       "<table border=\"1\" class=\"dataframe\">\n",
       "  <thead>\n",
       "    <tr style=\"text-align: right;\">\n",
       "      <th></th>\n",
       "      <th>AAPL</th>\n",
       "      <th>MSFT</th>\n",
       "      <th>XOM</th>\n",
       "      <th>SPX</th>\n",
       "    </tr>\n",
       "    <tr>\n",
       "      <th>Unnamed: 0</th>\n",
       "      <th></th>\n",
       "      <th></th>\n",
       "      <th></th>\n",
       "      <th></th>\n",
       "    </tr>\n",
       "  </thead>\n",
       "  <tbody>\n",
       "    <tr>\n",
       "      <th>2003-01-02 00:00:00</th>\n",
       "      <td>7.40</td>\n",
       "      <td>21.11</td>\n",
       "      <td>29.22</td>\n",
       "      <td>909.03</td>\n",
       "    </tr>\n",
       "    <tr>\n",
       "      <th>2003-01-03 00:00:00</th>\n",
       "      <td>7.45</td>\n",
       "      <td>21.14</td>\n",
       "      <td>29.24</td>\n",
       "      <td>908.59</td>\n",
       "    </tr>\n",
       "    <tr>\n",
       "      <th>2003-01-06 00:00:00</th>\n",
       "      <td>7.45</td>\n",
       "      <td>21.52</td>\n",
       "      <td>29.96</td>\n",
       "      <td>929.01</td>\n",
       "    </tr>\n",
       "    <tr>\n",
       "      <th>2003-01-07 00:00:00</th>\n",
       "      <td>7.43</td>\n",
       "      <td>21.93</td>\n",
       "      <td>28.95</td>\n",
       "      <td>922.93</td>\n",
       "    </tr>\n",
       "    <tr>\n",
       "      <th>2003-01-08 00:00:00</th>\n",
       "      <td>7.28</td>\n",
       "      <td>21.31</td>\n",
       "      <td>28.83</td>\n",
       "      <td>909.93</td>\n",
       "    </tr>\n",
       "  </tbody>\n",
       "</table>\n",
       "</div>"
      ],
      "text/plain": [
       "                     AAPL   MSFT    XOM     SPX\n",
       "Unnamed: 0                                     \n",
       "2003-01-02 00:00:00  7.40  21.11  29.22  909.03\n",
       "2003-01-03 00:00:00  7.45  21.14  29.24  908.59\n",
       "2003-01-06 00:00:00  7.45  21.52  29.96  929.01\n",
       "2003-01-07 00:00:00  7.43  21.93  28.95  922.93\n",
       "2003-01-08 00:00:00  7.28  21.31  28.83  909.93"
      ]
     },
     "execution_count": 304,
     "metadata": {},
     "output_type": "execute_result"
    }
   ],
   "source": [
    "df.head()"
   ]
  },
  {
   "cell_type": "markdown",
   "id": "e78a808d",
   "metadata": {},
   "source": [
    "<p><b>Indexing,Selection,Subsetting</b></p>"
   ]
  },
  {
   "cell_type": "code",
   "execution_count": 306,
   "id": "062e4e48",
   "metadata": {},
   "outputs": [
    {
     "data": {
      "text/html": [
       "<div>\n",
       "<style scoped>\n",
       "    .dataframe tbody tr th:only-of-type {\n",
       "        vertical-align: middle;\n",
       "    }\n",
       "\n",
       "    .dataframe tbody tr th {\n",
       "        vertical-align: top;\n",
       "    }\n",
       "\n",
       "    .dataframe thead th {\n",
       "        text-align: right;\n",
       "    }\n",
       "</style>\n",
       "<table border=\"1\" class=\"dataframe\">\n",
       "  <thead>\n",
       "    <tr style=\"text-align: right;\">\n",
       "      <th></th>\n",
       "      <th>XOM</th>\n",
       "    </tr>\n",
       "    <tr>\n",
       "      <th>Unnamed: 0</th>\n",
       "      <th></th>\n",
       "    </tr>\n",
       "  </thead>\n",
       "  <tbody>\n",
       "    <tr>\n",
       "      <th>2003-01-02 00:00:00</th>\n",
       "      <td>29.22</td>\n",
       "    </tr>\n",
       "    <tr>\n",
       "      <th>2003-01-03 00:00:00</th>\n",
       "      <td>29.24</td>\n",
       "    </tr>\n",
       "    <tr>\n",
       "      <th>2003-01-06 00:00:00</th>\n",
       "      <td>29.96</td>\n",
       "    </tr>\n",
       "    <tr>\n",
       "      <th>2003-01-07 00:00:00</th>\n",
       "      <td>28.95</td>\n",
       "    </tr>\n",
       "    <tr>\n",
       "      <th>2003-01-08 00:00:00</th>\n",
       "      <td>28.83</td>\n",
       "    </tr>\n",
       "    <tr>\n",
       "      <th>...</th>\n",
       "      <td>...</td>\n",
       "    </tr>\n",
       "    <tr>\n",
       "      <th>2011-10-10 00:00:00</th>\n",
       "      <td>76.28</td>\n",
       "    </tr>\n",
       "    <tr>\n",
       "      <th>2011-10-11 00:00:00</th>\n",
       "      <td>76.27</td>\n",
       "    </tr>\n",
       "    <tr>\n",
       "      <th>2011-10-12 00:00:00</th>\n",
       "      <td>77.16</td>\n",
       "    </tr>\n",
       "    <tr>\n",
       "      <th>2011-10-13 00:00:00</th>\n",
       "      <td>76.37</td>\n",
       "    </tr>\n",
       "    <tr>\n",
       "      <th>2011-10-14 00:00:00</th>\n",
       "      <td>78.11</td>\n",
       "    </tr>\n",
       "  </tbody>\n",
       "</table>\n",
       "<p>2214 rows × 1 columns</p>\n",
       "</div>"
      ],
      "text/plain": [
       "                       XOM\n",
       "Unnamed: 0                \n",
       "2003-01-02 00:00:00  29.22\n",
       "2003-01-03 00:00:00  29.24\n",
       "2003-01-06 00:00:00  29.96\n",
       "2003-01-07 00:00:00  28.95\n",
       "2003-01-08 00:00:00  28.83\n",
       "...                    ...\n",
       "2011-10-10 00:00:00  76.28\n",
       "2011-10-11 00:00:00  76.27\n",
       "2011-10-12 00:00:00  77.16\n",
       "2011-10-13 00:00:00  76.37\n",
       "2011-10-14 00:00:00  78.11\n",
       "\n",
       "[2214 rows x 1 columns]"
      ]
     },
     "execution_count": 306,
     "metadata": {},
     "output_type": "execute_result"
    }
   ],
   "source": [
    "#by columns\n",
    "df.loc[:,['XOM']]"
   ]
  },
  {
   "cell_type": "code",
   "execution_count": 307,
   "id": "bdb9390d",
   "metadata": {},
   "outputs": [
    {
     "data": {
      "text/html": [
       "<div>\n",
       "<style scoped>\n",
       "    .dataframe tbody tr th:only-of-type {\n",
       "        vertical-align: middle;\n",
       "    }\n",
       "\n",
       "    .dataframe tbody tr th {\n",
       "        vertical-align: top;\n",
       "    }\n",
       "\n",
       "    .dataframe thead th {\n",
       "        text-align: right;\n",
       "    }\n",
       "</style>\n",
       "<table border=\"1\" class=\"dataframe\">\n",
       "  <thead>\n",
       "    <tr style=\"text-align: right;\">\n",
       "      <th></th>\n",
       "      <th>AAPL</th>\n",
       "    </tr>\n",
       "    <tr>\n",
       "      <th>Unnamed: 0</th>\n",
       "      <th></th>\n",
       "    </tr>\n",
       "  </thead>\n",
       "  <tbody>\n",
       "    <tr>\n",
       "      <th>2003-01-02 00:00:00</th>\n",
       "      <td>7.40</td>\n",
       "    </tr>\n",
       "    <tr>\n",
       "      <th>2003-01-03 00:00:00</th>\n",
       "      <td>7.45</td>\n",
       "    </tr>\n",
       "    <tr>\n",
       "      <th>2003-01-06 00:00:00</th>\n",
       "      <td>7.45</td>\n",
       "    </tr>\n",
       "    <tr>\n",
       "      <th>2003-01-07 00:00:00</th>\n",
       "      <td>7.43</td>\n",
       "    </tr>\n",
       "    <tr>\n",
       "      <th>2003-01-08 00:00:00</th>\n",
       "      <td>7.28</td>\n",
       "    </tr>\n",
       "    <tr>\n",
       "      <th>...</th>\n",
       "      <td>...</td>\n",
       "    </tr>\n",
       "    <tr>\n",
       "      <th>2011-10-10 00:00:00</th>\n",
       "      <td>388.81</td>\n",
       "    </tr>\n",
       "    <tr>\n",
       "      <th>2011-10-11 00:00:00</th>\n",
       "      <td>400.29</td>\n",
       "    </tr>\n",
       "    <tr>\n",
       "      <th>2011-10-12 00:00:00</th>\n",
       "      <td>402.19</td>\n",
       "    </tr>\n",
       "    <tr>\n",
       "      <th>2011-10-13 00:00:00</th>\n",
       "      <td>408.43</td>\n",
       "    </tr>\n",
       "    <tr>\n",
       "      <th>2011-10-14 00:00:00</th>\n",
       "      <td>422.00</td>\n",
       "    </tr>\n",
       "  </tbody>\n",
       "</table>\n",
       "<p>2214 rows × 1 columns</p>\n",
       "</div>"
      ],
      "text/plain": [
       "                       AAPL\n",
       "Unnamed: 0                 \n",
       "2003-01-02 00:00:00    7.40\n",
       "2003-01-03 00:00:00    7.45\n",
       "2003-01-06 00:00:00    7.45\n",
       "2003-01-07 00:00:00    7.43\n",
       "2003-01-08 00:00:00    7.28\n",
       "...                     ...\n",
       "2011-10-10 00:00:00  388.81\n",
       "2011-10-11 00:00:00  400.29\n",
       "2011-10-12 00:00:00  402.19\n",
       "2011-10-13 00:00:00  408.43\n",
       "2011-10-14 00:00:00  422.00\n",
       "\n",
       "[2214 rows x 1 columns]"
      ]
     },
     "execution_count": 307,
     "metadata": {},
     "output_type": "execute_result"
    }
   ],
   "source": [
    "df.loc[:,['AAPL']]"
   ]
  },
  {
   "cell_type": "code",
   "execution_count": 309,
   "id": "caf4d6cf",
   "metadata": {},
   "outputs": [
    {
     "data": {
      "text/plain": [
       "Unnamed: 0\n",
       "2007-05-02 00:00:00    100.39\n",
       "2007-05-03 00:00:00    100.40\n",
       "2007-05-04 00:00:00    100.81\n",
       "2007-05-07 00:00:00    103.92\n",
       "2007-05-08 00:00:00    105.06\n",
       "                        ...  \n",
       "2011-10-10 00:00:00    388.81\n",
       "2011-10-11 00:00:00    400.29\n",
       "2011-10-12 00:00:00    402.19\n",
       "2011-10-13 00:00:00    408.43\n",
       "2011-10-14 00:00:00    422.00\n",
       "Name: AAPL, Length: 1023, dtype: float64"
      ]
     },
     "execution_count": 309,
     "metadata": {},
     "output_type": "execute_result"
    }
   ],
   "source": [
    "#selection example\n",
    "df['AAPL'][df['AAPL']>100]"
   ]
  },
  {
   "cell_type": "code",
   "execution_count": 310,
   "id": "c1832378",
   "metadata": {},
   "outputs": [],
   "source": [
    "df['Sum']=df['AAPL']+df['SPX']+df['MSFT']+df['XOM']"
   ]
  },
  {
   "cell_type": "code",
   "execution_count": 312,
   "id": "b9afc31b",
   "metadata": {},
   "outputs": [
    {
     "data": {
      "text/html": [
       "<div>\n",
       "<style scoped>\n",
       "    .dataframe tbody tr th:only-of-type {\n",
       "        vertical-align: middle;\n",
       "    }\n",
       "\n",
       "    .dataframe tbody tr th {\n",
       "        vertical-align: top;\n",
       "    }\n",
       "\n",
       "    .dataframe thead th {\n",
       "        text-align: right;\n",
       "    }\n",
       "</style>\n",
       "<table border=\"1\" class=\"dataframe\">\n",
       "  <thead>\n",
       "    <tr style=\"text-align: right;\">\n",
       "      <th></th>\n",
       "      <th>AAPL</th>\n",
       "      <th>MSFT</th>\n",
       "      <th>XOM</th>\n",
       "      <th>SPX</th>\n",
       "      <th>Sum</th>\n",
       "    </tr>\n",
       "    <tr>\n",
       "      <th>Unnamed: 0</th>\n",
       "      <th></th>\n",
       "      <th></th>\n",
       "      <th></th>\n",
       "      <th></th>\n",
       "      <th></th>\n",
       "    </tr>\n",
       "  </thead>\n",
       "  <tbody>\n",
       "    <tr>\n",
       "      <th>2003-01-02 00:00:00</th>\n",
       "      <td>7.40</td>\n",
       "      <td>21.11</td>\n",
       "      <td>29.22</td>\n",
       "      <td>909.03</td>\n",
       "      <td>966.76</td>\n",
       "    </tr>\n",
       "    <tr>\n",
       "      <th>2003-01-03 00:00:00</th>\n",
       "      <td>7.45</td>\n",
       "      <td>21.14</td>\n",
       "      <td>29.24</td>\n",
       "      <td>908.59</td>\n",
       "      <td>966.42</td>\n",
       "    </tr>\n",
       "    <tr>\n",
       "      <th>2003-01-06 00:00:00</th>\n",
       "      <td>7.45</td>\n",
       "      <td>21.52</td>\n",
       "      <td>29.96</td>\n",
       "      <td>929.01</td>\n",
       "      <td>987.94</td>\n",
       "    </tr>\n",
       "    <tr>\n",
       "      <th>2003-01-07 00:00:00</th>\n",
       "      <td>7.43</td>\n",
       "      <td>21.93</td>\n",
       "      <td>28.95</td>\n",
       "      <td>922.93</td>\n",
       "      <td>981.24</td>\n",
       "    </tr>\n",
       "    <tr>\n",
       "      <th>2003-01-08 00:00:00</th>\n",
       "      <td>7.28</td>\n",
       "      <td>21.31</td>\n",
       "      <td>28.83</td>\n",
       "      <td>909.93</td>\n",
       "      <td>967.35</td>\n",
       "    </tr>\n",
       "  </tbody>\n",
       "</table>\n",
       "</div>"
      ],
      "text/plain": [
       "                     AAPL   MSFT    XOM     SPX     Sum\n",
       "Unnamed: 0                                             \n",
       "2003-01-02 00:00:00  7.40  21.11  29.22  909.03  966.76\n",
       "2003-01-03 00:00:00  7.45  21.14  29.24  908.59  966.42\n",
       "2003-01-06 00:00:00  7.45  21.52  29.96  929.01  987.94\n",
       "2003-01-07 00:00:00  7.43  21.93  28.95  922.93  981.24\n",
       "2003-01-08 00:00:00  7.28  21.31  28.83  909.93  967.35"
      ]
     },
     "execution_count": 312,
     "metadata": {},
     "output_type": "execute_result"
    }
   ],
   "source": [
    "df.head()"
   ]
  },
  {
   "cell_type": "code",
   "execution_count": 314,
   "id": "107ed827",
   "metadata": {},
   "outputs": [
    {
     "data": {
      "text/plain": [
       "Text(0, 0.5, 'Year')"
      ]
     },
     "execution_count": 314,
     "metadata": {},
     "output_type": "execute_result"
    },
    {
     "data": {
      "image/png": "[encoded data removed]",
      "text/plain": [
       "<Figure size 864x576 with 1 Axes>"
      ]
     },
     "metadata": {
      "needs_background": "light"
     },
     "output_type": "display_data"
    }
   ],
   "source": [
    "df.iloc[:,4].plot(figsize=(12,8),color='orange')\n",
    "plt.xlabel('Price')\n",
    "plt.ylabel('Year')"
   ]
  },
  {
   "cell_type": "code",
   "execution_count": 315,
   "id": "43e7e5b8",
   "metadata": {},
   "outputs": [
    {
     "data": {
      "text/plain": [
       "Text(0, 0.5, 'stock price')"
      ]
     },
     "execution_count": 315,
     "metadata": {},
     "output_type": "execute_result"
    },
    {
     "data": {
      "image/png": "[encoded data removed]",
      "text/plain": [
       "<Figure size 864x432 with 1 Axes>"
      ]
     },
     "metadata": {
      "needs_background": "light"
     },
     "output_type": "display_data"
    }
   ],
   "source": [
    "df.rolling(50, center=True,win_type='gaussian').sum(std=10).plot(style= '--',figsize=(12,6));\n",
    "plt.xlabel(\"year\")\n",
    "plt.ylabel(\"stock price\")"
   ]
  },
  {
   "cell_type": "code",
   "execution_count": 316,
   "id": "2d55eaf5",
   "metadata": {},
   "outputs": [],
   "source": [
    " #Date Ranges, Frequencies, and Shifting (Leading and Lagging) Data"
   ]
  },
  {
   "cell_type": "code",
   "execution_count": 317,
   "id": "f1c0d76c",
   "metadata": {},
   "outputs": [
    {
     "name": "stdout",
     "output_type": "stream",
     "text": [
      "now = 15:44:31.309762\n"
     ]
    }
   ],
   "source": [
    "from datetime import datetime\n",
    "now = datetime.now().time() \n",
    "print(\"now =\", now)"
   ]
  },
  {
   "cell_type": "code",
   "execution_count": 323,
   "id": "0e976be4",
   "metadata": {},
   "outputs": [],
   "source": [
    "stock=df"
   ]
  },
  {
   "cell_type": "code",
   "execution_count": 324,
   "id": "a00442f7",
   "metadata": {},
   "outputs": [
    {
     "data": {
      "text/plain": [
       "datetime.datetime(2011, 1, 1, 10, 23)"
      ]
     },
     "execution_count": 324,
     "metadata": {},
     "output_type": "execute_result"
    }
   ],
   "source": [
    "import datetime\n",
    "datetime.datetime.combine(datetime.date(2011, 1, 1), datetime.time(10, 23))"
   ]
  },
  {
   "cell_type": "code",
   "execution_count": 325,
   "id": "db4277cc",
   "metadata": {},
   "outputs": [
    {
     "data": {
      "text/plain": [
       "DatetimeIndex(['2012-04-01', '2012-04-02', '2012-04-03', '2012-04-04',\n",
       "               '2012-04-05', '2012-04-06', '2012-04-07', '2012-04-08',\n",
       "               '2012-04-09', '2012-04-10', '2012-04-11', '2012-04-12',\n",
       "               '2012-04-13', '2012-04-14', '2012-04-15', '2012-04-16',\n",
       "               '2012-04-17', '2012-04-18', '2012-04-19', '2012-04-20'],\n",
       "              dtype='datetime64[ns]', freq='D')"
      ]
     },
     "execution_count": 325,
     "metadata": {},
     "output_type": "execute_result"
    }
   ],
   "source": [
    "pd.date_range(start='2012-04-01', periods=20)"
   ]
  },
  {
   "cell_type": "code",
   "execution_count": 326,
   "id": "d50beebf",
   "metadata": {},
   "outputs": [
    {
     "data": {
      "text/html": [
       "<div>\n",
       "<style scoped>\n",
       "    .dataframe tbody tr th:only-of-type {\n",
       "        vertical-align: middle;\n",
       "    }\n",
       "\n",
       "    .dataframe tbody tr th {\n",
       "        vertical-align: top;\n",
       "    }\n",
       "\n",
       "    .dataframe thead th {\n",
       "        text-align: right;\n",
       "    }\n",
       "</style>\n",
       "<table border=\"1\" class=\"dataframe\">\n",
       "  <thead>\n",
       "    <tr style=\"text-align: right;\">\n",
       "      <th></th>\n",
       "      <th>AAPL</th>\n",
       "      <th>MSFT</th>\n",
       "      <th>XOM</th>\n",
       "      <th>SPX</th>\n",
       "      <th>Sum</th>\n",
       "    </tr>\n",
       "    <tr>\n",
       "      <th>Unnamed: 0</th>\n",
       "      <th></th>\n",
       "      <th></th>\n",
       "      <th></th>\n",
       "      <th></th>\n",
       "      <th></th>\n",
       "    </tr>\n",
       "  </thead>\n",
       "  <tbody>\n",
       "    <tr>\n",
       "      <th>2003-01-02 00:00:00</th>\n",
       "      <td>NaN</td>\n",
       "      <td>7.40</td>\n",
       "      <td>21.11</td>\n",
       "      <td>29.22</td>\n",
       "      <td>909.03</td>\n",
       "    </tr>\n",
       "    <tr>\n",
       "      <th>2003-01-03 00:00:00</th>\n",
       "      <td>NaN</td>\n",
       "      <td>7.45</td>\n",
       "      <td>21.14</td>\n",
       "      <td>29.24</td>\n",
       "      <td>908.59</td>\n",
       "    </tr>\n",
       "    <tr>\n",
       "      <th>2003-01-06 00:00:00</th>\n",
       "      <td>NaN</td>\n",
       "      <td>7.45</td>\n",
       "      <td>21.52</td>\n",
       "      <td>29.96</td>\n",
       "      <td>929.01</td>\n",
       "    </tr>\n",
       "    <tr>\n",
       "      <th>2003-01-07 00:00:00</th>\n",
       "      <td>NaN</td>\n",
       "      <td>7.43</td>\n",
       "      <td>21.93</td>\n",
       "      <td>28.95</td>\n",
       "      <td>922.93</td>\n",
       "    </tr>\n",
       "    <tr>\n",
       "      <th>2003-01-08 00:00:00</th>\n",
       "      <td>NaN</td>\n",
       "      <td>7.28</td>\n",
       "      <td>21.31</td>\n",
       "      <td>28.83</td>\n",
       "      <td>909.93</td>\n",
       "    </tr>\n",
       "  </tbody>\n",
       "</table>\n",
       "</div>"
      ],
      "text/plain": [
       "                     AAPL  MSFT    XOM    SPX     Sum\n",
       "Unnamed: 0                                           \n",
       "2003-01-02 00:00:00   NaN  7.40  21.11  29.22  909.03\n",
       "2003-01-03 00:00:00   NaN  7.45  21.14  29.24  908.59\n",
       "2003-01-06 00:00:00   NaN  7.45  21.52  29.96  929.01\n",
       "2003-01-07 00:00:00   NaN  7.43  21.93  28.95  922.93\n",
       "2003-01-08 00:00:00   NaN  7.28  21.31  28.83  909.93"
      ]
     },
     "execution_count": 326,
     "metadata": {},
     "output_type": "execute_result"
    }
   ],
   "source": [
    "shift1=stock.shift(1, axis = 1)\n",
    "shift1.head()"
   ]
  },
  {
   "cell_type": "code",
   "execution_count": 327,
   "id": "135165e5",
   "metadata": {},
   "outputs": [
    {
     "data": {
      "text/html": [
       "<div>\n",
       "<style scoped>\n",
       "    .dataframe tbody tr th:only-of-type {\n",
       "        vertical-align: middle;\n",
       "    }\n",
       "\n",
       "    .dataframe tbody tr th {\n",
       "        vertical-align: top;\n",
       "    }\n",
       "\n",
       "    .dataframe thead th {\n",
       "        text-align: right;\n",
       "    }\n",
       "</style>\n",
       "<table border=\"1\" class=\"dataframe\">\n",
       "  <thead>\n",
       "    <tr style=\"text-align: right;\">\n",
       "      <th></th>\n",
       "      <th>AAPL</th>\n",
       "      <th>MSFT</th>\n",
       "      <th>XOM</th>\n",
       "      <th>SPX</th>\n",
       "      <th>Sum</th>\n",
       "    </tr>\n",
       "    <tr>\n",
       "      <th>Unnamed: 0</th>\n",
       "      <th></th>\n",
       "      <th></th>\n",
       "      <th></th>\n",
       "      <th></th>\n",
       "      <th></th>\n",
       "    </tr>\n",
       "  </thead>\n",
       "  <tbody>\n",
       "    <tr>\n",
       "      <th>2011-10-10 00:00:00</th>\n",
       "      <td>402.19</td>\n",
       "      <td>26.96</td>\n",
       "      <td>77.16</td>\n",
       "      <td>1207.25</td>\n",
       "      <td>1713.56</td>\n",
       "    </tr>\n",
       "    <tr>\n",
       "      <th>2011-10-11 00:00:00</th>\n",
       "      <td>408.43</td>\n",
       "      <td>27.18</td>\n",
       "      <td>76.37</td>\n",
       "      <td>1203.66</td>\n",
       "      <td>1715.64</td>\n",
       "    </tr>\n",
       "    <tr>\n",
       "      <th>2011-10-12 00:00:00</th>\n",
       "      <td>422.00</td>\n",
       "      <td>27.27</td>\n",
       "      <td>78.11</td>\n",
       "      <td>1224.58</td>\n",
       "      <td>1751.96</td>\n",
       "    </tr>\n",
       "    <tr>\n",
       "      <th>2011-10-13 00:00:00</th>\n",
       "      <td>NaN</td>\n",
       "      <td>NaN</td>\n",
       "      <td>NaN</td>\n",
       "      <td>NaN</td>\n",
       "      <td>NaN</td>\n",
       "    </tr>\n",
       "    <tr>\n",
       "      <th>2011-10-14 00:00:00</th>\n",
       "      <td>NaN</td>\n",
       "      <td>NaN</td>\n",
       "      <td>NaN</td>\n",
       "      <td>NaN</td>\n",
       "      <td>NaN</td>\n",
       "    </tr>\n",
       "  </tbody>\n",
       "</table>\n",
       "</div>"
      ],
      "text/plain": [
       "                       AAPL   MSFT    XOM      SPX      Sum\n",
       "Unnamed: 0                                                 \n",
       "2011-10-10 00:00:00  402.19  26.96  77.16  1207.25  1713.56\n",
       "2011-10-11 00:00:00  408.43  27.18  76.37  1203.66  1715.64\n",
       "2011-10-12 00:00:00  422.00  27.27  78.11  1224.58  1751.96\n",
       "2011-10-13 00:00:00     NaN    NaN    NaN      NaN      NaN\n",
       "2011-10-14 00:00:00     NaN    NaN    NaN      NaN      NaN"
      ]
     },
     "execution_count": 327,
     "metadata": {},
     "output_type": "execute_result"
    }
   ],
   "source": [
    "shift1=stock.shift(-2, axis = 0)\n",
    "shift1.tail()"
   ]
  },
  {
   "cell_type": "code",
   "execution_count": 328,
   "id": "d39a63ba",
   "metadata": {},
   "outputs": [],
   "source": [
    "#Time Localization and conversion"
   ]
  },
  {
   "cell_type": "code",
   "execution_count": 329,
   "id": "9ab32d96",
   "metadata": {},
   "outputs": [
    {
     "data": {
      "text/plain": [
       "['US/Eastern', 'US/Hawaii', 'US/Mountain', 'US/Pacific', 'UTC']"
      ]
     },
     "execution_count": 329,
     "metadata": {},
     "output_type": "execute_result"
    }
   ],
   "source": [
    "import pytz\n",
    "pytz.common_timezones[-5:]"
   ]
  },
  {
   "cell_type": "code",
   "execution_count": 330,
   "id": "bd7ba62b",
   "metadata": {},
   "outputs": [
    {
     "data": {
      "text/plain": [
       "<DstTzInfo 'America/New_York' LMT-1 day, 19:04:00 STD>"
      ]
     },
     "execution_count": 330,
     "metadata": {},
     "output_type": "execute_result"
    }
   ],
   "source": [
    "tz = pytz.timezone('America/New_York')\n",
    "tz"
   ]
  },
  {
   "cell_type": "code",
   "execution_count": 331,
   "id": "16f8dbe8",
   "metadata": {},
   "outputs": [
    {
     "data": {
      "text/plain": [
       "DatetimeIndex(['2012-03-09 09:30:00+00:00', '2012-03-10 09:30:00+00:00',\n",
       "               '2012-03-11 09:30:00+00:00', '2012-03-12 09:30:00+00:00',\n",
       "               '2012-03-13 09:30:00+00:00', '2012-03-14 09:30:00+00:00',\n",
       "               '2012-03-15 09:30:00+00:00', '2012-03-16 09:30:00+00:00',\n",
       "               '2012-03-17 09:30:00+00:00', '2012-03-18 09:30:00+00:00'],\n",
       "              dtype='datetime64[ns, UTC]', freq='D')"
      ]
     },
     "execution_count": 331,
     "metadata": {},
     "output_type": "execute_result"
    }
   ],
   "source": [
    "pd.date_range('3/9/2012 9:30', periods=10, freq='D', tz='UTC')"
   ]
  },
  {
   "cell_type": "code",
   "execution_count": 332,
   "id": "8e67115e",
   "metadata": {},
   "outputs": [
    {
     "data": {
      "text/plain": [
       "2012-03-09 09:30:00   -1.165177\n",
       "2012-03-10 09:30:00   -1.735571\n",
       "2012-03-11 09:30:00    1.253158\n",
       "2012-03-12 09:30:00    0.346799\n",
       "2012-03-13 09:30:00   -0.894477\n",
       "2012-03-14 09:30:00    2.792039\n",
       "Freq: D, dtype: float64"
      ]
     },
     "execution_count": 332,
     "metadata": {},
     "output_type": "execute_result"
    }
   ],
   "source": [
    "import numpy as np\n",
    "rng = pd.date_range('3/9/2012 9:30', periods=6, freq='D')\n",
    "ts = pd.Series(np.random.randn(len(rng)), index=rng)\n",
    "ts"
   ]
  },
  {
   "cell_type": "code",
   "execution_count": 333,
   "id": "7b9b8cc4",
   "metadata": {},
   "outputs": [
    {
     "data": {
      "text/plain": [
       "2012-03-09 09:30:00+00:00   -1.165177\n",
       "2012-03-10 09:30:00+00:00   -1.735571\n",
       "2012-03-11 09:30:00+00:00    1.253158\n",
       "2012-03-12 09:30:00+00:00    0.346799\n",
       "2012-03-13 09:30:00+00:00   -0.894477\n",
       "2012-03-14 09:30:00+00:00    2.792039\n",
       "Freq: D, dtype: float64"
      ]
     },
     "execution_count": 333,
     "metadata": {},
     "output_type": "execute_result"
    }
   ],
   "source": [
    "ts_utc = ts.tz_localize('UTC')\n",
    "ts_utc"
   ]
  },
  {
   "cell_type": "code",
   "execution_count": 334,
   "id": "d6f2403e",
   "metadata": {},
   "outputs": [
    {
     "data": {
      "text/plain": [
       "DatetimeIndex(['2012-03-09 09:30:00+00:00', '2012-03-10 09:30:00+00:00',\n",
       "               '2012-03-11 09:30:00+00:00', '2012-03-12 09:30:00+00:00',\n",
       "               '2012-03-13 09:30:00+00:00', '2012-03-14 09:30:00+00:00'],\n",
       "              dtype='datetime64[ns, UTC]', freq='D')"
      ]
     },
     "execution_count": 334,
     "metadata": {},
     "output_type": "execute_result"
    }
   ],
   "source": [
    "ts_utc.index\n"
   ]
  },
  {
   "cell_type": "code",
   "execution_count": 335,
   "id": "76a169e7",
   "metadata": {},
   "outputs": [
    {
     "data": {
      "text/plain": [
       "2012-03-09 09:30:00-05:00   -1.165177\n",
       "2012-03-10 09:30:00-05:00   -1.735571\n",
       "2012-03-11 09:30:00-04:00    1.253158\n",
       "2012-03-12 09:30:00-04:00    0.346799\n",
       "2012-03-13 09:30:00-04:00   -0.894477\n",
       "2012-03-14 09:30:00-04:00    2.792039\n",
       "dtype: float64"
      ]
     },
     "execution_count": 335,
     "metadata": {},
     "output_type": "execute_result"
    }
   ],
   "source": [
    "ts_eastern = ts.tz_localize('America/New_York')\n",
    "ts_eastern"
   ]
  },
  {
   "cell_type": "code",
   "execution_count": 336,
   "id": "ee25f5af",
   "metadata": {},
   "outputs": [
    {
     "data": {
      "text/plain": [
       "2012-03-09 14:30:00+00:00   -1.165177\n",
       "2012-03-10 14:30:00+00:00   -1.735571\n",
       "2012-03-11 13:30:00+00:00    1.253158\n",
       "2012-03-12 13:30:00+00:00    0.346799\n",
       "2012-03-13 13:30:00+00:00   -0.894477\n",
       "2012-03-14 13:30:00+00:00    2.792039\n",
       "dtype: float64"
      ]
     },
     "execution_count": 336,
     "metadata": {},
     "output_type": "execute_result"
    }
   ],
   "source": [
    "ts_eastern.tz_convert('UTC')"
   ]
  },
  {
   "cell_type": "code",
   "execution_count": 337,
   "id": "c8f248a9",
   "metadata": {},
   "outputs": [],
   "source": [
    "#Periods and Period Arithmetic and Period Frequency Conversion"
   ]
  },
  {
   "cell_type": "code",
   "execution_count": 338,
   "id": "338f0734",
   "metadata": {},
   "outputs": [
    {
     "data": {
      "text/plain": [
       "Period('2010', 'A-DEC')"
      ]
     },
     "execution_count": 338,
     "metadata": {},
     "output_type": "execute_result"
    }
   ],
   "source": [
    "p = pd.Period(2010, freq='A-DEC')\n",
    "p"
   ]
  },
  {
   "cell_type": "code",
   "execution_count": 339,
   "id": "5dc493c4",
   "metadata": {},
   "outputs": [
    {
     "data": {
      "text/plain": [
       "PeriodIndex(['2000-01', '2000-02', '2000-03', '2000-04', '2000-05', '2000-06'], dtype='period[M]', freq='M')"
      ]
     },
     "execution_count": 339,
     "metadata": {},
     "output_type": "execute_result"
    }
   ],
   "source": [
    "rng = pd.period_range('2000-01-01', '2000-06-30', freq='M')\n",
    "rng"
   ]
  },
  {
   "cell_type": "code",
   "execution_count": 340,
   "id": "5cbd052c",
   "metadata": {},
   "outputs": [
    {
     "data": {
      "text/plain": [
       "Period('2012Q4', 'Q-JAN')"
      ]
     },
     "execution_count": 340,
     "metadata": {},
     "output_type": "execute_result"
    }
   ],
   "source": [
    "p = pd.Period('2012Q4', freq='Q-JAN')\n",
    "p"
   ]
  },
  {
   "cell_type": "code",
   "execution_count": 341,
   "id": "8c48925e",
   "metadata": {},
   "outputs": [],
   "source": [
    " rng = pd.date_range('2000-01-01', periods=3, freq='M')"
   ]
  },
  {
   "cell_type": "code",
   "execution_count": 342,
   "id": "2d1d443c",
   "metadata": {},
   "outputs": [
    {
     "data": {
      "text/plain": [
       "2012-03-09   -1.165177\n",
       "2012-03-10   -1.735571\n",
       "2012-03-11    1.253158\n",
       "2012-03-12    0.346799\n",
       "2012-03-13   -0.894477\n",
       "2012-03-14    2.792039\n",
       "Freq: D, dtype: float64"
      ]
     },
     "execution_count": 342,
     "metadata": {},
     "output_type": "execute_result"
    }
   ],
   "source": [
    "pts=ts.to_period()\n",
    "pts"
   ]
  },
  {
   "cell_type": "code",
   "execution_count": 343,
   "id": "9acd82a8",
   "metadata": {},
   "outputs": [],
   "source": [
    "# Resampling and frequency conversion"
   ]
  },
  {
   "cell_type": "code",
   "execution_count": 347,
   "id": "279ff30b",
   "metadata": {},
   "outputs": [],
   "source": [
    "stock=pd.read_csv(\"stock_px_2.csv\")"
   ]
  },
  {
   "cell_type": "code",
   "execution_count": 349,
   "id": "1d8670b6",
   "metadata": {},
   "outputs": [
    {
     "data": {
      "text/html": [
       "<div>\n",
       "<style scoped>\n",
       "    .dataframe tbody tr th:only-of-type {\n",
       "        vertical-align: middle;\n",
       "    }\n",
       "\n",
       "    .dataframe tbody tr th {\n",
       "        vertical-align: top;\n",
       "    }\n",
       "\n",
       "    .dataframe thead th {\n",
       "        text-align: right;\n",
       "    }\n",
       "</style>\n",
       "<table border=\"1\" class=\"dataframe\">\n",
       "  <thead>\n",
       "    <tr style=\"text-align: right;\">\n",
       "      <th></th>\n",
       "      <th>Unnamed: 0</th>\n",
       "      <th>AAPL</th>\n",
       "      <th>MSFT</th>\n",
       "      <th>XOM</th>\n",
       "      <th>SPX</th>\n",
       "    </tr>\n",
       "  </thead>\n",
       "  <tbody>\n",
       "    <tr>\n",
       "      <th>0</th>\n",
       "      <td>2003-01-02 00:00:00</td>\n",
       "      <td>7.40</td>\n",
       "      <td>21.11</td>\n",
       "      <td>29.22</td>\n",
       "      <td>909.03</td>\n",
       "    </tr>\n",
       "    <tr>\n",
       "      <th>1</th>\n",
       "      <td>2003-01-03 00:00:00</td>\n",
       "      <td>7.45</td>\n",
       "      <td>21.14</td>\n",
       "      <td>29.24</td>\n",
       "      <td>908.59</td>\n",
       "    </tr>\n",
       "    <tr>\n",
       "      <th>2</th>\n",
       "      <td>2003-01-06 00:00:00</td>\n",
       "      <td>7.45</td>\n",
       "      <td>21.52</td>\n",
       "      <td>29.96</td>\n",
       "      <td>929.01</td>\n",
       "    </tr>\n",
       "    <tr>\n",
       "      <th>3</th>\n",
       "      <td>2003-01-07 00:00:00</td>\n",
       "      <td>7.43</td>\n",
       "      <td>21.93</td>\n",
       "      <td>28.95</td>\n",
       "      <td>922.93</td>\n",
       "    </tr>\n",
       "    <tr>\n",
       "      <th>4</th>\n",
       "      <td>2003-01-08 00:00:00</td>\n",
       "      <td>7.28</td>\n",
       "      <td>21.31</td>\n",
       "      <td>28.83</td>\n",
       "      <td>909.93</td>\n",
       "    </tr>\n",
       "    <tr>\n",
       "      <th>...</th>\n",
       "      <td>...</td>\n",
       "      <td>...</td>\n",
       "      <td>...</td>\n",
       "      <td>...</td>\n",
       "      <td>...</td>\n",
       "    </tr>\n",
       "    <tr>\n",
       "      <th>2209</th>\n",
       "      <td>2011-10-10 00:00:00</td>\n",
       "      <td>388.81</td>\n",
       "      <td>26.94</td>\n",
       "      <td>76.28</td>\n",
       "      <td>1194.89</td>\n",
       "    </tr>\n",
       "    <tr>\n",
       "      <th>2210</th>\n",
       "      <td>2011-10-11 00:00:00</td>\n",
       "      <td>400.29</td>\n",
       "      <td>27.00</td>\n",
       "      <td>76.27</td>\n",
       "      <td>1195.54</td>\n",
       "    </tr>\n",
       "    <tr>\n",
       "      <th>2211</th>\n",
       "      <td>2011-10-12 00:00:00</td>\n",
       "      <td>402.19</td>\n",
       "      <td>26.96</td>\n",
       "      <td>77.16</td>\n",
       "      <td>1207.25</td>\n",
       "    </tr>\n",
       "    <tr>\n",
       "      <th>2212</th>\n",
       "      <td>2011-10-13 00:00:00</td>\n",
       "      <td>408.43</td>\n",
       "      <td>27.18</td>\n",
       "      <td>76.37</td>\n",
       "      <td>1203.66</td>\n",
       "    </tr>\n",
       "    <tr>\n",
       "      <th>2213</th>\n",
       "      <td>2011-10-14 00:00:00</td>\n",
       "      <td>422.00</td>\n",
       "      <td>27.27</td>\n",
       "      <td>78.11</td>\n",
       "      <td>1224.58</td>\n",
       "    </tr>\n",
       "  </tbody>\n",
       "</table>\n",
       "<p>2214 rows × 5 columns</p>\n",
       "</div>"
      ],
      "text/plain": [
       "               Unnamed: 0    AAPL   MSFT    XOM      SPX\n",
       "0     2003-01-02 00:00:00    7.40  21.11  29.22   909.03\n",
       "1     2003-01-03 00:00:00    7.45  21.14  29.24   908.59\n",
       "2     2003-01-06 00:00:00    7.45  21.52  29.96   929.01\n",
       "3     2003-01-07 00:00:00    7.43  21.93  28.95   922.93\n",
       "4     2003-01-08 00:00:00    7.28  21.31  28.83   909.93\n",
       "...                   ...     ...    ...    ...      ...\n",
       "2209  2011-10-10 00:00:00  388.81  26.94  76.28  1194.89\n",
       "2210  2011-10-11 00:00:00  400.29  27.00  76.27  1195.54\n",
       "2211  2011-10-12 00:00:00  402.19  26.96  77.16  1207.25\n",
       "2212  2011-10-13 00:00:00  408.43  27.18  76.37  1203.66\n",
       "2213  2011-10-14 00:00:00  422.00  27.27  78.11  1224.58\n",
       "\n",
       "[2214 rows x 5 columns]"
      ]
     },
     "execution_count": 349,
     "metadata": {},
     "output_type": "execute_result"
    }
   ],
   "source": [
    "stock"
   ]
  },
  {
   "cell_type": "code",
   "execution_count": 350,
   "id": "6251b813",
   "metadata": {},
   "outputs": [],
   "source": [
    "stock.set_index(\"Unnamed: 0\",inplace=True)"
   ]
  },
  {
   "cell_type": "code",
   "execution_count": 354,
   "id": "85747037",
   "metadata": {},
   "outputs": [],
   "source": [
    "# # Moving Window Function"
   ]
  },
  {
   "cell_type": "code",
   "execution_count": null,
   "id": "695378bb",
   "metadata": {},
   "outputs": [],
   "source": []
  }
 ],
 "metadata": {
  "kernelspec": {
   "display_name": "Python 3",
   "language": "python",
   "name": "python3"
  },
  "language_info": {
   "codemirror_mode": {
    "name": "ipython",
    "version": 3
   },
   "file_extension": ".py",
   "mimetype": "text/x-python",
   "name": "python",
   "nbconvert_exporter": "python",
   "pygments_lexer": "ipython3",
   "version": "3.8.8"
  }
 },
 "nbformat": 4,
 "nbformat_minor": 5
}
