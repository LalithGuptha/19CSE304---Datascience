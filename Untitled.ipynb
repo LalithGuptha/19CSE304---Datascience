{
 "cells": [
  {
   "cell_type": "code",
   "execution_count": 12,
   "id": "769bc012",
   "metadata": {},
   "outputs": [],
   "source": [
    "import scipy.stats\n",
    "import numpy as np\n",
    "import matplotlib.pyplot as plt\n",
    "from scipy.stats import norm"
   ]
  },
  {
   "cell_type": "code",
   "execution_count": 19,
   "id": "b31bda46",
   "metadata": {},
   "outputs": [],
   "source": [
    "mean = 998.8\n",
    "sigma = 73.10\n",
    "x1= 900\n",
    "x2 = 1100\n"
   ]
  },
  {
   "cell_type": "code",
   "execution_count": 20,
   "id": "5931b601",
   "metadata": {},
   "outputs": [],
   "source": [
    "z1 = (x1- mean)/sigma\n",
    "z2 = (x2 - mean)/sigma"
   ]
  },
  {
   "cell_type": "code",
   "execution_count": 21,
   "id": "9872932b",
   "metadata": {},
   "outputs": [],
   "source": [
    "a = np.arange(z1,z2,0.001)\n",
    "a_all = np.arange(-10,10,0.001)\n",
    "y=norm.pdf(a)\n",
    "y_all=norm.pdf(a_all)"
   ]
  },
  {
   "cell_type": "code",
   "execution_count": 22,
   "id": "290c5e65",
   "metadata": {},
   "outputs": [
    {
     "data": {
      "text/plain": [
       "<matplotlib.collections.PolyCollection at 0x2330b35ea00>"
      ]
     },
     "execution_count": 22,
     "metadata": {},
     "output_type": "execute_result"
    },
    {
     "data": {
      "image/png": "[encoded data removed]",
      "text/plain": [
       "<Figure size 360x288 with 1 Axes>"
      ]
     },
     "metadata": {
      "needs_background": "light"
     },
     "output_type": "display_data"
    }
   ],
   "source": [
    "fig , ax = plt.subplots(figsize=(5,4))\n",
    "ax.plot(a_all,y_all)\n",
    "ax.fill_between(a,y)"
   ]
  },
  {
   "cell_type": "code",
   "execution_count": 4,
   "id": "b48a35fb",
   "metadata": {},
   "outputs": [],
   "source": [
    "import numpy as np\n",
    "import scipy.stats as st"
   ]
  },
  {
   "cell_type": "code",
   "execution_count": 2,
   "id": "d821098f",
   "metadata": {},
   "outputs": [],
   "source": [
    "n =30\n",
    "xbar = 48.6\n",
    "mu= 46\n",
    "sigma = 4.2\n",
    "alpha = 0.05\n"
   ]
  },
  {
   "cell_type": "code",
   "execution_count": 3,
   "id": "ef39f888",
   "metadata": {},
   "outputs": [],
   "source": [
    "z = (xbar - mu)/(sigma/np.sqrt(n))"
   ]
  },
  {
   "cell_type": "code",
   "execution_count": null,
   "id": "cb6ca0aa",
   "metadata": {},
   "outputs": [],
   "source": []
  }
 ],
 "metadata": {
  "kernelspec": {
   "display_name": "Python 3 (ipykernel)",
   "language": "python",
   "name": "python3"
  },
  "language_info": {
   "codemirror_mode": {
    "name": "ipython",
    "version": 3
   },
   "file_extension": ".py",
   "mimetype": "text/x-python",
   "name": "python",
   "nbconvert_exporter": "python",
   "pygments_lexer": "ipython3",
   "version": "3.9.12"
  }
 },
 "nbformat": 4,
 "nbformat_minor": 5
}
