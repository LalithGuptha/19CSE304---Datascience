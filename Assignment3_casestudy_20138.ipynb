{
 "cells": [
  {
   "cell_type": "markdown",
   "id": "f9068e69",
   "metadata": {},
   "source": [
    "## Jury Selection in Alameda country"
   ]
  },
  {
   "cell_type": "markdown",
   "id": "ad28ab18",
   "metadata": {},
   "source": [
    "CB.EN.U4CSE20138"
   ]
  },
  {
   "cell_type": "code",
   "execution_count": 3,
   "id": "9286614c",
   "metadata": {},
   "outputs": [],
   "source": [
    "import pandas as pd\n",
    "import numpy as np\n",
    "import matplotlib.pyplot as plt\n",
    "import seaborn as sns\n",
    "import numpy.random as npr"
   ]
  },
  {
   "cell_type": "code",
   "execution_count": 4,
   "id": "5af009d9",
   "metadata": {},
   "outputs": [],
   "source": [
    "sample_size = 500\n",
    "simulations = 5000\n",
    "Asian = []\n",
    "Black = []\n",
    "Latino = []\n",
    "White = []\n",
    "Other = []\n",
    "eligible = [0.15 , 0.18 , 0.12 , 0.54 , 0.01]\n",
    "selected = [0.26, 0.08, 0.08, 0.54, 0.04]\n",
    "for i in np.arange(simulations):\n",
    "  Asian = npr.binomial(sample_size, eligible[0], simulations)\n",
    "  Black = npr.binomial(sample_size, eligible[1], simulations)\n",
    "  Latino = npr.binomial(sample_size, eligible[2], simulations)\n",
    "  White = npr.binomial(sample_size, eligible[3], simulations)\n",
    "  Other = npr.binomial(sample_size, eligible[4], simulations)\n"
   ]
  },
  {
   "cell_type": "code",
   "execution_count": 5,
   "id": "63eb00e5",
   "metadata": {},
   "outputs": [],
   "source": [
    "df_Asian = pd.DataFrame(Asian)\n",
    "df_Black = pd.DataFrame(Black)\n",
    "df_Latino = pd.DataFrame(Latino)\n",
    "df_White = pd.DataFrame(White)\n",
    "df_Other = pd.DataFrame(Other)"
   ]
  },
  {
   "cell_type": "code",
   "execution_count": 6,
   "id": "54f3c6f7",
   "metadata": {},
   "outputs": [
    {
     "data": {
      "text/html": [
       "<div>\n",
       "<style scoped>\n",
       "    .dataframe tbody tr th:only-of-type {\n",
       "        vertical-align: middle;\n",
       "    }\n",
       "\n",
       "    .dataframe tbody tr th {\n",
       "        vertical-align: top;\n",
       "    }\n",
       "\n",
       "    .dataframe thead th {\n",
       "        text-align: right;\n",
       "    }\n",
       "</style>\n",
       "<table border=\"1\" class=\"dataframe\">\n",
       "  <thead>\n",
       "    <tr style=\"text-align: right;\">\n",
       "      <th></th>\n",
       "      <th>0</th>\n",
       "    </tr>\n",
       "  </thead>\n",
       "  <tbody>\n",
       "    <tr>\n",
       "      <th>0</th>\n",
       "      <td>73</td>\n",
       "    </tr>\n",
       "    <tr>\n",
       "      <th>1</th>\n",
       "      <td>74</td>\n",
       "    </tr>\n",
       "    <tr>\n",
       "      <th>2</th>\n",
       "      <td>77</td>\n",
       "    </tr>\n",
       "    <tr>\n",
       "      <th>3</th>\n",
       "      <td>62</td>\n",
       "    </tr>\n",
       "    <tr>\n",
       "      <th>4</th>\n",
       "      <td>68</td>\n",
       "    </tr>\n",
       "    <tr>\n",
       "      <th>...</th>\n",
       "      <td>...</td>\n",
       "    </tr>\n",
       "    <tr>\n",
       "      <th>4995</th>\n",
       "      <td>76</td>\n",
       "    </tr>\n",
       "    <tr>\n",
       "      <th>4996</th>\n",
       "      <td>75</td>\n",
       "    </tr>\n",
       "    <tr>\n",
       "      <th>4997</th>\n",
       "      <td>84</td>\n",
       "    </tr>\n",
       "    <tr>\n",
       "      <th>4998</th>\n",
       "      <td>75</td>\n",
       "    </tr>\n",
       "    <tr>\n",
       "      <th>4999</th>\n",
       "      <td>79</td>\n",
       "    </tr>\n",
       "  </tbody>\n",
       "</table>\n",
       "<p>5000 rows × 1 columns</p>\n",
       "</div>"
      ],
      "text/plain": [
       "       0\n",
       "0     73\n",
       "1     74\n",
       "2     77\n",
       "3     62\n",
       "4     68\n",
       "...   ..\n",
       "4995  76\n",
       "4996  75\n",
       "4997  84\n",
       "4998  75\n",
       "4999  79\n",
       "\n",
       "[5000 rows x 1 columns]"
      ]
     },
     "execution_count": 6,
     "metadata": {},
     "output_type": "execute_result"
    }
   ],
   "source": [
    "df_Asian"
   ]
  },
  {
   "cell_type": "code",
   "execution_count": 7,
   "id": "9a98bb7e",
   "metadata": {},
   "outputs": [
    {
     "data": {
      "text/plain": [
       "<matplotlib.collections.PathCollection at 0x19ff29dab80>"
      ]
     },
     "execution_count": 7,
     "metadata": {},
     "output_type": "execute_result"
    },
    {
     "data": {
      "image/png": "[encoded data removed]",
      "text/plain": [
       "<Figure size 432x288 with 1 Axes>"
      ]
     },
     "metadata": {
      "needs_background": "light"
     },
     "output_type": "display_data"
    }
   ],
   "source": [
    "df_Asian.hist()\n",
    "plt.title('Statistic of Asian');\n",
    "plt.xlabel('Composition',fontsize=15)\n",
    "plt.ylabel('Unit',fontsize=15)\n",
    "plt.scatter(130, 0, color='green', s=30)"
   ]
  },
  {
   "cell_type": "code",
   "execution_count": 8,
   "id": "6a836c81",
   "metadata": {},
   "outputs": [
    {
     "data": {
      "text/plain": [
       "<matplotlib.collections.PathCollection at 0x19ff3578b80>"
      ]
     },
     "execution_count": 8,
     "metadata": {},
     "output_type": "execute_result"
    },
    {
     "data": {
      "image/png": "[encoded data removed]",
      "text/plain": [
       "<Figure size 432x288 with 1 Axes>"
      ]
     },
     "metadata": {
      "needs_background": "light"
     },
     "output_type": "display_data"
    }
   ],
   "source": [
    "df_Black.hist()\n",
    "plt.title('Statistic of Black');\n",
    "plt.xlabel('Composition',fontsize=15)\n",
    "plt.ylabel('Unit',fontsize=15)\n",
    "plt.scatter(40, 0, color='green', s=30)"
   ]
  },
  {
   "cell_type": "code",
   "execution_count": 9,
   "id": "b10596e2",
   "metadata": {},
   "outputs": [
    {
     "data": {
      "text/plain": [
       "<matplotlib.collections.PathCollection at 0x19ff35f9e80>"
      ]
     },
     "execution_count": 9,
     "metadata": {},
     "output_type": "execute_result"
    },
    {
     "data": {
      "image/png": "[encoded data removed]",
      "text/plain": [
       "<Figure size 432x288 with 1 Axes>"
      ]
     },
     "metadata": {
      "needs_background": "light"
     },
     "output_type": "display_data"
    }
   ],
   "source": [
    "df_Latino.hist()\n",
    "plt.title('Statistic of Latino');\n",
    "plt.xlabel('Composition',fontsize=15)\n",
    "plt.ylabel('Unit',fontsize=15)\n",
    "plt.scatter(40, 0, color='green', s=30)"
   ]
  },
  {
   "cell_type": "code",
   "execution_count": 10,
   "id": "14f1141f",
   "metadata": {},
   "outputs": [
    {
     "data": {
      "text/plain": [
       "<matplotlib.collections.PathCollection at 0x19ff3681430>"
      ]
     },
     "execution_count": 10,
     "metadata": {},
     "output_type": "execute_result"
    },
    {
     "data": {
      "image/png": "[encoded data removed]",
      "text/plain": [
       "<Figure size 432x288 with 1 Axes>"
      ]
     },
     "metadata": {
      "needs_background": "light"
     },
     "output_type": "display_data"
    }
   ],
   "source": [
    "df_White.hist()\n",
    "plt.title('Statistic of White');\n",
    "plt.xlabel('Composition',fontsize=15)\n",
    "plt.ylabel('Unit',fontsize=15)\n",
    "plt.scatter(270, 0, color='green', s=30)"
   ]
  },
  {
   "cell_type": "code",
   "execution_count": 11,
   "id": "ba9c822b",
   "metadata": {},
   "outputs": [
    {
     "data": {
      "text/plain": [
       "<matplotlib.collections.PathCollection at 0x19ff36f7be0>"
      ]
     },
     "execution_count": 11,
     "metadata": {},
     "output_type": "execute_result"
    },
    {
     "data": {
      "image/png": "[encoded data removed]",
      "text/plain": [
       "<Figure size 432x288 with 1 Axes>"
      ]
     },
     "metadata": {
      "needs_background": "light"
     },
     "output_type": "display_data"
    }
   ],
   "source": [
    "df_Other.hist()\n",
    "plt.title('Statistic of Other');\n",
    "plt.xlabel('Composition',fontsize=15)\n",
    "plt.ylabel('Unit',fontsize=15)\n",
    "plt.scatter(20, 0, color='green', s=30)"
   ]
  },
  {
   "cell_type": "code",
   "execution_count": 12,
   "id": "4f4ed686",
   "metadata": {},
   "outputs": [],
   "source": [
    "Asian_case_2 = npr.binomial(1453, eligible[0],1)\n",
    "Black_case_2 = npr.binomial(1453, eligible[1],1)\n",
    "Latino_case_2 = npr.binomial(1453, eligible[2],1)\n",
    "White_case_2 = npr.binomial(1453, eligible[3],1)\n",
    "Other_case_2 = npr.binomial(1453, eligible[4],1)"
   ]
  },
  {
   "cell_type": "code",
   "execution_count": 13,
   "id": "a3d43a4b",
   "metadata": {},
   "outputs": [
    {
     "name": "stdout",
     "output_type": "stream",
     "text": [
      "Probability of Asian in random sample :  [0.14177564]\n",
      "Probability of Black in random sample :  [0.17756366]\n",
      "Probability of Latino in random sample :  [0.12319339]\n",
      "Probability of White in random sample :  [0.54301445]\n",
      "Probability of Other in random sample :  [0.00481762]\n"
     ]
    }
   ],
   "source": [
    "print(\"Probability of Asian in random sample : \",Asian_case_2 / 1453)\n",
    "print(\"Probability of Black in random sample : \",Black_case_2 / 1453)\n",
    "print(\"Probability of Latino in random sample : \",Latino_case_2 / 1453)\n",
    "print(\"Probability of White in random sample : \",White_case_2 / 1453)\n",
    "print(\"Probability of Other in random sample : \",Other_case_2 / 1453)"
   ]
  },
  {
   "cell_type": "code",
   "execution_count": 14,
   "id": "91878ccf",
   "metadata": {},
   "outputs": [
    {
     "name": "stdout",
     "output_type": "stream",
     "text": [
      "TVD =  0.14\n"
     ]
    }
   ],
   "source": [
    "ABS_Asian = abs(eligible[0] - selected[0])\n",
    "ABS_Black = abs(eligible[1] - selected[1])\n",
    "ABS_Latino = abs(eligible[2] - selected[2])\n",
    "ABS_White = abs(eligible[3] - selected[3])\n",
    "ABS_Other = abs(eligible[4] - selected[4])\n",
    "data_df = pd.DataFrame({\"Eligible\" : eligible, \"Panels\" : selected})\n",
    "data_df[\"Difference\"] = data_df[\"Eligible\"] - data_df[\"Panels\"]\n",
    "data_df[\"Absolute Difference\"] = abs(data_df[\"Difference\"])\n",
    "TVD = data_df[\"Absolute Difference\"].sum()/2\n",
    "print(\"TVD = \",TVD)"
   ]
  },
  {
   "cell_type": "code",
   "execution_count": 15,
   "id": "7e6c53d0",
   "metadata": {},
   "outputs": [],
   "source": [
    "TVD_list = []\n",
    "for i in np.arange(5000):\n",
    "  Data = []\n",
    "  Data = np.append(Data, npr.binomial(1453, eligible[0], 1) / 1453)\n",
    "  Data = np.append(Data, npr.binomial(1453, eligible[1], 1) / 1453)\n",
    "  Data = np.append(Data, npr.binomial(1453, eligible[2], 1) / 1453)\n",
    "  Data = np.append(Data, npr.binomial(1453, eligible[3], 1) / 1453)\n",
    "  Data = np.append(Data, npr.binomial(1453, eligible[4], 1) / 1453)\n",
    "  TVD_df = pd.DataFrame({\"Eligible\" : eligible, \"Actual\" : Data})\n",
    "  TVD_df[\"Difference\"] = TVD_df[\"Eligible\"] - TVD_df[\"Actual\"]\n",
    "  TVD_df[\"Absolute Difference\"] = abs(TVD_df[\"Difference\"])\n",
    "  TVD = TVD_df[\"Absolute Difference\"].sum()/2\n",
    "  TVD_list = np.append(TVD_list, TVD)"
   ]
  },
  {
   "cell_type": "code",
   "execution_count": 17,
   "id": "553bc845",
   "metadata": {},
   "outputs": [
    {
     "data": {
      "text/plain": [
       "<matplotlib.collections.PathCollection at 0x19ff38436a0>"
      ]
     },
     "execution_count": 17,
     "metadata": {},
     "output_type": "execute_result"
    },
    {
     "data": {
      "image/png": "[encoded data removed]",
      "text/plain": [
       "<Figure size 432x288 with 1 Axes>"
      ]
     },
     "metadata": {
      "needs_background": "light"
     },
     "output_type": "display_data"
    }
   ],
   "source": [
    "TVD_list = np.array(TVD_list)\n",
    "TVD_df = pd.DataFrame(TVD_list)\n",
    "TVD_df.hist()\n",
    "plt.title('Observation');\n",
    "plt.xlabel('TVD',fontsize=15)\n",
    "plt.ylabel('Percentage per unit',fontsize=15)\n",
    "plt.scatter(0.14, 0, color='green', s=30)"
   ]
  },
  {
   "cell_type": "markdown",
   "id": "74c0497c",
   "metadata": {},
   "source": [
    "#### The empirical histograms shows that 1453 juniors at random from eligible candidates result in diststibution that deviatesfrom eligible distribution by 0.05\n",
    "\n",
    "#### Hence enough evidences were obtained to reject the Null hypothesis. "
   ]
  },
  {
   "cell_type": "code",
   "execution_count": null,
   "id": "23bd2fd6",
   "metadata": {},
   "outputs": [],
   "source": []
  }
 ],
 "metadata": {
  "kernelspec": {
   "display_name": "Python 3 (ipykernel)",
   "language": "python",
   "name": "python3"
  },
  "language_info": {
   "codemirror_mode": {
    "name": "ipython",
    "version": 3
   },
   "file_extension": ".py",
   "mimetype": "text/x-python",
   "name": "python",
   "nbconvert_exporter": "python",
   "pygments_lexer": "ipython3",
   "version": "3.9.12"
  }
 },
 "nbformat": 4,
 "nbformat_minor": 5
}
