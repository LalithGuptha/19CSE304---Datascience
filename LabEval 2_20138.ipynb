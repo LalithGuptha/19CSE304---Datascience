{
 "cells": [
  {
   "cell_type": "code",
   "execution_count": 75,
   "id": "42b0191c",
   "metadata": {},
   "outputs": [],
   "source": [
    "import numpy as np\n",
    "import scipy.stats as st\n",
    "import pandas as pd\n",
    "import random"
   ]
  },
  {
   "cell_type": "code",
   "execution_count": 76,
   "id": "c69b311a",
   "metadata": {},
   "outputs": [],
   "source": [
    "#Part A"
   ]
  },
  {
   "cell_type": "markdown",
   "id": "5f47ed70",
   "metadata": {},
   "source": [
    "Null Hypothesis: For Every plant there is 75% chance that it is a purple plant\n"
   ]
  },
  {
   "cell_type": "markdown",
   "id": "54471baa",
   "metadata": {},
   "source": [
    "Alternate Hypothesis : For every plant there is not 75% that it is a purple plant"
   ]
  },
  {
   "cell_type": "code",
   "execution_count": 77,
   "id": "c81944d6",
   "metadata": {},
   "outputs": [],
   "source": [
    "probabilities = [0.75,0.25]"
   ]
  },
  {
   "cell_type": "code",
   "execution_count": 78,
   "id": "1581ba5b",
   "metadata": {},
   "outputs": [
    {
     "name": "stdout",
     "output_type": "stream",
     "text": [
      "186\n"
     ]
    }
   ],
   "source": [
    "print(929-743) #number of white flowers"
   ]
  },
  {
   "cell_type": "code",
   "execution_count": 79,
   "id": "c0d181a1",
   "metadata": {},
   "outputs": [
    {
     "data": {
      "text/plain": [
       "['purple',\n",
       " 'white',\n",
       " 'purple',\n",
       " 'white',\n",
       " 'purple',\n",
       " 'purple',\n",
       " 'purple',\n",
       " 'purple',\n",
       " 'purple',\n",
       " 'purple']"
      ]
     },
     "execution_count": 79,
     "metadata": {},
     "output_type": "execute_result"
    }
   ],
   "source": [
    "plants=['purple']*743\n",
    "for i in range(186):\n",
    "    plants.append('white')\n",
    "random.shuffle(plants)\n",
    "plants[700:710]"
   ]
  },
  {
   "cell_type": "code",
   "execution_count": 80,
   "id": "a87d3075",
   "metadata": {},
   "outputs": [
    {
     "data": {
      "text/html": [
       "<div>\n",
       "<style scoped>\n",
       "    .dataframe tbody tr th:only-of-type {\n",
       "        vertical-align: middle;\n",
       "    }\n",
       "\n",
       "    .dataframe tbody tr th {\n",
       "        vertical-align: top;\n",
       "    }\n",
       "\n",
       "    .dataframe thead th {\n",
       "        text-align: right;\n",
       "    }\n",
       "</style>\n",
       "<table border=\"1\" class=\"dataframe\">\n",
       "  <thead>\n",
       "    <tr style=\"text-align: right;\">\n",
       "      <th></th>\n",
       "      <th>colour</th>\n",
       "    </tr>\n",
       "  </thead>\n",
       "  <tbody>\n",
       "    <tr>\n",
       "      <th>0</th>\n",
       "      <td>white</td>\n",
       "    </tr>\n",
       "    <tr>\n",
       "      <th>1</th>\n",
       "      <td>purple</td>\n",
       "    </tr>\n",
       "    <tr>\n",
       "      <th>2</th>\n",
       "      <td>purple</td>\n",
       "    </tr>\n",
       "    <tr>\n",
       "      <th>3</th>\n",
       "      <td>white</td>\n",
       "    </tr>\n",
       "    <tr>\n",
       "      <th>4</th>\n",
       "      <td>purple</td>\n",
       "    </tr>\n",
       "    <tr>\n",
       "      <th>...</th>\n",
       "      <td>...</td>\n",
       "    </tr>\n",
       "    <tr>\n",
       "      <th>924</th>\n",
       "      <td>purple</td>\n",
       "    </tr>\n",
       "    <tr>\n",
       "      <th>925</th>\n",
       "      <td>purple</td>\n",
       "    </tr>\n",
       "    <tr>\n",
       "      <th>926</th>\n",
       "      <td>purple</td>\n",
       "    </tr>\n",
       "    <tr>\n",
       "      <th>927</th>\n",
       "      <td>purple</td>\n",
       "    </tr>\n",
       "    <tr>\n",
       "      <th>928</th>\n",
       "      <td>purple</td>\n",
       "    </tr>\n",
       "  </tbody>\n",
       "</table>\n",
       "<p>929 rows × 1 columns</p>\n",
       "</div>"
      ],
      "text/plain": [
       "     colour\n",
       "0     white\n",
       "1    purple\n",
       "2    purple\n",
       "3     white\n",
       "4    purple\n",
       "..      ...\n",
       "924  purple\n",
       "925  purple\n",
       "926  purple\n",
       "927  purple\n",
       "928  purple\n",
       "\n",
       "[929 rows x 1 columns]"
      ]
     },
     "execution_count": 80,
     "metadata": {},
     "output_type": "execute_result"
    }
   ],
   "source": [
    "df = pd.DataFrame(plants)\n",
    "df\n",
    "df.columns={'colour'}\n",
    "df"
   ]
  },
  {
   "cell_type": "code",
   "execution_count": 81,
   "id": "f6fe5143",
   "metadata": {},
   "outputs": [
    {
     "name": "stdout",
     "output_type": "stream",
     "text": [
      "Purple flowers count is :\n"
     ]
    },
    {
     "data": {
      "text/plain": [
       "colour    743\n",
       "dtype: int64"
      ]
     },
     "execution_count": 81,
     "metadata": {},
     "output_type": "execute_result"
    }
   ],
   "source": [
    "purple_count = df[df[\"colour\"]  == 'purple'].count()\n",
    "print(\"Purple flowers count is :\")\n",
    "purple_count"
   ]
  },
  {
   "cell_type": "code",
   "execution_count": 82,
   "id": "2634096d",
   "metadata": {},
   "outputs": [
    {
     "name": "stdout",
     "output_type": "stream",
     "text": [
      "White flowers count is :\n"
     ]
    },
    {
     "data": {
      "text/plain": [
       "colour    186\n",
       "dtype: int64"
      ]
     },
     "execution_count": 82,
     "metadata": {},
     "output_type": "execute_result"
    }
   ],
   "source": [
    "\n",
    "white_count = df[df[\"colour\"]  == 'white'].count()\n",
    "print(\"White flowers count is :\")\n",
    "white_count"
   ]
  },
  {
   "cell_type": "code",
   "execution_count": 83,
   "id": "5932292e",
   "metadata": {},
   "outputs": [],
   "source": [
    "total_flowers = 929"
   ]
  },
  {
   "cell_type": "markdown",
   "id": "23090714",
   "metadata": {},
   "source": [
    "### B\n",
    "### We can use observed proportion, observed statistics from the mean and carry out emperical distribution  to find the hypothesis testing"
   ]
  },
  {
   "cell_type": "code",
   "execution_count": 84,
   "id": "a5820bd5",
   "metadata": {},
   "outputs": [
    {
     "data": {
      "text/plain": [
       "colour    0.799785\n",
       "dtype: float64"
      ]
     },
     "execution_count": 84,
     "metadata": {},
     "output_type": "execute_result"
    }
   ],
   "source": [
    "observed_proportion = purple_count/total_flowers\n",
    "observed_proportion"
   ]
  },
  {
   "cell_type": "code",
   "execution_count": 85,
   "id": "f173299a",
   "metadata": {},
   "outputs": [
    {
     "data": {
      "text/plain": [
       "colour    0.049785\n",
       "dtype: float64"
      ]
     },
     "execution_count": 85,
     "metadata": {},
     "output_type": "execute_result"
    }
   ],
   "source": [
    "observed_statistic = abs(observed_proportion - 0.75)\n",
    "observed_statistic"
   ]
  },
  {
   "cell_type": "markdown",
   "id": "3896a5f8",
   "metadata": {},
   "source": [
    "Observed Statistics is 0.049785"
   ]
  },
  {
   "cell_type": "code",
   "execution_count": 86,
   "id": "c9e49557",
   "metadata": {},
   "outputs": [],
   "source": [
    "import numpy as np\n",
    "\n",
    "model_colors = ['purple', 'purple', 'purple', 'white']\n",
    "new_sample = np.random.choice(model_colors, total_flowers)"
   ]
  },
  {
   "cell_type": "code",
   "execution_count": 87,
   "id": "62b2de4d",
   "metadata": {},
   "outputs": [
    {
     "name": "stdout",
     "output_type": "stream",
     "text": [
      "Proportion of purple-flowers in this new sample which differs from 0.75 is 0.008342303552206665\n"
     ]
    }
   ],
   "source": [
    "proportion_purple = np.count_nonzero(new_sample == 'purple')/total_flowers\n",
    "print(\"Proportion of purple-flowers in this new sample which differs from 0.75 is\", abs(proportion_purple - 0.75))"
   ]
  },
  {
   "cell_type": "code",
   "execution_count": 88,
   "id": "f43872fb",
   "metadata": {},
   "outputs": [
    {
     "name": "stdout",
     "output_type": "stream",
     "text": [
      "1962\n"
     ]
    }
   ],
   "source": [
    "print(2000-38)    #number of simulations"
   ]
  },
  {
   "cell_type": "code",
   "execution_count": 89,
   "id": "17c8e7ca",
   "metadata": {},
   "outputs": [
    {
     "data": {
      "text/plain": [
       "array([693, 686, 676, ..., 707, 723, 714])"
      ]
     },
     "execution_count": 89,
     "metadata": {},
     "output_type": "execute_result"
    }
   ],
   "source": [
    "import numpy.random as npr\n",
    "\n",
    "simulation = 1962\n",
    "\n",
    "for i in range(simulation):\n",
    "    sim = npr.binomial(total_flowers, 0.75, simulation)\n",
    "    \n",
    "sim"
   ]
  },
  {
   "cell_type": "code",
   "execution_count": 90,
   "id": "d7eabc56",
   "metadata": {},
   "outputs": [
    {
     "data": {
      "text/html": [
       "<div>\n",
       "<style scoped>\n",
       "    .dataframe tbody tr th:only-of-type {\n",
       "        vertical-align: middle;\n",
       "    }\n",
       "\n",
       "    .dataframe tbody tr th {\n",
       "        vertical-align: top;\n",
       "    }\n",
       "\n",
       "    .dataframe thead th {\n",
       "        text-align: right;\n",
       "    }\n",
       "</style>\n",
       "<table border=\"1\" class=\"dataframe\">\n",
       "  <thead>\n",
       "    <tr style=\"text-align: right;\">\n",
       "      <th></th>\n",
       "      <th>sampled_stats</th>\n",
       "      <th>Distance from 0.75</th>\n",
       "    </tr>\n",
       "    <tr>\n",
       "      <th>Count</th>\n",
       "      <th></th>\n",
       "      <th></th>\n",
       "    </tr>\n",
       "  </thead>\n",
       "  <tbody>\n",
       "    <tr>\n",
       "      <th>693</th>\n",
       "      <td>0.745963</td>\n",
       "      <td>0.004037</td>\n",
       "    </tr>\n",
       "    <tr>\n",
       "      <th>686</th>\n",
       "      <td>0.738428</td>\n",
       "      <td>0.011572</td>\n",
       "    </tr>\n",
       "    <tr>\n",
       "      <th>676</th>\n",
       "      <td>0.727664</td>\n",
       "      <td>0.022336</td>\n",
       "    </tr>\n",
       "    <tr>\n",
       "      <th>696</th>\n",
       "      <td>0.749193</td>\n",
       "      <td>0.000807</td>\n",
       "    </tr>\n",
       "    <tr>\n",
       "      <th>712</th>\n",
       "      <td>0.766416</td>\n",
       "      <td>0.016416</td>\n",
       "    </tr>\n",
       "  </tbody>\n",
       "</table>\n",
       "</div>"
      ],
      "text/plain": [
       "       sampled_stats  Distance from 0.75\n",
       "Count                                   \n",
       "693         0.745963            0.004037\n",
       "686         0.738428            0.011572\n",
       "676         0.727664            0.022336\n",
       "696         0.749193            0.000807\n",
       "712         0.766416            0.016416"
      ]
     },
     "execution_count": 90,
     "metadata": {},
     "output_type": "execute_result"
    }
   ],
   "source": [
    "df1 = pd.DataFrame(sim, columns =['Count'])\n",
    "\n",
    "df1['sampled_stats']= (df1['Count'] / total_flowers)\n",
    "df1 = df1.set_index('Count')\n",
    "df1['Distance from 0.75'] = abs(df1['sampled_stats'] - 0.75)\n",
    "\n",
    "df1.head()"
   ]
  },
  {
   "cell_type": "code",
   "execution_count": 91,
   "id": "66c177d4",
   "metadata": {},
   "outputs": [
    {
     "data": {
      "image/png": "[encoded data removed]",
      "text/plain": [
       "<Figure size 432x288 with 1 Axes>"
      ]
     },
     "metadata": {
      "needs_background": "light"
     },
     "output_type": "display_data"
    }
   ],
   "source": [
    "import matplotlib.pyplot as plt\n",
    "\n",
    "plt.figure()\n",
    "plt.hist(df1['Distance from 0.75'])\n",
    "plt.scatter(0.049785, 0, color='red', s=30)\n",
    "plt.title('Empirical distribution')\n",
    "plt.xlabel('Distance from 0.75')\n",
    "plt.ylabel('% Per Unit')\n",
    "plt.grid()\n",
    "plt.show()"
   ]
  },
  {
   "cell_type": "markdown",
   "id": "135d2056",
   "metadata": {},
   "source": [
    "#### As we can see, in the emperical disrtibution, the observed statistics lie on the emperical distribution\n",
    "#### observed statistics value is 0.049785 which is not under the distribution\n",
    "#### Hence we can say that this supports the Null Hypothesis\n",
    "#### Hence we  reject the hypothesis"
   ]
  },
  {
   "cell_type": "code",
   "execution_count": 9,
   "id": "9012e516",
   "metadata": {},
   "outputs": [],
   "source": [
    "#Part B\n",
    "#Null hypothesis = mean!=60\n",
    "#alternate hypothesis = mean =60"
   ]
  },
  {
   "cell_type": "code",
   "execution_count": 6,
   "id": "baf506f2",
   "metadata": {},
   "outputs": [],
   "source": [
    "n=30 \n",
    "xbar = 65.10\n",
    "mu = 60\n",
    "sigma = 13.6\n",
    "alpha = 0.05"
   ]
  },
  {
   "cell_type": "code",
   "execution_count": 7,
   "id": "3eb9915a",
   "metadata": {},
   "outputs": [],
   "source": [
    "#two tailed z-test"
   ]
  },
  {
   "cell_type": "code",
   "execution_count": 8,
   "id": "634b0a1a",
   "metadata": {},
   "outputs": [
    {
     "name": "stdout",
     "output_type": "stream",
     "text": [
      "2.0539595906443706\n"
     ]
    }
   ],
   "source": [
    "z = (xbar - mu)/(sigma / np.sqrt(n))\n",
    "print(z)"
   ]
  },
  {
   "cell_type": "code",
   "execution_count": 11,
   "id": "d25eddeb",
   "metadata": {},
   "outputs": [
    {
     "name": "stdout",
     "output_type": "stream",
     "text": [
      "1.9599639845400545\n"
     ]
    }
   ],
   "source": [
    "z_critical = abs(st.norm.ppf(alpha/2))\n",
    "print(z_critical)"
   ]
  },
  {
   "cell_type": "code",
   "execution_count": 12,
   "id": "910605aa",
   "metadata": {},
   "outputs": [
    {
     "name": "stdout",
     "output_type": "stream",
     "text": [
      "Reject the Null Hypothesis\n"
     ]
    }
   ],
   "source": [
    "if z > z_critical:\n",
    "    print(\"Reject the Null Hypothesis\")\n",
    "else:\n",
    "    print(\"Failed to Reject the Null Hypothesis\")"
   ]
  }
 ],
 "metadata": {
  "kernelspec": {
   "display_name": "Python 3 (ipykernel)",
   "language": "python",
   "name": "python3"
  },
  "language_info": {
   "codemirror_mode": {
    "name": "ipython",
    "version": 3
   },
   "file_extension": ".py",
   "mimetype": "text/x-python",
   "name": "python",
   "nbconvert_exporter": "python",
   "pygments_lexer": "ipython3",
   "version": "3.9.12"
  }
 },
 "nbformat": 4,
 "nbformat_minor": 5
}
